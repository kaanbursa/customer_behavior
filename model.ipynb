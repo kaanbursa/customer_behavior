{
  "nbformat": 4,
  "nbformat_minor": 0,
  "metadata": {
    "colab": {
      "name": "model_fitting.ipynb",
      "provenance": [],
      "collapsed_sections": [],
      "machine_shape": "hm",
      "include_colab_link": true
    },
    "kernelspec": {
      "name": "python3",
      "display_name": "Python 3"
    },
    "accelerator": "GPU"
  },
  "cells": [
    {
      "cell_type": "markdown",
      "metadata": {
        "id": "view-in-github",
        "colab_type": "text"
      },
      "source": [
        "<a href=\"https://colab.research.google.com/github/kaanbursa/customer_behavior/blob/master/model.ipynb\" target=\"_parent\"><img src=\"https://colab.research.google.com/assets/colab-badge.svg\" alt=\"Open In Colab\"/></a>"
      ]
    },
    {
      "cell_type": "markdown",
      "metadata": {
        "id": "HOs9-_e-zcfW",
        "colab_type": "text"
      },
      "source": [
        "This notebook is extension of EDA.ipynb"
      ]
    },
    {
      "cell_type": "markdown",
      "metadata": {
        "id": "0VUkrKJ6y5i8",
        "colab_type": "text"
      },
      "source": [
        "# Mount with Google Drive"
      ]
    },
    {
      "cell_type": "code",
      "metadata": {
        "id": "YFXWFB7078ZC",
        "colab_type": "code",
        "colab": {
          "base_uri": "https://localhost:8080/",
          "height": 122
        },
        "outputId": "7c03bb65-3267-4205-b145-94b100e1a90f"
      },
      "source": [
        "from google.colab import drive\n",
        "drive.mount('/content/drive')"
      ],
      "execution_count": 2,
      "outputs": [
        {
          "output_type": "stream",
          "text": [
            "Go to this URL in a browser: https://accounts.google.com/o/oauth2/auth?client_id=947318989803-6bn6qk8qdgf4n4g3pfee6491hc0brc4i.apps.googleusercontent.com&redirect_uri=urn%3aietf%3awg%3aoauth%3a2.0%3aoob&response_type=code&scope=email%20https%3a%2f%2fwww.googleapis.com%2fauth%2fdocs.test%20https%3a%2f%2fwww.googleapis.com%2fauth%2fdrive%20https%3a%2f%2fwww.googleapis.com%2fauth%2fdrive.photos.readonly%20https%3a%2f%2fwww.googleapis.com%2fauth%2fpeopleapi.readonly\n",
            "\n",
            "Enter your authorization code:\n",
            "··········\n",
            "Mounted at /content/drive\n"
          ],
          "name": "stdout"
        }
      ]
    },
    {
      "cell_type": "markdown",
      "metadata": {
        "id": "idMc0Dq9zW4a",
        "colab_type": "text"
      },
      "source": [
        "# Load Libraries"
      ]
    },
    {
      "cell_type": "code",
      "metadata": {
        "id": "vAuwJewNYVlv",
        "colab_type": "code",
        "colab": {
          "base_uri": "https://localhost:8080/",
          "height": 105
        },
        "outputId": "b0fe47f4-4690-4057-8bdc-5a1388c43427"
      },
      "source": [
        "import pandas as pd\n",
        "import numpy as np\n",
        "import matplotlib.pyplot as plt\n",
        "from sklearn.model_selection import train_test_split\n",
        "from sklearn.metrics import accuracy_score, confusion_matrix, classification_report, plot_confusion_matrix, roc_auc_score\n",
        "from sklearn.tree import DecisionTreeClassifier\n",
        "from sklearn.ensemble import BaggingClassifier, RandomForestClassifier\n",
        "from xgboost import XGBClassifier\n",
        "import seaborn as sns\n",
        "%matplotlib inline\n",
        "from sklearn.preprocessing import LabelEncoder, OneHotEncoder, StandardScaler\n",
        "from sklearn.decomposition import PCA\n",
        "from sklearn.linear_model import LogisticRegression\n",
        "from sklearn.pipeline import Pipeline\n",
        "from sklearn import svm\n",
        "from sklearn import tree\n",
        "from sklearn.model_selection import GridSearchCV\n",
        "from sklearn.ensemble import AdaBoostClassifier\n",
        "from imblearn.over_sampling import SMOTE\n",
        "from pandas.api.types import is_string_dtype\n",
        "from shuyu import *"
      ],
      "execution_count": 3,
      "outputs": [
        {
          "output_type": "stream",
          "text": [
            "/usr/local/lib/python3.6/dist-packages/sklearn/externals/six.py:31: FutureWarning: The module is deprecated in version 0.21 and will be removed in version 0.23 since we've dropped support for Python 2.7. Please rely on the official version of six (https://pypi.org/project/six/).\n",
            "  \"(https://pypi.org/project/six/).\", FutureWarning)\n",
            "/usr/local/lib/python3.6/dist-packages/sklearn/utils/deprecation.py:144: FutureWarning: The sklearn.neighbors.base module is  deprecated in version 0.22 and will be removed in version 0.24. The corresponding classes / functions should instead be imported from sklearn.neighbors. Anything that cannot be imported from sklearn.neighbors is now part of the private API.\n",
            "  warnings.warn(message, FutureWarning)\n"
          ],
          "name": "stderr"
        }
      ]
    },
    {
      "cell_type": "markdown",
      "metadata": {
        "id": "feFnW6xnz1--",
        "colab_type": "text"
      },
      "source": [
        "\n",
        "# Load dataset"
      ]
    },
    {
      "cell_type": "code",
      "metadata": {
        "id": "VksuuWMZfjgf",
        "colab_type": "code",
        "colab": {}
      },
      "source": [
        "clean_df = pd.read_csv('/content/drive/My Drive/Colab Notebooks/preprocessed_train.csv')"
      ],
      "execution_count": 0,
      "outputs": []
    },
    {
      "cell_type": "code",
      "metadata": {
        "id": "SSVfbnyjfl4y",
        "colab_type": "code",
        "colab": {
          "base_uri": "https://localhost:8080/",
          "height": 326
        },
        "outputId": "7ef2293f-ad5d-452a-bd07-16eaccfe8451"
      },
      "source": [
        "clean_df.head()"
      ],
      "execution_count": 5,
      "outputs": [
        {
          "output_type": "execute_result",
          "data": {
            "text/html": [
              "<div>\n",
              "<style scoped>\n",
              "    .dataframe tbody tr th:only-of-type {\n",
              "        vertical-align: middle;\n",
              "    }\n",
              "\n",
              "    .dataframe tbody tr th {\n",
              "        vertical-align: top;\n",
              "    }\n",
              "\n",
              "    .dataframe thead th {\n",
              "        text-align: right;\n",
              "    }\n",
              "</style>\n",
              "<table border=\"1\" class=\"dataframe\">\n",
              "  <thead>\n",
              "    <tr style=\"text-align: right;\">\n",
              "      <th></th>\n",
              "      <th>Unnamed: 0</th>\n",
              "      <th>date</th>\n",
              "      <th>customerid</th>\n",
              "      <th>employee_index</th>\n",
              "      <th>country_residence</th>\n",
              "      <th>gender</th>\n",
              "      <th>age</th>\n",
              "      <th>date_of_first_holder_contract</th>\n",
              "      <th>new_customer_index</th>\n",
              "      <th>customer_seniority</th>\n",
              "      <th>primary_or_not</th>\n",
              "      <th>customer_type_at_beginning_of_month</th>\n",
              "      <th>customer_relation_at_beginning_of_month</th>\n",
              "      <th>residence_index</th>\n",
              "      <th>foreigner_index</th>\n",
              "      <th>channel</th>\n",
              "      <th>decreased_index</th>\n",
              "      <th>address_type</th>\n",
              "      <th>province_code</th>\n",
              "      <th>province_name</th>\n",
              "      <th>active_or_not</th>\n",
              "      <th>gross_income</th>\n",
              "      <th>segmentation</th>\n",
              "      <th>saving_account</th>\n",
              "      <th>guarantees</th>\n",
              "      <th>current_accounts</th>\n",
              "      <th>derivada_accounts</th>\n",
              "      <th>payroll_accounts</th>\n",
              "      <th>junior_accounts</th>\n",
              "      <th>mas_particular_accounts</th>\n",
              "      <th>particular_accounts</th>\n",
              "      <th>particular_plus</th>\n",
              "      <th>short_term_deposits</th>\n",
              "      <th>medium_term_deposits</th>\n",
              "      <th>long_term_deposits</th>\n",
              "      <th>e_account</th>\n",
              "      <th>funds</th>\n",
              "      <th>mortgage</th>\n",
              "      <th>pensions_plan</th>\n",
              "      <th>loans</th>\n",
              "      <th>tax</th>\n",
              "      <th>credit_card</th>\n",
              "      <th>securities</th>\n",
              "      <th>home_account</th>\n",
              "      <th>payroll</th>\n",
              "      <th>pensions</th>\n",
              "      <th>direct_debit</th>\n",
              "    </tr>\n",
              "  </thead>\n",
              "  <tbody>\n",
              "    <tr>\n",
              "      <th>0</th>\n",
              "      <td>0</td>\n",
              "      <td>2015-01-28</td>\n",
              "      <td>1375586</td>\n",
              "      <td>3</td>\n",
              "      <td>2</td>\n",
              "      <td>0</td>\n",
              "      <td>35</td>\n",
              "      <td>2015-01-12</td>\n",
              "      <td>0.0</td>\n",
              "      <td>263</td>\n",
              "      <td>1.0</td>\n",
              "      <td>0</td>\n",
              "      <td>0</td>\n",
              "      <td>1</td>\n",
              "      <td>0</td>\n",
              "      <td>150</td>\n",
              "      <td>0</td>\n",
              "      <td>1.0</td>\n",
              "      <td>29.0</td>\n",
              "      <td>31</td>\n",
              "      <td>1.0</td>\n",
              "      <td>87218.10</td>\n",
              "      <td>1</td>\n",
              "      <td>0</td>\n",
              "      <td>0</td>\n",
              "      <td>1</td>\n",
              "      <td>0</td>\n",
              "      <td>0</td>\n",
              "      <td>0</td>\n",
              "      <td>0</td>\n",
              "      <td>0</td>\n",
              "      <td>0</td>\n",
              "      <td>0</td>\n",
              "      <td>0</td>\n",
              "      <td>0</td>\n",
              "      <td>0</td>\n",
              "      <td>0</td>\n",
              "      <td>0</td>\n",
              "      <td>0</td>\n",
              "      <td>0</td>\n",
              "      <td>0</td>\n",
              "      <td>0</td>\n",
              "      <td>0</td>\n",
              "      <td>0</td>\n",
              "      <td>0.0</td>\n",
              "      <td>0.0</td>\n",
              "      <td>0</td>\n",
              "    </tr>\n",
              "    <tr>\n",
              "      <th>1</th>\n",
              "      <td>1</td>\n",
              "      <td>2015-01-28</td>\n",
              "      <td>1050611</td>\n",
              "      <td>3</td>\n",
              "      <td>2</td>\n",
              "      <td>1</td>\n",
              "      <td>23</td>\n",
              "      <td>2012-08-10</td>\n",
              "      <td>0.0</td>\n",
              "      <td>292</td>\n",
              "      <td>1.0</td>\n",
              "      <td>0</td>\n",
              "      <td>1</td>\n",
              "      <td>1</td>\n",
              "      <td>1</td>\n",
              "      <td>147</td>\n",
              "      <td>0</td>\n",
              "      <td>1.0</td>\n",
              "      <td>13.0</td>\n",
              "      <td>16</td>\n",
              "      <td>0.0</td>\n",
              "      <td>35548.74</td>\n",
              "      <td>2</td>\n",
              "      <td>0</td>\n",
              "      <td>0</td>\n",
              "      <td>1</td>\n",
              "      <td>0</td>\n",
              "      <td>0</td>\n",
              "      <td>0</td>\n",
              "      <td>0</td>\n",
              "      <td>0</td>\n",
              "      <td>0</td>\n",
              "      <td>0</td>\n",
              "      <td>0</td>\n",
              "      <td>0</td>\n",
              "      <td>0</td>\n",
              "      <td>0</td>\n",
              "      <td>0</td>\n",
              "      <td>0</td>\n",
              "      <td>0</td>\n",
              "      <td>0</td>\n",
              "      <td>0</td>\n",
              "      <td>0</td>\n",
              "      <td>0</td>\n",
              "      <td>0.0</td>\n",
              "      <td>0.0</td>\n",
              "      <td>0</td>\n",
              "    </tr>\n",
              "    <tr>\n",
              "      <th>2</th>\n",
              "      <td>2</td>\n",
              "      <td>2015-01-28</td>\n",
              "      <td>1050612</td>\n",
              "      <td>3</td>\n",
              "      <td>2</td>\n",
              "      <td>1</td>\n",
              "      <td>23</td>\n",
              "      <td>2012-08-10</td>\n",
              "      <td>0.0</td>\n",
              "      <td>292</td>\n",
              "      <td>1.0</td>\n",
              "      <td>0</td>\n",
              "      <td>1</td>\n",
              "      <td>1</td>\n",
              "      <td>0</td>\n",
              "      <td>147</td>\n",
              "      <td>0</td>\n",
              "      <td>1.0</td>\n",
              "      <td>13.0</td>\n",
              "      <td>16</td>\n",
              "      <td>0.0</td>\n",
              "      <td>122179.11</td>\n",
              "      <td>2</td>\n",
              "      <td>0</td>\n",
              "      <td>0</td>\n",
              "      <td>1</td>\n",
              "      <td>0</td>\n",
              "      <td>0</td>\n",
              "      <td>0</td>\n",
              "      <td>0</td>\n",
              "      <td>0</td>\n",
              "      <td>0</td>\n",
              "      <td>0</td>\n",
              "      <td>0</td>\n",
              "      <td>0</td>\n",
              "      <td>0</td>\n",
              "      <td>0</td>\n",
              "      <td>0</td>\n",
              "      <td>0</td>\n",
              "      <td>0</td>\n",
              "      <td>0</td>\n",
              "      <td>0</td>\n",
              "      <td>0</td>\n",
              "      <td>0</td>\n",
              "      <td>0.0</td>\n",
              "      <td>0.0</td>\n",
              "      <td>0</td>\n",
              "    </tr>\n",
              "    <tr>\n",
              "      <th>3</th>\n",
              "      <td>3</td>\n",
              "      <td>2015-01-28</td>\n",
              "      <td>1050613</td>\n",
              "      <td>3</td>\n",
              "      <td>2</td>\n",
              "      <td>0</td>\n",
              "      <td>22</td>\n",
              "      <td>2012-08-10</td>\n",
              "      <td>0.0</td>\n",
              "      <td>292</td>\n",
              "      <td>1.0</td>\n",
              "      <td>0</td>\n",
              "      <td>1</td>\n",
              "      <td>1</td>\n",
              "      <td>0</td>\n",
              "      <td>146</td>\n",
              "      <td>0</td>\n",
              "      <td>1.0</td>\n",
              "      <td>50.0</td>\n",
              "      <td>51</td>\n",
              "      <td>0.0</td>\n",
              "      <td>119775.54</td>\n",
              "      <td>2</td>\n",
              "      <td>0</td>\n",
              "      <td>0</td>\n",
              "      <td>0</td>\n",
              "      <td>0</td>\n",
              "      <td>0</td>\n",
              "      <td>0</td>\n",
              "      <td>0</td>\n",
              "      <td>0</td>\n",
              "      <td>0</td>\n",
              "      <td>1</td>\n",
              "      <td>0</td>\n",
              "      <td>0</td>\n",
              "      <td>0</td>\n",
              "      <td>0</td>\n",
              "      <td>0</td>\n",
              "      <td>0</td>\n",
              "      <td>0</td>\n",
              "      <td>0</td>\n",
              "      <td>0</td>\n",
              "      <td>0</td>\n",
              "      <td>0</td>\n",
              "      <td>0.0</td>\n",
              "      <td>0.0</td>\n",
              "      <td>0</td>\n",
              "    </tr>\n",
              "    <tr>\n",
              "      <th>4</th>\n",
              "      <td>5</td>\n",
              "      <td>2015-01-28</td>\n",
              "      <td>1050615</td>\n",
              "      <td>3</td>\n",
              "      <td>2</td>\n",
              "      <td>0</td>\n",
              "      <td>23</td>\n",
              "      <td>2012-08-10</td>\n",
              "      <td>0.0</td>\n",
              "      <td>292</td>\n",
              "      <td>1.0</td>\n",
              "      <td>0</td>\n",
              "      <td>1</td>\n",
              "      <td>1</td>\n",
              "      <td>0</td>\n",
              "      <td>147</td>\n",
              "      <td>0</td>\n",
              "      <td>1.0</td>\n",
              "      <td>45.0</td>\n",
              "      <td>47</td>\n",
              "      <td>0.0</td>\n",
              "      <td>22220.04</td>\n",
              "      <td>2</td>\n",
              "      <td>0</td>\n",
              "      <td>0</td>\n",
              "      <td>1</td>\n",
              "      <td>0</td>\n",
              "      <td>0</td>\n",
              "      <td>0</td>\n",
              "      <td>0</td>\n",
              "      <td>0</td>\n",
              "      <td>0</td>\n",
              "      <td>0</td>\n",
              "      <td>0</td>\n",
              "      <td>0</td>\n",
              "      <td>0</td>\n",
              "      <td>0</td>\n",
              "      <td>0</td>\n",
              "      <td>0</td>\n",
              "      <td>0</td>\n",
              "      <td>0</td>\n",
              "      <td>0</td>\n",
              "      <td>0</td>\n",
              "      <td>0</td>\n",
              "      <td>0.0</td>\n",
              "      <td>0.0</td>\n",
              "      <td>0</td>\n",
              "    </tr>\n",
              "  </tbody>\n",
              "</table>\n",
              "</div>"
            ],
            "text/plain": [
              "   Unnamed: 0        date  customerid  ...  payroll  pensions  direct_debit\n",
              "0           0  2015-01-28     1375586  ...      0.0       0.0             0\n",
              "1           1  2015-01-28     1050611  ...      0.0       0.0             0\n",
              "2           2  2015-01-28     1050612  ...      0.0       0.0             0\n",
              "3           3  2015-01-28     1050613  ...      0.0       0.0             0\n",
              "4           5  2015-01-28     1050615  ...      0.0       0.0             0\n",
              "\n",
              "[5 rows x 47 columns]"
            ]
          },
          "metadata": {
            "tags": []
          },
          "execution_count": 5
        }
      ]
    },
    {
      "cell_type": "code",
      "metadata": {
        "id": "DKKiv_ZpfrC7",
        "colab_type": "code",
        "colab": {}
      },
      "source": [
        "clean_df.drop('Unnamed: 0',axis=1,inplace=True)"
      ],
      "execution_count": 0,
      "outputs": []
    },
    {
      "cell_type": "markdown",
      "metadata": {
        "id": "j2hp7apuz8Cy",
        "colab_type": "text"
      },
      "source": [
        "# Train test split"
      ]
    },
    {
      "cell_type": "code",
      "metadata": {
        "id": "ZwYdzgco7L-f",
        "colab_type": "code",
        "colab": {}
      },
      "source": [
        "clean_df['date2'] = pd.DatetimeIndex(clean_df['date_of_first_holder_contract']).asi8\n",
        "clean_df['date1'] = pd.DatetimeIndex(clean_df['date']).asi8\n",
        "clean_df = clean_df.drop(['date_of_first_holder_contract','date'],axis=1)\n",
        "msk = np.random.rand(len(clean_df)) < 0.8\n",
        "train_df = clean_df[msk]\n",
        "test_df = clean_df[~msk]"
      ],
      "execution_count": 0,
      "outputs": []
    },
    {
      "cell_type": "markdown",
      "metadata": {
        "id": "yp5jzHOGz_sk",
        "colab_type": "text"
      },
      "source": [
        "We will take 100,000 sampling from train datsset and seperate predictors and target"
      ]
    },
    {
      "cell_type": "code",
      "metadata": {
        "id": "u8Sazoexj9IL",
        "colab_type": "code",
        "colab": {}
      },
      "source": [
        "sample_df = train_df.sample(100000,random_state=1)"
      ],
      "execution_count": 0,
      "outputs": []
    },
    {
      "cell_type": "code",
      "metadata": {
        "id": "GvHs0PWNgls9",
        "colab_type": "code",
        "colab": {}
      },
      "source": [
        "train_target = train_df['current_accounts']\n",
        "predictors = train_df.drop(['saving_account', 'guarantees', 'current_accounts',\n",
        "       'derivada_accounts', 'payroll_accounts', 'junior_accounts',\n",
        "       'mas_particular_accounts', 'particular_accounts', 'particular_plus',\n",
        "       'short_term_deposits', 'medium_term_deposits', 'long_term_deposits',\n",
        "       'e_account', 'funds', 'mortgage', 'pensions_plan', 'loans', 'tax',\n",
        "       'credit_card', 'securities', 'home_account', 'payroll', 'pensions',\n",
        "       'direct_debit'], axis=1)\n"
      ],
      "execution_count": 0,
      "outputs": []
    },
    {
      "cell_type": "code",
      "metadata": {
        "id": "hleQthArkxko",
        "colab_type": "code",
        "colab": {}
      },
      "source": [
        "test_target = test_df['current_accounts']\n",
        "test_predictors = test_df.drop(['saving_account', 'guarantees', 'current_accounts',\n",
        "       'derivada_accounts', 'payroll_accounts', 'junior_accounts',\n",
        "       'mas_particular_accounts', 'particular_accounts', 'particular_plus',\n",
        "       'short_term_deposits', 'medium_term_deposits', 'long_term_deposits',\n",
        "       'e_account', 'funds', 'mortgage', 'pensions_plan', 'loans', 'tax',\n",
        "       'credit_card', 'securities', 'home_account', 'payroll', 'pensions',\n",
        "       'direct_debit'], axis=1)\n",
        "\n",
        "\n"
      ],
      "execution_count": 0,
      "outputs": []
    },
    {
      "cell_type": "markdown",
      "metadata": {
        "id": "q7ukk5RD0UOP",
        "colab_type": "text"
      },
      "source": [
        "# Train Validation Split"
      ]
    },
    {
      "cell_type": "code",
      "metadata": {
        "id": "IxWnCc3A8rrr",
        "colab_type": "code",
        "colab": {}
      },
      "source": [
        "# sm = SMOTE(random_state=2)\n",
        "# predictors_res, target_res = sm.fit_sample(predictors, train_target)\n",
        "X_train, X_val, y_train, y_val = train_test_split(predictors_res,target_res , test_size=0.2, random_state=42)\n"
      ],
      "execution_count": 0,
      "outputs": []
    },
    {
      "cell_type": "markdown",
      "metadata": {
        "id": "_PZO7Sen0d14",
        "colab_type": "text"
      },
      "source": [
        "# Baseline Model with Logistic regression"
      ]
    },
    {
      "cell_type": "code",
      "metadata": {
        "id": "jxtif73XhQtZ",
        "colab_type": "code",
        "colab": {
          "base_uri": "https://localhost:8080/",
          "height": 68
        },
        "outputId": "d7742c15-b0aa-433c-fb8d-7079bf2b0ee4"
      },
      "source": [
        "pipe_lr = Pipeline([('scl', StandardScaler()),\n",
        "         ('clf', LogisticRegression(random_state=123))])\n",
        "\n",
        "# Fit the pipelines\n",
        "pipe_lr.fit(X_train,y_train)\n",
        "print(pipe_lr.score(X_train, y_train))\n",
        "print(pipe_lr.score(X_val, y_val))\n",
        "roc_auc_score(y_val, pipe_lr.predict(X_val))"
      ],
      "execution_count": 17,
      "outputs": [
        {
          "output_type": "stream",
          "text": [
            "0.6862946740303434\n",
            "0.6840661956542439\n"
          ],
          "name": "stdout"
        },
        {
          "output_type": "execute_result",
          "data": {
            "text/plain": [
              "0.684093647413031"
            ]
          },
          "metadata": {
            "tags": []
          },
          "execution_count": 17
        }
      ]
    },
    {
      "cell_type": "markdown",
      "metadata": {
        "id": "-_QuMQXt0_tH",
        "colab_type": "text"
      },
      "source": [
        "# Pipeline with SVM, Decision Tree and Random Forest models"
      ]
    },
    {
      "cell_type": "code",
      "metadata": {
        "id": "PsXNc2vNhSPE",
        "colab_type": "code",
        "colab": {
          "base_uri": "https://localhost:8080/",
          "height": 731
        },
        "outputId": "6d799478-4a38-4ce1-d624-38d15f7d1c96"
      },
      "source": [
        "pipe_svm = Pipeline([('scl', StandardScaler()),\n",
        "        ('clf', svm.SVC(random_state=123))])\n",
        "        \n",
        "pipe_tree = Pipeline([\n",
        "        ('clf', tree.DecisionTreeClassifier(random_state=123))])\n",
        "\n",
        "pipe_rf = Pipeline([\n",
        "        ('clf', RandomForestClassifier(random_state=123))])\n",
        "\n",
        "# List of pipelines, List of pipeline names\n",
        "pipelines = [pipe_svm, pipe_tree, pipe_rf]\n",
        "pipeline_names = ['Support Vector Machine','Decision Tree','Random Forest']\n",
        "\n",
        "# Loop to fit each of the three pipelines\n",
        "for pipe in pipelines:\n",
        "    print(pipe)\n",
        "    pipe.fit(X_train, y_train)\n",
        "\n",
        "# Compare accuracies\n",
        "for index, val in enumerate(pipelines):\n",
        "    print('%s pipeline validation accuracy: %.3f' % (pipeline_names[index], val.score(X_val, y_val)))\n",
        "    print('%s pipeline validation ROC score: %.3f' % (pipeline_names[index], roc_auc_score(y_val, val.predict(X_val))))"
      ],
      "execution_count": 66,
      "outputs": [
        {
          "output_type": "stream",
          "text": [
            "Pipeline(memory=None,\n",
            "         steps=[('scl',\n",
            "                 StandardScaler(copy=True, with_mean=True, with_std=True)),\n",
            "                ('clf',\n",
            "                 SVC(C=1.0, break_ties=False, cache_size=200, class_weight=None,\n",
            "                     coef0=0.0, decision_function_shape='ovr', degree=3,\n",
            "                     gamma='scale', kernel='rbf', max_iter=-1,\n",
            "                     probability=False, random_state=123, shrinking=True,\n",
            "                     tol=0.001, verbose=False))],\n",
            "         verbose=False)\n",
            "Pipeline(memory=None,\n",
            "         steps=[('clf',\n",
            "                 DecisionTreeClassifier(ccp_alpha=0.0, class_weight=None,\n",
            "                                        criterion='gini', max_depth=None,\n",
            "                                        max_features=None, max_leaf_nodes=None,\n",
            "                                        min_impurity_decrease=0.0,\n",
            "                                        min_impurity_split=None,\n",
            "                                        min_samples_leaf=1, min_samples_split=2,\n",
            "                                        min_weight_fraction_leaf=0.0,\n",
            "                                        presort='deprecated', random_state=123,\n",
            "                                        splitter='best'))],\n",
            "         verbose=False)\n",
            "Pipeline(memory=None,\n",
            "         steps=[('clf',\n",
            "                 RandomForestClassifier(bootstrap=True, ccp_alpha=0.0,\n",
            "                                        class_weight=None, criterion='gini',\n",
            "                                        max_depth=None, max_features='auto',\n",
            "                                        max_leaf_nodes=None, max_samples=None,\n",
            "                                        min_impurity_decrease=0.0,\n",
            "                                        min_impurity_split=None,\n",
            "                                        min_samples_leaf=1, min_samples_split=2,\n",
            "                                        min_weight_fraction_leaf=0.0,\n",
            "                                        n_estimators=100, n_jobs=None,\n",
            "                                        oob_score=False, random_state=123,\n",
            "                                        verbose=0, warm_start=False))],\n",
            "         verbose=False)\n",
            "Support Vector Machine pipeline validation accuracy: 0.764\n",
            "Support Vector Machine pipeline validation ROC score: 0.765\n",
            "Decision Tree pipeline validation accuracy: 0.745\n",
            "Decision Tree pipeline validation ROC score: 0.745\n",
            "Random Forest pipeline validation accuracy: 0.812\n",
            "Random Forest pipeline validation ROC score: 0.812\n"
          ],
          "name": "stdout"
        }
      ]
    },
    {
      "cell_type": "markdown",
      "metadata": {
        "id": "4jY7UR6hW0Hy",
        "colab_type": "text"
      },
      "source": [
        "## RandomForest with Gridsearch"
      ]
    },
    {
      "cell_type": "markdown",
      "metadata": {
        "id": "fOf3u-Dd3Cxa",
        "colab_type": "text"
      },
      "source": [
        "First iteration with exhaust search of all possible parameters"
      ]
    },
    {
      "cell_type": "code",
      "metadata": {
        "id": "_FbxUcmVq8fp",
        "colab_type": "code",
        "colab": {
          "base_uri": "https://localhost:8080/",
          "height": 1000
        },
        "outputId": "732fe6c4-3bb3-4edd-b917-c644f5da5785"
      },
      "source": [
        "pipe_rf = Pipeline([\n",
        "            ('clf', RandomForestClassifier(random_state = 123))])\n",
        "\n",
        "# Set grid search params\n",
        "param_grid_forest = [ \n",
        "  {'clf__n_estimators': [150],\n",
        "   'clf__max_depth': [5,50,100],  \n",
        "   'clf__min_samples_leaf':[5,50,100],  \n",
        "   'clf__min_samples_split':[5,50,100]\n",
        "  }\n",
        "]\n",
        "\n",
        "# Construct grid search\n",
        "gs_rf = GridSearchCV(estimator=pipe_rf,\n",
        "            param_grid=param_grid_forest,\n",
        "            scoring='accuracy',\n",
        "            verbose=2, return_train_score = True)\n",
        "\n",
        "\n",
        "# Fit using grid search\n",
        "%time gs_rf.fit(X_train, y_train)\n",
        "\n",
        "# Best accuracy\n",
        "print('Best accuracy: %.3f' % gs_rf.best_score_)\n",
        "\n",
        "# Best params\n",
        "print('\\nBest params:\\n', gs_rf.best_params_)\n"
      ],
      "execution_count": 64,
      "outputs": [
        {
          "output_type": "stream",
          "text": [
            "Fitting 5 folds for each of 27 candidates, totalling 135 fits\n",
            "[CV] clf__max_depth=5, clf__min_samples_leaf=5, clf__min_samples_split=5, clf__n_estimators=150 \n"
          ],
          "name": "stdout"
        },
        {
          "output_type": "stream",
          "text": [
            "[Parallel(n_jobs=1)]: Using backend SequentialBackend with 1 concurrent workers.\n"
          ],
          "name": "stderr"
        },
        {
          "output_type": "stream",
          "text": [
            "[CV]  clf__max_depth=5, clf__min_samples_leaf=5, clf__min_samples_split=5, clf__n_estimators=150, total=   6.2s\n",
            "[CV] clf__max_depth=5, clf__min_samples_leaf=5, clf__min_samples_split=5, clf__n_estimators=150 \n"
          ],
          "name": "stdout"
        },
        {
          "output_type": "stream",
          "text": [
            "[Parallel(n_jobs=1)]: Done   1 out of   1 | elapsed:    6.9s remaining:    0.0s\n"
          ],
          "name": "stderr"
        },
        {
          "output_type": "stream",
          "text": [
            "[CV]  clf__max_depth=5, clf__min_samples_leaf=5, clf__min_samples_split=5, clf__n_estimators=150, total=   6.2s\n",
            "[CV] clf__max_depth=5, clf__min_samples_leaf=5, clf__min_samples_split=5, clf__n_estimators=150 \n",
            "[CV]  clf__max_depth=5, clf__min_samples_leaf=5, clf__min_samples_split=5, clf__n_estimators=150, total=   6.3s\n",
            "[CV] clf__max_depth=5, clf__min_samples_leaf=5, clf__min_samples_split=5, clf__n_estimators=150 \n",
            "[CV]  clf__max_depth=5, clf__min_samples_leaf=5, clf__min_samples_split=5, clf__n_estimators=150, total=   6.3s\n",
            "[CV] clf__max_depth=5, clf__min_samples_leaf=5, clf__min_samples_split=5, clf__n_estimators=150 \n",
            "[CV]  clf__max_depth=5, clf__min_samples_leaf=5, clf__min_samples_split=5, clf__n_estimators=150, total=   6.3s\n",
            "[CV] clf__max_depth=5, clf__min_samples_leaf=5, clf__min_samples_split=50, clf__n_estimators=150 \n",
            "[CV]  clf__max_depth=5, clf__min_samples_leaf=5, clf__min_samples_split=50, clf__n_estimators=150, total=   6.2s\n",
            "[CV] clf__max_depth=5, clf__min_samples_leaf=5, clf__min_samples_split=50, clf__n_estimators=150 \n",
            "[CV]  clf__max_depth=5, clf__min_samples_leaf=5, clf__min_samples_split=50, clf__n_estimators=150, total=   6.1s\n",
            "[CV] clf__max_depth=5, clf__min_samples_leaf=5, clf__min_samples_split=50, clf__n_estimators=150 \n",
            "[CV]  clf__max_depth=5, clf__min_samples_leaf=5, clf__min_samples_split=50, clf__n_estimators=150, total=   6.1s\n",
            "[CV] clf__max_depth=5, clf__min_samples_leaf=5, clf__min_samples_split=50, clf__n_estimators=150 \n",
            "[CV]  clf__max_depth=5, clf__min_samples_leaf=5, clf__min_samples_split=50, clf__n_estimators=150, total=   6.1s\n",
            "[CV] clf__max_depth=5, clf__min_samples_leaf=5, clf__min_samples_split=50, clf__n_estimators=150 \n",
            "[CV]  clf__max_depth=5, clf__min_samples_leaf=5, clf__min_samples_split=50, clf__n_estimators=150, total=   6.0s\n",
            "[CV] clf__max_depth=5, clf__min_samples_leaf=5, clf__min_samples_split=100, clf__n_estimators=150 \n",
            "[CV]  clf__max_depth=5, clf__min_samples_leaf=5, clf__min_samples_split=100, clf__n_estimators=150, total=   6.0s\n",
            "[CV] clf__max_depth=5, clf__min_samples_leaf=5, clf__min_samples_split=100, clf__n_estimators=150 \n",
            "[CV]  clf__max_depth=5, clf__min_samples_leaf=5, clf__min_samples_split=100, clf__n_estimators=150, total=   6.1s\n",
            "[CV] clf__max_depth=5, clf__min_samples_leaf=5, clf__min_samples_split=100, clf__n_estimators=150 \n",
            "[CV]  clf__max_depth=5, clf__min_samples_leaf=5, clf__min_samples_split=100, clf__n_estimators=150, total=   6.0s\n",
            "[CV] clf__max_depth=5, clf__min_samples_leaf=5, clf__min_samples_split=100, clf__n_estimators=150 \n",
            "[CV]  clf__max_depth=5, clf__min_samples_leaf=5, clf__min_samples_split=100, clf__n_estimators=150, total=   6.2s\n",
            "[CV] clf__max_depth=5, clf__min_samples_leaf=5, clf__min_samples_split=100, clf__n_estimators=150 \n",
            "[CV]  clf__max_depth=5, clf__min_samples_leaf=5, clf__min_samples_split=100, clf__n_estimators=150, total=   5.9s\n",
            "[CV] clf__max_depth=5, clf__min_samples_leaf=50, clf__min_samples_split=5, clf__n_estimators=150 \n",
            "[CV]  clf__max_depth=5, clf__min_samples_leaf=50, clf__min_samples_split=5, clf__n_estimators=150, total=   5.8s\n",
            "[CV] clf__max_depth=5, clf__min_samples_leaf=50, clf__min_samples_split=5, clf__n_estimators=150 \n",
            "[CV]  clf__max_depth=5, clf__min_samples_leaf=50, clf__min_samples_split=5, clf__n_estimators=150, total=   5.8s\n",
            "[CV] clf__max_depth=5, clf__min_samples_leaf=50, clf__min_samples_split=5, clf__n_estimators=150 \n",
            "[CV]  clf__max_depth=5, clf__min_samples_leaf=50, clf__min_samples_split=5, clf__n_estimators=150, total=   5.8s\n",
            "[CV] clf__max_depth=5, clf__min_samples_leaf=50, clf__min_samples_split=5, clf__n_estimators=150 \n",
            "[CV]  clf__max_depth=5, clf__min_samples_leaf=50, clf__min_samples_split=5, clf__n_estimators=150, total=   5.9s\n",
            "[CV] clf__max_depth=5, clf__min_samples_leaf=50, clf__min_samples_split=5, clf__n_estimators=150 \n",
            "[CV]  clf__max_depth=5, clf__min_samples_leaf=50, clf__min_samples_split=5, clf__n_estimators=150, total=   5.9s\n",
            "[CV] clf__max_depth=5, clf__min_samples_leaf=50, clf__min_samples_split=50, clf__n_estimators=150 \n",
            "[CV]  clf__max_depth=5, clf__min_samples_leaf=50, clf__min_samples_split=50, clf__n_estimators=150, total=   6.1s\n",
            "[CV] clf__max_depth=5, clf__min_samples_leaf=50, clf__min_samples_split=50, clf__n_estimators=150 \n",
            "[CV]  clf__max_depth=5, clf__min_samples_leaf=50, clf__min_samples_split=50, clf__n_estimators=150, total=   5.8s\n",
            "[CV] clf__max_depth=5, clf__min_samples_leaf=50, clf__min_samples_split=50, clf__n_estimators=150 \n",
            "[CV]  clf__max_depth=5, clf__min_samples_leaf=50, clf__min_samples_split=50, clf__n_estimators=150, total=   6.2s\n",
            "[CV] clf__max_depth=5, clf__min_samples_leaf=50, clf__min_samples_split=50, clf__n_estimators=150 \n",
            "[CV]  clf__max_depth=5, clf__min_samples_leaf=50, clf__min_samples_split=50, clf__n_estimators=150, total=   5.9s\n",
            "[CV] clf__max_depth=5, clf__min_samples_leaf=50, clf__min_samples_split=50, clf__n_estimators=150 \n",
            "[CV]  clf__max_depth=5, clf__min_samples_leaf=50, clf__min_samples_split=50, clf__n_estimators=150, total=   5.8s\n",
            "[CV] clf__max_depth=5, clf__min_samples_leaf=50, clf__min_samples_split=100, clf__n_estimators=150 \n",
            "[CV]  clf__max_depth=5, clf__min_samples_leaf=50, clf__min_samples_split=100, clf__n_estimators=150, total=   5.8s\n",
            "[CV] clf__max_depth=5, clf__min_samples_leaf=50, clf__min_samples_split=100, clf__n_estimators=150 \n",
            "[CV]  clf__max_depth=5, clf__min_samples_leaf=50, clf__min_samples_split=100, clf__n_estimators=150, total=   5.8s\n",
            "[CV] clf__max_depth=5, clf__min_samples_leaf=50, clf__min_samples_split=100, clf__n_estimators=150 \n",
            "[CV]  clf__max_depth=5, clf__min_samples_leaf=50, clf__min_samples_split=100, clf__n_estimators=150, total=   5.9s\n",
            "[CV] clf__max_depth=5, clf__min_samples_leaf=50, clf__min_samples_split=100, clf__n_estimators=150 \n",
            "[CV]  clf__max_depth=5, clf__min_samples_leaf=50, clf__min_samples_split=100, clf__n_estimators=150, total=   6.1s\n",
            "[CV] clf__max_depth=5, clf__min_samples_leaf=50, clf__min_samples_split=100, clf__n_estimators=150 \n",
            "[CV]  clf__max_depth=5, clf__min_samples_leaf=50, clf__min_samples_split=100, clf__n_estimators=150, total=   5.9s\n",
            "[CV] clf__max_depth=5, clf__min_samples_leaf=100, clf__min_samples_split=5, clf__n_estimators=150 \n",
            "[CV]  clf__max_depth=5, clf__min_samples_leaf=100, clf__min_samples_split=5, clf__n_estimators=150, total=   5.8s\n",
            "[CV] clf__max_depth=5, clf__min_samples_leaf=100, clf__min_samples_split=5, clf__n_estimators=150 \n",
            "[CV]  clf__max_depth=5, clf__min_samples_leaf=100, clf__min_samples_split=5, clf__n_estimators=150, total=   6.1s\n",
            "[CV] clf__max_depth=5, clf__min_samples_leaf=100, clf__min_samples_split=5, clf__n_estimators=150 \n",
            "[CV]  clf__max_depth=5, clf__min_samples_leaf=100, clf__min_samples_split=5, clf__n_estimators=150, total=   5.8s\n",
            "[CV] clf__max_depth=5, clf__min_samples_leaf=100, clf__min_samples_split=5, clf__n_estimators=150 \n",
            "[CV]  clf__max_depth=5, clf__min_samples_leaf=100, clf__min_samples_split=5, clf__n_estimators=150, total=   5.8s\n",
            "[CV] clf__max_depth=5, clf__min_samples_leaf=100, clf__min_samples_split=5, clf__n_estimators=150 \n",
            "[CV]  clf__max_depth=5, clf__min_samples_leaf=100, clf__min_samples_split=5, clf__n_estimators=150, total=   5.8s\n",
            "[CV] clf__max_depth=5, clf__min_samples_leaf=100, clf__min_samples_split=50, clf__n_estimators=150 \n",
            "[CV]  clf__max_depth=5, clf__min_samples_leaf=100, clf__min_samples_split=50, clf__n_estimators=150, total=   5.9s\n",
            "[CV] clf__max_depth=5, clf__min_samples_leaf=100, clf__min_samples_split=50, clf__n_estimators=150 \n",
            "[CV]  clf__max_depth=5, clf__min_samples_leaf=100, clf__min_samples_split=50, clf__n_estimators=150, total=   5.7s\n",
            "[CV] clf__max_depth=5, clf__min_samples_leaf=100, clf__min_samples_split=50, clf__n_estimators=150 \n",
            "[CV]  clf__max_depth=5, clf__min_samples_leaf=100, clf__min_samples_split=50, clf__n_estimators=150, total=   6.0s\n",
            "[CV] clf__max_depth=5, clf__min_samples_leaf=100, clf__min_samples_split=50, clf__n_estimators=150 \n",
            "[CV]  clf__max_depth=5, clf__min_samples_leaf=100, clf__min_samples_split=50, clf__n_estimators=150, total=   5.7s\n",
            "[CV] clf__max_depth=5, clf__min_samples_leaf=100, clf__min_samples_split=50, clf__n_estimators=150 \n",
            "[CV]  clf__max_depth=5, clf__min_samples_leaf=100, clf__min_samples_split=50, clf__n_estimators=150, total=   5.8s\n",
            "[CV] clf__max_depth=5, clf__min_samples_leaf=100, clf__min_samples_split=100, clf__n_estimators=150 \n",
            "[CV]  clf__max_depth=5, clf__min_samples_leaf=100, clf__min_samples_split=100, clf__n_estimators=150, total=   5.7s\n",
            "[CV] clf__max_depth=5, clf__min_samples_leaf=100, clf__min_samples_split=100, clf__n_estimators=150 \n",
            "[CV]  clf__max_depth=5, clf__min_samples_leaf=100, clf__min_samples_split=100, clf__n_estimators=150, total=   6.0s\n",
            "[CV] clf__max_depth=5, clf__min_samples_leaf=100, clf__min_samples_split=100, clf__n_estimators=150 \n",
            "[CV]  clf__max_depth=5, clf__min_samples_leaf=100, clf__min_samples_split=100, clf__n_estimators=150, total=   5.8s\n",
            "[CV] clf__max_depth=5, clf__min_samples_leaf=100, clf__min_samples_split=100, clf__n_estimators=150 \n",
            "[CV]  clf__max_depth=5, clf__min_samples_leaf=100, clf__min_samples_split=100, clf__n_estimators=150, total=   5.7s\n",
            "[CV] clf__max_depth=5, clf__min_samples_leaf=100, clf__min_samples_split=100, clf__n_estimators=150 \n",
            "[CV]  clf__max_depth=5, clf__min_samples_leaf=100, clf__min_samples_split=100, clf__n_estimators=150, total=   5.7s\n",
            "[CV] clf__max_depth=50, clf__min_samples_leaf=5, clf__min_samples_split=5, clf__n_estimators=150 \n",
            "[CV]  clf__max_depth=50, clf__min_samples_leaf=5, clf__min_samples_split=5, clf__n_estimators=150, total=  13.5s\n",
            "[CV] clf__max_depth=50, clf__min_samples_leaf=5, clf__min_samples_split=5, clf__n_estimators=150 \n",
            "[CV]  clf__max_depth=50, clf__min_samples_leaf=5, clf__min_samples_split=5, clf__n_estimators=150, total=  13.4s\n",
            "[CV] clf__max_depth=50, clf__min_samples_leaf=5, clf__min_samples_split=5, clf__n_estimators=150 \n",
            "[CV]  clf__max_depth=50, clf__min_samples_leaf=5, clf__min_samples_split=5, clf__n_estimators=150, total=  13.4s\n",
            "[CV] clf__max_depth=50, clf__min_samples_leaf=5, clf__min_samples_split=5, clf__n_estimators=150 \n",
            "[CV]  clf__max_depth=50, clf__min_samples_leaf=5, clf__min_samples_split=5, clf__n_estimators=150, total=  13.0s\n",
            "[CV] clf__max_depth=50, clf__min_samples_leaf=5, clf__min_samples_split=5, clf__n_estimators=150 \n",
            "[CV]  clf__max_depth=50, clf__min_samples_leaf=5, clf__min_samples_split=5, clf__n_estimators=150, total=  13.3s\n",
            "[CV] clf__max_depth=50, clf__min_samples_leaf=5, clf__min_samples_split=50, clf__n_estimators=150 \n",
            "[CV]  clf__max_depth=50, clf__min_samples_leaf=5, clf__min_samples_split=50, clf__n_estimators=150, total=  12.5s\n",
            "[CV] clf__max_depth=50, clf__min_samples_leaf=5, clf__min_samples_split=50, clf__n_estimators=150 \n",
            "[CV]  clf__max_depth=50, clf__min_samples_leaf=5, clf__min_samples_split=50, clf__n_estimators=150, total=  12.5s\n",
            "[CV] clf__max_depth=50, clf__min_samples_leaf=5, clf__min_samples_split=50, clf__n_estimators=150 \n",
            "[CV]  clf__max_depth=50, clf__min_samples_leaf=5, clf__min_samples_split=50, clf__n_estimators=150, total=  12.2s\n",
            "[CV] clf__max_depth=50, clf__min_samples_leaf=5, clf__min_samples_split=50, clf__n_estimators=150 \n",
            "[CV]  clf__max_depth=50, clf__min_samples_leaf=5, clf__min_samples_split=50, clf__n_estimators=150, total=  12.0s\n",
            "[CV] clf__max_depth=50, clf__min_samples_leaf=5, clf__min_samples_split=50, clf__n_estimators=150 \n",
            "[CV]  clf__max_depth=50, clf__min_samples_leaf=5, clf__min_samples_split=50, clf__n_estimators=150, total=  12.2s\n",
            "[CV] clf__max_depth=50, clf__min_samples_leaf=5, clf__min_samples_split=100, clf__n_estimators=150 \n",
            "[CV]  clf__max_depth=50, clf__min_samples_leaf=5, clf__min_samples_split=100, clf__n_estimators=150, total=  11.9s\n",
            "[CV] clf__max_depth=50, clf__min_samples_leaf=5, clf__min_samples_split=100, clf__n_estimators=150 \n",
            "[CV]  clf__max_depth=50, clf__min_samples_leaf=5, clf__min_samples_split=100, clf__n_estimators=150, total=  11.4s\n",
            "[CV] clf__max_depth=50, clf__min_samples_leaf=5, clf__min_samples_split=100, clf__n_estimators=150 \n",
            "[CV]  clf__max_depth=50, clf__min_samples_leaf=5, clf__min_samples_split=100, clf__n_estimators=150, total=  11.5s\n",
            "[CV] clf__max_depth=50, clf__min_samples_leaf=5, clf__min_samples_split=100, clf__n_estimators=150 \n",
            "[CV]  clf__max_depth=50, clf__min_samples_leaf=5, clf__min_samples_split=100, clf__n_estimators=150, total=  11.5s\n",
            "[CV] clf__max_depth=50, clf__min_samples_leaf=5, clf__min_samples_split=100, clf__n_estimators=150 \n",
            "[CV]  clf__max_depth=50, clf__min_samples_leaf=5, clf__min_samples_split=100, clf__n_estimators=150, total=  12.1s\n",
            "[CV] clf__max_depth=50, clf__min_samples_leaf=50, clf__min_samples_split=5, clf__n_estimators=150 \n",
            "[CV]  clf__max_depth=50, clf__min_samples_leaf=50, clf__min_samples_split=5, clf__n_estimators=150, total=  10.0s\n",
            "[CV] clf__max_depth=50, clf__min_samples_leaf=50, clf__min_samples_split=5, clf__n_estimators=150 \n",
            "[CV]  clf__max_depth=50, clf__min_samples_leaf=50, clf__min_samples_split=5, clf__n_estimators=150, total=   9.8s\n",
            "[CV] clf__max_depth=50, clf__min_samples_leaf=50, clf__min_samples_split=5, clf__n_estimators=150 \n",
            "[CV]  clf__max_depth=50, clf__min_samples_leaf=50, clf__min_samples_split=5, clf__n_estimators=150, total=   9.9s\n",
            "[CV] clf__max_depth=50, clf__min_samples_leaf=50, clf__min_samples_split=5, clf__n_estimators=150 \n",
            "[CV]  clf__max_depth=50, clf__min_samples_leaf=50, clf__min_samples_split=5, clf__n_estimators=150, total=   9.8s\n",
            "[CV] clf__max_depth=50, clf__min_samples_leaf=50, clf__min_samples_split=5, clf__n_estimators=150 \n",
            "[CV]  clf__max_depth=50, clf__min_samples_leaf=50, clf__min_samples_split=5, clf__n_estimators=150, total=  10.0s\n",
            "[CV] clf__max_depth=50, clf__min_samples_leaf=50, clf__min_samples_split=50, clf__n_estimators=150 \n",
            "[CV]  clf__max_depth=50, clf__min_samples_leaf=50, clf__min_samples_split=50, clf__n_estimators=150, total=  10.3s\n",
            "[CV] clf__max_depth=50, clf__min_samples_leaf=50, clf__min_samples_split=50, clf__n_estimators=150 \n",
            "[CV]  clf__max_depth=50, clf__min_samples_leaf=50, clf__min_samples_split=50, clf__n_estimators=150, total=   9.9s\n",
            "[CV] clf__max_depth=50, clf__min_samples_leaf=50, clf__min_samples_split=50, clf__n_estimators=150 \n",
            "[CV]  clf__max_depth=50, clf__min_samples_leaf=50, clf__min_samples_split=50, clf__n_estimators=150, total=   9.8s\n",
            "[CV] clf__max_depth=50, clf__min_samples_leaf=50, clf__min_samples_split=50, clf__n_estimators=150 \n",
            "[CV]  clf__max_depth=50, clf__min_samples_leaf=50, clf__min_samples_split=50, clf__n_estimators=150, total=   9.9s\n",
            "[CV] clf__max_depth=50, clf__min_samples_leaf=50, clf__min_samples_split=50, clf__n_estimators=150 \n",
            "[CV]  clf__max_depth=50, clf__min_samples_leaf=50, clf__min_samples_split=50, clf__n_estimators=150, total=  10.0s\n",
            "[CV] clf__max_depth=50, clf__min_samples_leaf=50, clf__min_samples_split=100, clf__n_estimators=150 \n",
            "[CV]  clf__max_depth=50, clf__min_samples_leaf=50, clf__min_samples_split=100, clf__n_estimators=150, total=  10.2s\n",
            "[CV] clf__max_depth=50, clf__min_samples_leaf=50, clf__min_samples_split=100, clf__n_estimators=150 \n",
            "[CV]  clf__max_depth=50, clf__min_samples_leaf=50, clf__min_samples_split=100, clf__n_estimators=150, total=  10.0s\n",
            "[CV] clf__max_depth=50, clf__min_samples_leaf=50, clf__min_samples_split=100, clf__n_estimators=150 \n",
            "[CV]  clf__max_depth=50, clf__min_samples_leaf=50, clf__min_samples_split=100, clf__n_estimators=150, total=   9.9s\n",
            "[CV] clf__max_depth=50, clf__min_samples_leaf=50, clf__min_samples_split=100, clf__n_estimators=150 \n",
            "[CV]  clf__max_depth=50, clf__min_samples_leaf=50, clf__min_samples_split=100, clf__n_estimators=150, total=   9.8s\n",
            "[CV] clf__max_depth=50, clf__min_samples_leaf=50, clf__min_samples_split=100, clf__n_estimators=150 \n",
            "[CV]  clf__max_depth=50, clf__min_samples_leaf=50, clf__min_samples_split=100, clf__n_estimators=150, total=   9.9s\n",
            "[CV] clf__max_depth=50, clf__min_samples_leaf=100, clf__min_samples_split=5, clf__n_estimators=150 \n",
            "[CV]  clf__max_depth=50, clf__min_samples_leaf=100, clf__min_samples_split=5, clf__n_estimators=150, total=   8.9s\n",
            "[CV] clf__max_depth=50, clf__min_samples_leaf=100, clf__min_samples_split=5, clf__n_estimators=150 \n",
            "[CV]  clf__max_depth=50, clf__min_samples_leaf=100, clf__min_samples_split=5, clf__n_estimators=150, total=   9.2s\n",
            "[CV] clf__max_depth=50, clf__min_samples_leaf=100, clf__min_samples_split=5, clf__n_estimators=150 \n",
            "[CV]  clf__max_depth=50, clf__min_samples_leaf=100, clf__min_samples_split=5, clf__n_estimators=150, total=   9.2s\n",
            "[CV] clf__max_depth=50, clf__min_samples_leaf=100, clf__min_samples_split=5, clf__n_estimators=150 \n",
            "[CV]  clf__max_depth=50, clf__min_samples_leaf=100, clf__min_samples_split=5, clf__n_estimators=150, total=   9.5s\n",
            "[CV] clf__max_depth=50, clf__min_samples_leaf=100, clf__min_samples_split=5, clf__n_estimators=150 \n",
            "[CV]  clf__max_depth=50, clf__min_samples_leaf=100, clf__min_samples_split=5, clf__n_estimators=150, total=   9.2s\n",
            "[CV] clf__max_depth=50, clf__min_samples_leaf=100, clf__min_samples_split=50, clf__n_estimators=150 \n",
            "[CV]  clf__max_depth=50, clf__min_samples_leaf=100, clf__min_samples_split=50, clf__n_estimators=150, total=   9.2s\n",
            "[CV] clf__max_depth=50, clf__min_samples_leaf=100, clf__min_samples_split=50, clf__n_estimators=150 \n",
            "[CV]  clf__max_depth=50, clf__min_samples_leaf=100, clf__min_samples_split=50, clf__n_estimators=150, total=   9.0s\n",
            "[CV] clf__max_depth=50, clf__min_samples_leaf=100, clf__min_samples_split=50, clf__n_estimators=150 \n",
            "[CV]  clf__max_depth=50, clf__min_samples_leaf=100, clf__min_samples_split=50, clf__n_estimators=150, total=   9.3s\n",
            "[CV] clf__max_depth=50, clf__min_samples_leaf=100, clf__min_samples_split=50, clf__n_estimators=150 \n",
            "[CV]  clf__max_depth=50, clf__min_samples_leaf=100, clf__min_samples_split=50, clf__n_estimators=150, total=   9.3s\n",
            "[CV] clf__max_depth=50, clf__min_samples_leaf=100, clf__min_samples_split=50, clf__n_estimators=150 \n",
            "[CV]  clf__max_depth=50, clf__min_samples_leaf=100, clf__min_samples_split=50, clf__n_estimators=150, total=   9.0s\n",
            "[CV] clf__max_depth=50, clf__min_samples_leaf=100, clf__min_samples_split=100, clf__n_estimators=150 \n",
            "[CV]  clf__max_depth=50, clf__min_samples_leaf=100, clf__min_samples_split=100, clf__n_estimators=150, total=   9.0s\n",
            "[CV] clf__max_depth=50, clf__min_samples_leaf=100, clf__min_samples_split=100, clf__n_estimators=150 \n",
            "[CV]  clf__max_depth=50, clf__min_samples_leaf=100, clf__min_samples_split=100, clf__n_estimators=150, total=   9.1s\n",
            "[CV] clf__max_depth=50, clf__min_samples_leaf=100, clf__min_samples_split=100, clf__n_estimators=150 \n",
            "[CV]  clf__max_depth=50, clf__min_samples_leaf=100, clf__min_samples_split=100, clf__n_estimators=150, total=   9.1s\n",
            "[CV] clf__max_depth=50, clf__min_samples_leaf=100, clf__min_samples_split=100, clf__n_estimators=150 \n",
            "[CV]  clf__max_depth=50, clf__min_samples_leaf=100, clf__min_samples_split=100, clf__n_estimators=150, total=   9.4s\n",
            "[CV] clf__max_depth=50, clf__min_samples_leaf=100, clf__min_samples_split=100, clf__n_estimators=150 \n",
            "[CV]  clf__max_depth=50, clf__min_samples_leaf=100, clf__min_samples_split=100, clf__n_estimators=150, total=   9.7s\n",
            "[CV] clf__max_depth=100, clf__min_samples_leaf=5, clf__min_samples_split=5, clf__n_estimators=150 \n",
            "[CV]  clf__max_depth=100, clf__min_samples_leaf=5, clf__min_samples_split=5, clf__n_estimators=150, total=  13.5s\n",
            "[CV] clf__max_depth=100, clf__min_samples_leaf=5, clf__min_samples_split=5, clf__n_estimators=150 \n",
            "[CV]  clf__max_depth=100, clf__min_samples_leaf=5, clf__min_samples_split=5, clf__n_estimators=150, total=  13.5s\n",
            "[CV] clf__max_depth=100, clf__min_samples_leaf=5, clf__min_samples_split=5, clf__n_estimators=150 \n",
            "[CV]  clf__max_depth=100, clf__min_samples_leaf=5, clf__min_samples_split=5, clf__n_estimators=150, total=  13.6s\n",
            "[CV] clf__max_depth=100, clf__min_samples_leaf=5, clf__min_samples_split=5, clf__n_estimators=150 \n",
            "[CV]  clf__max_depth=100, clf__min_samples_leaf=5, clf__min_samples_split=5, clf__n_estimators=150, total=  13.9s\n",
            "[CV] clf__max_depth=100, clf__min_samples_leaf=5, clf__min_samples_split=5, clf__n_estimators=150 \n",
            "[CV]  clf__max_depth=100, clf__min_samples_leaf=5, clf__min_samples_split=5, clf__n_estimators=150, total=  13.4s\n",
            "[CV] clf__max_depth=100, clf__min_samples_leaf=5, clf__min_samples_split=50, clf__n_estimators=150 \n",
            "[CV]  clf__max_depth=100, clf__min_samples_leaf=5, clf__min_samples_split=50, clf__n_estimators=150, total=  12.7s\n",
            "[CV] clf__max_depth=100, clf__min_samples_leaf=5, clf__min_samples_split=50, clf__n_estimators=150 \n",
            "[CV]  clf__max_depth=100, clf__min_samples_leaf=5, clf__min_samples_split=50, clf__n_estimators=150, total=  12.7s\n",
            "[CV] clf__max_depth=100, clf__min_samples_leaf=5, clf__min_samples_split=50, clf__n_estimators=150 \n",
            "[CV]  clf__max_depth=100, clf__min_samples_leaf=5, clf__min_samples_split=50, clf__n_estimators=150, total=  12.8s\n",
            "[CV] clf__max_depth=100, clf__min_samples_leaf=5, clf__min_samples_split=50, clf__n_estimators=150 \n",
            "[CV]  clf__max_depth=100, clf__min_samples_leaf=5, clf__min_samples_split=50, clf__n_estimators=150, total=  12.6s\n",
            "[CV] clf__max_depth=100, clf__min_samples_leaf=5, clf__min_samples_split=50, clf__n_estimators=150 \n",
            "[CV]  clf__max_depth=100, clf__min_samples_leaf=5, clf__min_samples_split=50, clf__n_estimators=150, total=  12.7s\n",
            "[CV] clf__max_depth=100, clf__min_samples_leaf=5, clf__min_samples_split=100, clf__n_estimators=150 \n",
            "[CV]  clf__max_depth=100, clf__min_samples_leaf=5, clf__min_samples_split=100, clf__n_estimators=150, total=  11.5s\n",
            "[CV] clf__max_depth=100, clf__min_samples_leaf=5, clf__min_samples_split=100, clf__n_estimators=150 \n",
            "[CV]  clf__max_depth=100, clf__min_samples_leaf=5, clf__min_samples_split=100, clf__n_estimators=150, total=  11.7s\n",
            "[CV] clf__max_depth=100, clf__min_samples_leaf=5, clf__min_samples_split=100, clf__n_estimators=150 \n",
            "[CV]  clf__max_depth=100, clf__min_samples_leaf=5, clf__min_samples_split=100, clf__n_estimators=150, total=  11.5s\n",
            "[CV] clf__max_depth=100, clf__min_samples_leaf=5, clf__min_samples_split=100, clf__n_estimators=150 \n",
            "[CV]  clf__max_depth=100, clf__min_samples_leaf=5, clf__min_samples_split=100, clf__n_estimators=150, total=  11.5s\n",
            "[CV] clf__max_depth=100, clf__min_samples_leaf=5, clf__min_samples_split=100, clf__n_estimators=150 \n",
            "[CV]  clf__max_depth=100, clf__min_samples_leaf=5, clf__min_samples_split=100, clf__n_estimators=150, total=  11.6s\n",
            "[CV] clf__max_depth=100, clf__min_samples_leaf=50, clf__min_samples_split=5, clf__n_estimators=150 \n",
            "[CV]  clf__max_depth=100, clf__min_samples_leaf=50, clf__min_samples_split=5, clf__n_estimators=150, total=  10.5s\n",
            "[CV] clf__max_depth=100, clf__min_samples_leaf=50, clf__min_samples_split=5, clf__n_estimators=150 \n",
            "[CV]  clf__max_depth=100, clf__min_samples_leaf=50, clf__min_samples_split=5, clf__n_estimators=150, total=  10.2s\n",
            "[CV] clf__max_depth=100, clf__min_samples_leaf=50, clf__min_samples_split=5, clf__n_estimators=150 \n",
            "[CV]  clf__max_depth=100, clf__min_samples_leaf=50, clf__min_samples_split=5, clf__n_estimators=150, total=  10.0s\n",
            "[CV] clf__max_depth=100, clf__min_samples_leaf=50, clf__min_samples_split=5, clf__n_estimators=150 \n",
            "[CV]  clf__max_depth=100, clf__min_samples_leaf=50, clf__min_samples_split=5, clf__n_estimators=150, total=  10.1s\n",
            "[CV] clf__max_depth=100, clf__min_samples_leaf=50, clf__min_samples_split=5, clf__n_estimators=150 \n",
            "[CV]  clf__max_depth=100, clf__min_samples_leaf=50, clf__min_samples_split=5, clf__n_estimators=150, total=   9.9s\n",
            "[CV] clf__max_depth=100, clf__min_samples_leaf=50, clf__min_samples_split=50, clf__n_estimators=150 \n",
            "[CV]  clf__max_depth=100, clf__min_samples_leaf=50, clf__min_samples_split=50, clf__n_estimators=150, total=  10.0s\n",
            "[CV] clf__max_depth=100, clf__min_samples_leaf=50, clf__min_samples_split=50, clf__n_estimators=150 \n",
            "[CV]  clf__max_depth=100, clf__min_samples_leaf=50, clf__min_samples_split=50, clf__n_estimators=150, total=  10.1s\n",
            "[CV] clf__max_depth=100, clf__min_samples_leaf=50, clf__min_samples_split=50, clf__n_estimators=150 \n",
            "[CV]  clf__max_depth=100, clf__min_samples_leaf=50, clf__min_samples_split=50, clf__n_estimators=150, total=  10.2s\n",
            "[CV] clf__max_depth=100, clf__min_samples_leaf=50, clf__min_samples_split=50, clf__n_estimators=150 \n",
            "[CV]  clf__max_depth=100, clf__min_samples_leaf=50, clf__min_samples_split=50, clf__n_estimators=150, total=  10.0s\n",
            "[CV] clf__max_depth=100, clf__min_samples_leaf=50, clf__min_samples_split=50, clf__n_estimators=150 \n",
            "[CV]  clf__max_depth=100, clf__min_samples_leaf=50, clf__min_samples_split=50, clf__n_estimators=150, total=   9.9s\n",
            "[CV] clf__max_depth=100, clf__min_samples_leaf=50, clf__min_samples_split=100, clf__n_estimators=150 \n",
            "[CV]  clf__max_depth=100, clf__min_samples_leaf=50, clf__min_samples_split=100, clf__n_estimators=150, total=  10.1s\n",
            "[CV] clf__max_depth=100, clf__min_samples_leaf=50, clf__min_samples_split=100, clf__n_estimators=150 \n",
            "[CV]  clf__max_depth=100, clf__min_samples_leaf=50, clf__min_samples_split=100, clf__n_estimators=150, total=  10.1s\n",
            "[CV] clf__max_depth=100, clf__min_samples_leaf=50, clf__min_samples_split=100, clf__n_estimators=150 \n",
            "[CV]  clf__max_depth=100, clf__min_samples_leaf=50, clf__min_samples_split=100, clf__n_estimators=150, total=  10.0s\n",
            "[CV] clf__max_depth=100, clf__min_samples_leaf=50, clf__min_samples_split=100, clf__n_estimators=150 \n",
            "[CV]  clf__max_depth=100, clf__min_samples_leaf=50, clf__min_samples_split=100, clf__n_estimators=150, total=   9.9s\n",
            "[CV] clf__max_depth=100, clf__min_samples_leaf=50, clf__min_samples_split=100, clf__n_estimators=150 \n",
            "[CV]  clf__max_depth=100, clf__min_samples_leaf=50, clf__min_samples_split=100, clf__n_estimators=150, total=  10.0s\n",
            "[CV] clf__max_depth=100, clf__min_samples_leaf=100, clf__min_samples_split=5, clf__n_estimators=150 \n",
            "[CV]  clf__max_depth=100, clf__min_samples_leaf=100, clf__min_samples_split=5, clf__n_estimators=150, total=   9.1s\n",
            "[CV] clf__max_depth=100, clf__min_samples_leaf=100, clf__min_samples_split=5, clf__n_estimators=150 \n",
            "[CV]  clf__max_depth=100, clf__min_samples_leaf=100, clf__min_samples_split=5, clf__n_estimators=150, total=   8.9s\n",
            "[CV] clf__max_depth=100, clf__min_samples_leaf=100, clf__min_samples_split=5, clf__n_estimators=150 \n",
            "[CV]  clf__max_depth=100, clf__min_samples_leaf=100, clf__min_samples_split=5, clf__n_estimators=150, total=   9.3s\n",
            "[CV] clf__max_depth=100, clf__min_samples_leaf=100, clf__min_samples_split=5, clf__n_estimators=150 \n",
            "[CV]  clf__max_depth=100, clf__min_samples_leaf=100, clf__min_samples_split=5, clf__n_estimators=150, total=   9.1s\n",
            "[CV] clf__max_depth=100, clf__min_samples_leaf=100, clf__min_samples_split=5, clf__n_estimators=150 \n",
            "[CV]  clf__max_depth=100, clf__min_samples_leaf=100, clf__min_samples_split=5, clf__n_estimators=150, total=   9.0s\n",
            "[CV] clf__max_depth=100, clf__min_samples_leaf=100, clf__min_samples_split=50, clf__n_estimators=150 \n",
            "[CV]  clf__max_depth=100, clf__min_samples_leaf=100, clf__min_samples_split=50, clf__n_estimators=150, total=   9.2s\n",
            "[CV] clf__max_depth=100, clf__min_samples_leaf=100, clf__min_samples_split=50, clf__n_estimators=150 \n",
            "[CV]  clf__max_depth=100, clf__min_samples_leaf=100, clf__min_samples_split=50, clf__n_estimators=150, total=   9.1s\n",
            "[CV] clf__max_depth=100, clf__min_samples_leaf=100, clf__min_samples_split=50, clf__n_estimators=150 \n",
            "[CV]  clf__max_depth=100, clf__min_samples_leaf=100, clf__min_samples_split=50, clf__n_estimators=150, total=   9.0s\n",
            "[CV] clf__max_depth=100, clf__min_samples_leaf=100, clf__min_samples_split=50, clf__n_estimators=150 \n",
            "[CV]  clf__max_depth=100, clf__min_samples_leaf=100, clf__min_samples_split=50, clf__n_estimators=150, total=   9.5s\n",
            "[CV] clf__max_depth=100, clf__min_samples_leaf=100, clf__min_samples_split=50, clf__n_estimators=150 \n",
            "[CV]  clf__max_depth=100, clf__min_samples_leaf=100, clf__min_samples_split=50, clf__n_estimators=150, total=   9.2s\n",
            "[CV] clf__max_depth=100, clf__min_samples_leaf=100, clf__min_samples_split=100, clf__n_estimators=150 \n",
            "[CV]  clf__max_depth=100, clf__min_samples_leaf=100, clf__min_samples_split=100, clf__n_estimators=150, total=   9.0s\n",
            "[CV] clf__max_depth=100, clf__min_samples_leaf=100, clf__min_samples_split=100, clf__n_estimators=150 \n",
            "[CV]  clf__max_depth=100, clf__min_samples_leaf=100, clf__min_samples_split=100, clf__n_estimators=150, total=   9.0s\n",
            "[CV] clf__max_depth=100, clf__min_samples_leaf=100, clf__min_samples_split=100, clf__n_estimators=150 \n",
            "[CV]  clf__max_depth=100, clf__min_samples_leaf=100, clf__min_samples_split=100, clf__n_estimators=150, total=   9.2s\n",
            "[CV] clf__max_depth=100, clf__min_samples_leaf=100, clf__min_samples_split=100, clf__n_estimators=150 \n",
            "[CV]  clf__max_depth=100, clf__min_samples_leaf=100, clf__min_samples_split=100, clf__n_estimators=150, total=   9.1s\n",
            "[CV] clf__max_depth=100, clf__min_samples_leaf=100, clf__min_samples_split=100, clf__n_estimators=150 \n",
            "[CV]  clf__max_depth=100, clf__min_samples_leaf=100, clf__min_samples_split=100, clf__n_estimators=150, total=   9.3s\n"
          ],
          "name": "stdout"
        },
        {
          "output_type": "stream",
          "text": [
            "[Parallel(n_jobs=1)]: Done 135 out of 135 | elapsed: 22.5min finished\n"
          ],
          "name": "stderr"
        },
        {
          "output_type": "stream",
          "text": [
            "CPU times: user 22min 42s, sys: 3.87 s, total: 22min 46s\n",
            "Wall time: 22min 45s\n",
            "Best accuracy: 0.810\n",
            "\n",
            "Best params:\n",
            " {'clf__max_depth': 100, 'clf__min_samples_leaf': 5, 'clf__min_samples_split': 5, 'clf__n_estimators': 150}\n"
          ],
          "name": "stdout"
        }
      ]
    },
    {
      "cell_type": "markdown",
      "metadata": {
        "id": "1E5XGMQ12vX_",
        "colab_type": "text"
      },
      "source": [
        "Plot the ROC curve for the best model"
      ]
    },
    {
      "cell_type": "code",
      "metadata": {
        "id": "kUB7zI_W2-zF",
        "colab_type": "code",
        "colab": {
          "base_uri": "https://localhost:8080/",
          "height": 442
        },
        "outputId": "be673f32-0c03-4a40-d95d-ea26b3d30579"
      },
      "source": [
        "best_model = gs_rf.best_estimator_\n",
        "scores(best_model,X_train,X_val,y_train,y_val)\n",
        "roc_plot(best_model,X_train,y_train,X_val,y_val)"
      ],
      "execution_count": 65,
      "outputs": [
        {
          "output_type": "display_data",
          "data": {
            "image/png": "[encoded data removed]",
            "text/plain": [
              "<Figure size 504x504 with 1 Axes>"
            ]
          },
          "metadata": {
            "tags": []
          }
        }
      ]
    },
    {
      "cell_type": "code",
      "metadata": {
        "id": "fF_WXK1Z2PNX",
        "colab_type": "code",
        "colab": {
          "base_uri": "https://localhost:8080/",
          "height": 296
        },
        "outputId": "cf8cd6c5-eac0-4c71-f599-6ecc39442fdc"
      },
      "source": [
        "opt_plots(gs_rf)"
      ],
      "execution_count": 66,
      "outputs": [
        {
          "output_type": "display_data",
          "data": {
            "image/png": "[encoded data removed]",
            "text/plain": [
              "<Figure size 1080x288 with 4 Axes>"
            ]
          },
          "metadata": {
            "tags": []
          }
        }
      ]
    },
    {
      "cell_type": "markdown",
      "metadata": {
        "id": "iQptPAVN3MSE",
        "colab_type": "text"
      },
      "source": [
        "Second iteration with range of parameters having best scores"
      ]
    },
    {
      "cell_type": "code",
      "metadata": {
        "id": "fM3wK0vd2guH",
        "colab_type": "code",
        "colab": {
          "base_uri": "https://localhost:8080/",
          "height": 1000
        },
        "outputId": "01c0de52-fdb2-449b-e673-ced60e1165e2"
      },
      "source": [
        "pipe_rf = Pipeline([\n",
        "            ('clf', RandomForestClassifier(random_state = 123))])\n",
        "\n",
        "# Set grid search params\n",
        "param_grid_forest = [ \n",
        "  {'clf__n_estimators': [150],\n",
        "   'clf__max_depth': [20,40,80,100],  \n",
        "   'clf__min_samples_leaf':[5,10,15,25],  \n",
        "   'clf__min_samples_split':[5,25]\n",
        "  }\n",
        "]\n",
        "\n",
        "# Construct grid search\n",
        "gs_rf = GridSearchCV(estimator=pipe_rf,\n",
        "            param_grid=param_grid_forest,\n",
        "            scoring='accuracy',\n",
        "            verbose=2, return_train_score = True)\n",
        "\n",
        "\n",
        "# Fit using grid search\n",
        "%time gs_rf.fit(X_train, y_train)\n",
        "\n",
        "# Best accuracy\n",
        "print('Best accuracy: %.3f' % gs_rf.best_score_)\n",
        "\n",
        "# Best params\n",
        "print('\\nBest params:\\n', gs_rf.best_params_)\n"
      ],
      "execution_count": 67,
      "outputs": [
        {
          "output_type": "stream",
          "text": [
            "Fitting 5 folds for each of 32 candidates, totalling 160 fits\n",
            "[CV] clf__max_depth=20, clf__min_samples_leaf=5, clf__min_samples_split=5, clf__n_estimators=150 \n"
          ],
          "name": "stdout"
        },
        {
          "output_type": "stream",
          "text": [
            "[Parallel(n_jobs=1)]: Using backend SequentialBackend with 1 concurrent workers.\n"
          ],
          "name": "stderr"
        },
        {
          "output_type": "stream",
          "text": [
            "[CV]  clf__max_depth=20, clf__min_samples_leaf=5, clf__min_samples_split=5, clf__n_estimators=150, total=  13.9s\n",
            "[CV] clf__max_depth=20, clf__min_samples_leaf=5, clf__min_samples_split=5, clf__n_estimators=150 \n"
          ],
          "name": "stdout"
        },
        {
          "output_type": "stream",
          "text": [
            "[Parallel(n_jobs=1)]: Done   1 out of   1 | elapsed:   15.6s remaining:    0.0s\n"
          ],
          "name": "stderr"
        },
        {
          "output_type": "stream",
          "text": [
            "[CV]  clf__max_depth=20, clf__min_samples_leaf=5, clf__min_samples_split=5, clf__n_estimators=150, total=  14.0s\n",
            "[CV] clf__max_depth=20, clf__min_samples_leaf=5, clf__min_samples_split=5, clf__n_estimators=150 \n",
            "[CV]  clf__max_depth=20, clf__min_samples_leaf=5, clf__min_samples_split=5, clf__n_estimators=150, total=  14.0s\n",
            "[CV] clf__max_depth=20, clf__min_samples_leaf=5, clf__min_samples_split=5, clf__n_estimators=150 \n",
            "[CV]  clf__max_depth=20, clf__min_samples_leaf=5, clf__min_samples_split=5, clf__n_estimators=150, total=  13.6s\n",
            "[CV] clf__max_depth=20, clf__min_samples_leaf=5, clf__min_samples_split=5, clf__n_estimators=150 \n",
            "[CV]  clf__max_depth=20, clf__min_samples_leaf=5, clf__min_samples_split=5, clf__n_estimators=150, total=  13.2s\n",
            "[CV] clf__max_depth=20, clf__min_samples_leaf=5, clf__min_samples_split=25, clf__n_estimators=150 \n",
            "[CV]  clf__max_depth=20, clf__min_samples_leaf=5, clf__min_samples_split=25, clf__n_estimators=150, total=  12.9s\n",
            "[CV] clf__max_depth=20, clf__min_samples_leaf=5, clf__min_samples_split=25, clf__n_estimators=150 \n",
            "[CV]  clf__max_depth=20, clf__min_samples_leaf=5, clf__min_samples_split=25, clf__n_estimators=150, total=  12.9s\n",
            "[CV] clf__max_depth=20, clf__min_samples_leaf=5, clf__min_samples_split=25, clf__n_estimators=150 \n",
            "[CV]  clf__max_depth=20, clf__min_samples_leaf=5, clf__min_samples_split=25, clf__n_estimators=150, total=  12.6s\n",
            "[CV] clf__max_depth=20, clf__min_samples_leaf=5, clf__min_samples_split=25, clf__n_estimators=150 \n",
            "[CV]  clf__max_depth=20, clf__min_samples_leaf=5, clf__min_samples_split=25, clf__n_estimators=150, total=  12.6s\n",
            "[CV] clf__max_depth=20, clf__min_samples_leaf=5, clf__min_samples_split=25, clf__n_estimators=150 \n",
            "[CV]  clf__max_depth=20, clf__min_samples_leaf=5, clf__min_samples_split=25, clf__n_estimators=150, total=  12.8s\n",
            "[CV] clf__max_depth=20, clf__min_samples_leaf=10, clf__min_samples_split=5, clf__n_estimators=150 \n",
            "[CV]  clf__max_depth=20, clf__min_samples_leaf=10, clf__min_samples_split=5, clf__n_estimators=150, total=  12.5s\n",
            "[CV] clf__max_depth=20, clf__min_samples_leaf=10, clf__min_samples_split=5, clf__n_estimators=150 \n",
            "[CV]  clf__max_depth=20, clf__min_samples_leaf=10, clf__min_samples_split=5, clf__n_estimators=150, total=  12.3s\n",
            "[CV] clf__max_depth=20, clf__min_samples_leaf=10, clf__min_samples_split=5, clf__n_estimators=150 \n",
            "[CV]  clf__max_depth=20, clf__min_samples_leaf=10, clf__min_samples_split=5, clf__n_estimators=150, total=  12.3s\n",
            "[CV] clf__max_depth=20, clf__min_samples_leaf=10, clf__min_samples_split=5, clf__n_estimators=150 \n",
            "[CV]  clf__max_depth=20, clf__min_samples_leaf=10, clf__min_samples_split=5, clf__n_estimators=150, total=  12.2s\n",
            "[CV] clf__max_depth=20, clf__min_samples_leaf=10, clf__min_samples_split=5, clf__n_estimators=150 \n",
            "[CV]  clf__max_depth=20, clf__min_samples_leaf=10, clf__min_samples_split=5, clf__n_estimators=150, total=  12.4s\n",
            "[CV] clf__max_depth=20, clf__min_samples_leaf=10, clf__min_samples_split=25, clf__n_estimators=150 \n",
            "[CV]  clf__max_depth=20, clf__min_samples_leaf=10, clf__min_samples_split=25, clf__n_estimators=150, total=  12.2s\n",
            "[CV] clf__max_depth=20, clf__min_samples_leaf=10, clf__min_samples_split=25, clf__n_estimators=150 \n",
            "[CV]  clf__max_depth=20, clf__min_samples_leaf=10, clf__min_samples_split=25, clf__n_estimators=150, total=  12.1s\n",
            "[CV] clf__max_depth=20, clf__min_samples_leaf=10, clf__min_samples_split=25, clf__n_estimators=150 \n",
            "[CV]  clf__max_depth=20, clf__min_samples_leaf=10, clf__min_samples_split=25, clf__n_estimators=150, total=  12.2s\n",
            "[CV] clf__max_depth=20, clf__min_samples_leaf=10, clf__min_samples_split=25, clf__n_estimators=150 \n",
            "[CV]  clf__max_depth=20, clf__min_samples_leaf=10, clf__min_samples_split=25, clf__n_estimators=150, total=  12.4s\n",
            "[CV] clf__max_depth=20, clf__min_samples_leaf=10, clf__min_samples_split=25, clf__n_estimators=150 \n",
            "[CV]  clf__max_depth=20, clf__min_samples_leaf=10, clf__min_samples_split=25, clf__n_estimators=150, total=  12.1s\n",
            "[CV] clf__max_depth=20, clf__min_samples_leaf=15, clf__min_samples_split=5, clf__n_estimators=150 \n",
            "[CV]  clf__max_depth=20, clf__min_samples_leaf=15, clf__min_samples_split=5, clf__n_estimators=150, total=  11.7s\n",
            "[CV] clf__max_depth=20, clf__min_samples_leaf=15, clf__min_samples_split=5, clf__n_estimators=150 \n",
            "[CV]  clf__max_depth=20, clf__min_samples_leaf=15, clf__min_samples_split=5, clf__n_estimators=150, total=  11.7s\n",
            "[CV] clf__max_depth=20, clf__min_samples_leaf=15, clf__min_samples_split=5, clf__n_estimators=150 \n",
            "[CV]  clf__max_depth=20, clf__min_samples_leaf=15, clf__min_samples_split=5, clf__n_estimators=150, total=  11.6s\n",
            "[CV] clf__max_depth=20, clf__min_samples_leaf=15, clf__min_samples_split=5, clf__n_estimators=150 \n",
            "[CV]  clf__max_depth=20, clf__min_samples_leaf=15, clf__min_samples_split=5, clf__n_estimators=150, total=  12.0s\n",
            "[CV] clf__max_depth=20, clf__min_samples_leaf=15, clf__min_samples_split=5, clf__n_estimators=150 \n",
            "[CV]  clf__max_depth=20, clf__min_samples_leaf=15, clf__min_samples_split=5, clf__n_estimators=150, total=  11.8s\n",
            "[CV] clf__max_depth=20, clf__min_samples_leaf=15, clf__min_samples_split=25, clf__n_estimators=150 \n",
            "[CV]  clf__max_depth=20, clf__min_samples_leaf=15, clf__min_samples_split=25, clf__n_estimators=150, total=  11.7s\n",
            "[CV] clf__max_depth=20, clf__min_samples_leaf=15, clf__min_samples_split=25, clf__n_estimators=150 \n",
            "[CV]  clf__max_depth=20, clf__min_samples_leaf=15, clf__min_samples_split=25, clf__n_estimators=150, total=  11.5s\n",
            "[CV] clf__max_depth=20, clf__min_samples_leaf=15, clf__min_samples_split=25, clf__n_estimators=150 \n",
            "[CV]  clf__max_depth=20, clf__min_samples_leaf=15, clf__min_samples_split=25, clf__n_estimators=150, total=  11.5s\n",
            "[CV] clf__max_depth=20, clf__min_samples_leaf=15, clf__min_samples_split=25, clf__n_estimators=150 \n",
            "[CV]  clf__max_depth=20, clf__min_samples_leaf=15, clf__min_samples_split=25, clf__n_estimators=150, total=  11.6s\n",
            "[CV] clf__max_depth=20, clf__min_samples_leaf=15, clf__min_samples_split=25, clf__n_estimators=150 \n",
            "[CV]  clf__max_depth=20, clf__min_samples_leaf=15, clf__min_samples_split=25, clf__n_estimators=150, total=  11.5s\n",
            "[CV] clf__max_depth=20, clf__min_samples_leaf=25, clf__min_samples_split=5, clf__n_estimators=150 \n",
            "[CV]  clf__max_depth=20, clf__min_samples_leaf=25, clf__min_samples_split=5, clf__n_estimators=150, total=  10.9s\n",
            "[CV] clf__max_depth=20, clf__min_samples_leaf=25, clf__min_samples_split=5, clf__n_estimators=150 \n",
            "[CV]  clf__max_depth=20, clf__min_samples_leaf=25, clf__min_samples_split=5, clf__n_estimators=150, total=  10.9s\n",
            "[CV] clf__max_depth=20, clf__min_samples_leaf=25, clf__min_samples_split=5, clf__n_estimators=150 \n",
            "[CV]  clf__max_depth=20, clf__min_samples_leaf=25, clf__min_samples_split=5, clf__n_estimators=150, total=  10.9s\n",
            "[CV] clf__max_depth=20, clf__min_samples_leaf=25, clf__min_samples_split=5, clf__n_estimators=150 \n",
            "[CV]  clf__max_depth=20, clf__min_samples_leaf=25, clf__min_samples_split=5, clf__n_estimators=150, total=  10.9s\n",
            "[CV] clf__max_depth=20, clf__min_samples_leaf=25, clf__min_samples_split=5, clf__n_estimators=150 \n",
            "[CV]  clf__max_depth=20, clf__min_samples_leaf=25, clf__min_samples_split=5, clf__n_estimators=150, total=  10.8s\n",
            "[CV] clf__max_depth=20, clf__min_samples_leaf=25, clf__min_samples_split=25, clf__n_estimators=150 \n",
            "[CV]  clf__max_depth=20, clf__min_samples_leaf=25, clf__min_samples_split=25, clf__n_estimators=150, total=  10.8s\n",
            "[CV] clf__max_depth=20, clf__min_samples_leaf=25, clf__min_samples_split=25, clf__n_estimators=150 \n",
            "[CV]  clf__max_depth=20, clf__min_samples_leaf=25, clf__min_samples_split=25, clf__n_estimators=150, total=  11.0s\n",
            "[CV] clf__max_depth=20, clf__min_samples_leaf=25, clf__min_samples_split=25, clf__n_estimators=150 \n",
            "[CV]  clf__max_depth=20, clf__min_samples_leaf=25, clf__min_samples_split=25, clf__n_estimators=150, total=  11.0s\n",
            "[CV] clf__max_depth=20, clf__min_samples_leaf=25, clf__min_samples_split=25, clf__n_estimators=150 \n",
            "[CV]  clf__max_depth=20, clf__min_samples_leaf=25, clf__min_samples_split=25, clf__n_estimators=150, total=  11.3s\n",
            "[CV] clf__max_depth=20, clf__min_samples_leaf=25, clf__min_samples_split=25, clf__n_estimators=150 \n",
            "[CV]  clf__max_depth=20, clf__min_samples_leaf=25, clf__min_samples_split=25, clf__n_estimators=150, total=  10.8s\n",
            "[CV] clf__max_depth=40, clf__min_samples_leaf=5, clf__min_samples_split=5, clf__n_estimators=150 \n",
            "[CV]  clf__max_depth=40, clf__min_samples_leaf=5, clf__min_samples_split=5, clf__n_estimators=150, total=  13.1s\n",
            "[CV] clf__max_depth=40, clf__min_samples_leaf=5, clf__min_samples_split=5, clf__n_estimators=150 \n",
            "[CV]  clf__max_depth=40, clf__min_samples_leaf=5, clf__min_samples_split=5, clf__n_estimators=150, total=  13.3s\n",
            "[CV] clf__max_depth=40, clf__min_samples_leaf=5, clf__min_samples_split=5, clf__n_estimators=150 \n",
            "[CV]  clf__max_depth=40, clf__min_samples_leaf=5, clf__min_samples_split=5, clf__n_estimators=150, total=  13.4s\n",
            "[CV] clf__max_depth=40, clf__min_samples_leaf=5, clf__min_samples_split=5, clf__n_estimators=150 \n",
            "[CV]  clf__max_depth=40, clf__min_samples_leaf=5, clf__min_samples_split=5, clf__n_estimators=150, total=  13.1s\n",
            "[CV] clf__max_depth=40, clf__min_samples_leaf=5, clf__min_samples_split=5, clf__n_estimators=150 \n",
            "[CV]  clf__max_depth=40, clf__min_samples_leaf=5, clf__min_samples_split=5, clf__n_estimators=150, total=  12.9s\n",
            "[CV] clf__max_depth=40, clf__min_samples_leaf=5, clf__min_samples_split=25, clf__n_estimators=150 \n",
            "[CV]  clf__max_depth=40, clf__min_samples_leaf=5, clf__min_samples_split=25, clf__n_estimators=150, total=  12.8s\n",
            "[CV] clf__max_depth=40, clf__min_samples_leaf=5, clf__min_samples_split=25, clf__n_estimators=150 \n",
            "[CV]  clf__max_depth=40, clf__min_samples_leaf=5, clf__min_samples_split=25, clf__n_estimators=150, total=  12.7s\n",
            "[CV] clf__max_depth=40, clf__min_samples_leaf=5, clf__min_samples_split=25, clf__n_estimators=150 \n",
            "[CV]  clf__max_depth=40, clf__min_samples_leaf=5, clf__min_samples_split=25, clf__n_estimators=150, total=  12.8s\n",
            "[CV] clf__max_depth=40, clf__min_samples_leaf=5, clf__min_samples_split=25, clf__n_estimators=150 \n",
            "[CV]  clf__max_depth=40, clf__min_samples_leaf=5, clf__min_samples_split=25, clf__n_estimators=150, total=  12.8s\n",
            "[CV] clf__max_depth=40, clf__min_samples_leaf=5, clf__min_samples_split=25, clf__n_estimators=150 \n",
            "[CV]  clf__max_depth=40, clf__min_samples_leaf=5, clf__min_samples_split=25, clf__n_estimators=150, total=  12.6s\n",
            "[CV] clf__max_depth=40, clf__min_samples_leaf=10, clf__min_samples_split=5, clf__n_estimators=150 \n",
            "[CV]  clf__max_depth=40, clf__min_samples_leaf=10, clf__min_samples_split=5, clf__n_estimators=150, total=  12.3s\n",
            "[CV] clf__max_depth=40, clf__min_samples_leaf=10, clf__min_samples_split=5, clf__n_estimators=150 \n",
            "[CV]  clf__max_depth=40, clf__min_samples_leaf=10, clf__min_samples_split=5, clf__n_estimators=150, total=  12.2s\n",
            "[CV] clf__max_depth=40, clf__min_samples_leaf=10, clf__min_samples_split=5, clf__n_estimators=150 \n",
            "[CV]  clf__max_depth=40, clf__min_samples_leaf=10, clf__min_samples_split=5, clf__n_estimators=150, total=  11.9s\n",
            "[CV] clf__max_depth=40, clf__min_samples_leaf=10, clf__min_samples_split=5, clf__n_estimators=150 \n",
            "[CV]  clf__max_depth=40, clf__min_samples_leaf=10, clf__min_samples_split=5, clf__n_estimators=150, total=  11.9s\n",
            "[CV] clf__max_depth=40, clf__min_samples_leaf=10, clf__min_samples_split=5, clf__n_estimators=150 \n",
            "[CV]  clf__max_depth=40, clf__min_samples_leaf=10, clf__min_samples_split=5, clf__n_estimators=150, total=  12.2s\n",
            "[CV] clf__max_depth=40, clf__min_samples_leaf=10, clf__min_samples_split=25, clf__n_estimators=150 \n",
            "[CV]  clf__max_depth=40, clf__min_samples_leaf=10, clf__min_samples_split=25, clf__n_estimators=150, total=  12.0s\n",
            "[CV] clf__max_depth=40, clf__min_samples_leaf=10, clf__min_samples_split=25, clf__n_estimators=150 \n",
            "[CV]  clf__max_depth=40, clf__min_samples_leaf=10, clf__min_samples_split=25, clf__n_estimators=150, total=  12.0s\n",
            "[CV] clf__max_depth=40, clf__min_samples_leaf=10, clf__min_samples_split=25, clf__n_estimators=150 \n",
            "[CV]  clf__max_depth=40, clf__min_samples_leaf=10, clf__min_samples_split=25, clf__n_estimators=150, total=  11.9s\n",
            "[CV] clf__max_depth=40, clf__min_samples_leaf=10, clf__min_samples_split=25, clf__n_estimators=150 \n",
            "[CV]  clf__max_depth=40, clf__min_samples_leaf=10, clf__min_samples_split=25, clf__n_estimators=150, total=  12.3s\n",
            "[CV] clf__max_depth=40, clf__min_samples_leaf=10, clf__min_samples_split=25, clf__n_estimators=150 \n",
            "[CV]  clf__max_depth=40, clf__min_samples_leaf=10, clf__min_samples_split=25, clf__n_estimators=150, total=  12.9s\n",
            "[CV] clf__max_depth=40, clf__min_samples_leaf=15, clf__min_samples_split=5, clf__n_estimators=150 \n",
            "[CV]  clf__max_depth=40, clf__min_samples_leaf=15, clf__min_samples_split=5, clf__n_estimators=150, total=  12.3s\n",
            "[CV] clf__max_depth=40, clf__min_samples_leaf=15, clf__min_samples_split=5, clf__n_estimators=150 \n",
            "[CV]  clf__max_depth=40, clf__min_samples_leaf=15, clf__min_samples_split=5, clf__n_estimators=150, total=  12.4s\n",
            "[CV] clf__max_depth=40, clf__min_samples_leaf=15, clf__min_samples_split=5, clf__n_estimators=150 \n",
            "[CV]  clf__max_depth=40, clf__min_samples_leaf=15, clf__min_samples_split=5, clf__n_estimators=150, total=  12.2s\n",
            "[CV] clf__max_depth=40, clf__min_samples_leaf=15, clf__min_samples_split=5, clf__n_estimators=150 \n",
            "[CV]  clf__max_depth=40, clf__min_samples_leaf=15, clf__min_samples_split=5, clf__n_estimators=150, total=  12.5s\n",
            "[CV] clf__max_depth=40, clf__min_samples_leaf=15, clf__min_samples_split=5, clf__n_estimators=150 \n",
            "[CV]  clf__max_depth=40, clf__min_samples_leaf=15, clf__min_samples_split=5, clf__n_estimators=150, total=  12.3s\n",
            "[CV] clf__max_depth=40, clf__min_samples_leaf=15, clf__min_samples_split=25, clf__n_estimators=150 \n",
            "[CV]  clf__max_depth=40, clf__min_samples_leaf=15, clf__min_samples_split=25, clf__n_estimators=150, total=  12.2s\n",
            "[CV] clf__max_depth=40, clf__min_samples_leaf=15, clf__min_samples_split=25, clf__n_estimators=150 \n",
            "[CV]  clf__max_depth=40, clf__min_samples_leaf=15, clf__min_samples_split=25, clf__n_estimators=150, total=  12.2s\n",
            "[CV] clf__max_depth=40, clf__min_samples_leaf=15, clf__min_samples_split=25, clf__n_estimators=150 \n",
            "[CV]  clf__max_depth=40, clf__min_samples_leaf=15, clf__min_samples_split=25, clf__n_estimators=150, total=  12.3s\n",
            "[CV] clf__max_depth=40, clf__min_samples_leaf=15, clf__min_samples_split=25, clf__n_estimators=150 \n",
            "[CV]  clf__max_depth=40, clf__min_samples_leaf=15, clf__min_samples_split=25, clf__n_estimators=150, total=  12.4s\n",
            "[CV] clf__max_depth=40, clf__min_samples_leaf=15, clf__min_samples_split=25, clf__n_estimators=150 \n",
            "[CV]  clf__max_depth=40, clf__min_samples_leaf=15, clf__min_samples_split=25, clf__n_estimators=150, total=  12.1s\n",
            "[CV] clf__max_depth=40, clf__min_samples_leaf=25, clf__min_samples_split=5, clf__n_estimators=150 \n",
            "[CV]  clf__max_depth=40, clf__min_samples_leaf=25, clf__min_samples_split=5, clf__n_estimators=150, total=  11.0s\n",
            "[CV] clf__max_depth=40, clf__min_samples_leaf=25, clf__min_samples_split=5, clf__n_estimators=150 \n",
            "[CV]  clf__max_depth=40, clf__min_samples_leaf=25, clf__min_samples_split=5, clf__n_estimators=150, total=  11.1s\n",
            "[CV] clf__max_depth=40, clf__min_samples_leaf=25, clf__min_samples_split=5, clf__n_estimators=150 \n",
            "[CV]  clf__max_depth=40, clf__min_samples_leaf=25, clf__min_samples_split=5, clf__n_estimators=150, total=  11.4s\n",
            "[CV] clf__max_depth=40, clf__min_samples_leaf=25, clf__min_samples_split=5, clf__n_estimators=150 \n",
            "[CV]  clf__max_depth=40, clf__min_samples_leaf=25, clf__min_samples_split=5, clf__n_estimators=150, total=  10.9s\n",
            "[CV] clf__max_depth=40, clf__min_samples_leaf=25, clf__min_samples_split=5, clf__n_estimators=150 \n",
            "[CV]  clf__max_depth=40, clf__min_samples_leaf=25, clf__min_samples_split=5, clf__n_estimators=150, total=  10.8s\n",
            "[CV] clf__max_depth=40, clf__min_samples_leaf=25, clf__min_samples_split=25, clf__n_estimators=150 \n",
            "[CV]  clf__max_depth=40, clf__min_samples_leaf=25, clf__min_samples_split=25, clf__n_estimators=150, total=  10.9s\n",
            "[CV] clf__max_depth=40, clf__min_samples_leaf=25, clf__min_samples_split=25, clf__n_estimators=150 \n",
            "[CV]  clf__max_depth=40, clf__min_samples_leaf=25, clf__min_samples_split=25, clf__n_estimators=150, total=  10.8s\n",
            "[CV] clf__max_depth=40, clf__min_samples_leaf=25, clf__min_samples_split=25, clf__n_estimators=150 \n",
            "[CV]  clf__max_depth=40, clf__min_samples_leaf=25, clf__min_samples_split=25, clf__n_estimators=150, total=  10.8s\n",
            "[CV] clf__max_depth=40, clf__min_samples_leaf=25, clf__min_samples_split=25, clf__n_estimators=150 \n",
            "[CV]  clf__max_depth=40, clf__min_samples_leaf=25, clf__min_samples_split=25, clf__n_estimators=150, total=  11.1s\n",
            "[CV] clf__max_depth=40, clf__min_samples_leaf=25, clf__min_samples_split=25, clf__n_estimators=150 \n",
            "[CV]  clf__max_depth=40, clf__min_samples_leaf=25, clf__min_samples_split=25, clf__n_estimators=150, total=  11.1s\n",
            "[CV] clf__max_depth=80, clf__min_samples_leaf=5, clf__min_samples_split=5, clf__n_estimators=150 \n",
            "[CV]  clf__max_depth=80, clf__min_samples_leaf=5, clf__min_samples_split=5, clf__n_estimators=150, total=  13.3s\n",
            "[CV] clf__max_depth=80, clf__min_samples_leaf=5, clf__min_samples_split=5, clf__n_estimators=150 \n",
            "[CV]  clf__max_depth=80, clf__min_samples_leaf=5, clf__min_samples_split=5, clf__n_estimators=150, total=  13.2s\n",
            "[CV] clf__max_depth=80, clf__min_samples_leaf=5, clf__min_samples_split=5, clf__n_estimators=150 \n",
            "[CV]  clf__max_depth=80, clf__min_samples_leaf=5, clf__min_samples_split=5, clf__n_estimators=150, total=  13.2s\n",
            "[CV] clf__max_depth=80, clf__min_samples_leaf=5, clf__min_samples_split=5, clf__n_estimators=150 \n",
            "[CV]  clf__max_depth=80, clf__min_samples_leaf=5, clf__min_samples_split=5, clf__n_estimators=150, total=  13.2s\n",
            "[CV] clf__max_depth=80, clf__min_samples_leaf=5, clf__min_samples_split=5, clf__n_estimators=150 \n",
            "[CV]  clf__max_depth=80, clf__min_samples_leaf=5, clf__min_samples_split=5, clf__n_estimators=150, total=  13.2s\n",
            "[CV] clf__max_depth=80, clf__min_samples_leaf=5, clf__min_samples_split=25, clf__n_estimators=150 \n",
            "[CV]  clf__max_depth=80, clf__min_samples_leaf=5, clf__min_samples_split=25, clf__n_estimators=150, total=  12.7s\n",
            "[CV] clf__max_depth=80, clf__min_samples_leaf=5, clf__min_samples_split=25, clf__n_estimators=150 \n",
            "[CV]  clf__max_depth=80, clf__min_samples_leaf=5, clf__min_samples_split=25, clf__n_estimators=150, total=  13.0s\n",
            "[CV] clf__max_depth=80, clf__min_samples_leaf=5, clf__min_samples_split=25, clf__n_estimators=150 \n",
            "[CV]  clf__max_depth=80, clf__min_samples_leaf=5, clf__min_samples_split=25, clf__n_estimators=150, total=  12.7s\n",
            "[CV] clf__max_depth=80, clf__min_samples_leaf=5, clf__min_samples_split=25, clf__n_estimators=150 \n",
            "[CV]  clf__max_depth=80, clf__min_samples_leaf=5, clf__min_samples_split=25, clf__n_estimators=150, total=  12.5s\n",
            "[CV] clf__max_depth=80, clf__min_samples_leaf=5, clf__min_samples_split=25, clf__n_estimators=150 \n",
            "[CV]  clf__max_depth=80, clf__min_samples_leaf=5, clf__min_samples_split=25, clf__n_estimators=150, total=  12.8s\n",
            "[CV] clf__max_depth=80, clf__min_samples_leaf=10, clf__min_samples_split=5, clf__n_estimators=150 \n",
            "[CV]  clf__max_depth=80, clf__min_samples_leaf=10, clf__min_samples_split=5, clf__n_estimators=150, total=  12.4s\n",
            "[CV] clf__max_depth=80, clf__min_samples_leaf=10, clf__min_samples_split=5, clf__n_estimators=150 \n",
            "[CV]  clf__max_depth=80, clf__min_samples_leaf=10, clf__min_samples_split=5, clf__n_estimators=150, total=  12.3s\n",
            "[CV] clf__max_depth=80, clf__min_samples_leaf=10, clf__min_samples_split=5, clf__n_estimators=150 \n",
            "[CV]  clf__max_depth=80, clf__min_samples_leaf=10, clf__min_samples_split=5, clf__n_estimators=150, total=  12.1s\n",
            "[CV] clf__max_depth=80, clf__min_samples_leaf=10, clf__min_samples_split=5, clf__n_estimators=150 \n",
            "[CV]  clf__max_depth=80, clf__min_samples_leaf=10, clf__min_samples_split=5, clf__n_estimators=150, total=  12.1s\n",
            "[CV] clf__max_depth=80, clf__min_samples_leaf=10, clf__min_samples_split=5, clf__n_estimators=150 \n",
            "[CV]  clf__max_depth=80, clf__min_samples_leaf=10, clf__min_samples_split=5, clf__n_estimators=150, total=  12.6s\n",
            "[CV] clf__max_depth=80, clf__min_samples_leaf=10, clf__min_samples_split=25, clf__n_estimators=150 \n",
            "[CV]  clf__max_depth=80, clf__min_samples_leaf=10, clf__min_samples_split=25, clf__n_estimators=150, total=  12.4s\n",
            "[CV] clf__max_depth=80, clf__min_samples_leaf=10, clf__min_samples_split=25, clf__n_estimators=150 \n",
            "[CV]  clf__max_depth=80, clf__min_samples_leaf=10, clf__min_samples_split=25, clf__n_estimators=150, total=  12.1s\n",
            "[CV] clf__max_depth=80, clf__min_samples_leaf=10, clf__min_samples_split=25, clf__n_estimators=150 \n",
            "[CV]  clf__max_depth=80, clf__min_samples_leaf=10, clf__min_samples_split=25, clf__n_estimators=150, total=  12.1s\n",
            "[CV] clf__max_depth=80, clf__min_samples_leaf=10, clf__min_samples_split=25, clf__n_estimators=150 \n",
            "[CV]  clf__max_depth=80, clf__min_samples_leaf=10, clf__min_samples_split=25, clf__n_estimators=150, total=  12.1s\n",
            "[CV] clf__max_depth=80, clf__min_samples_leaf=10, clf__min_samples_split=25, clf__n_estimators=150 \n",
            "[CV]  clf__max_depth=80, clf__min_samples_leaf=10, clf__min_samples_split=25, clf__n_estimators=150, total=  12.3s\n",
            "[CV] clf__max_depth=80, clf__min_samples_leaf=15, clf__min_samples_split=5, clf__n_estimators=150 \n",
            "[CV]  clf__max_depth=80, clf__min_samples_leaf=15, clf__min_samples_split=5, clf__n_estimators=150, total=  11.8s\n",
            "[CV] clf__max_depth=80, clf__min_samples_leaf=15, clf__min_samples_split=5, clf__n_estimators=150 \n",
            "[CV]  clf__max_depth=80, clf__min_samples_leaf=15, clf__min_samples_split=5, clf__n_estimators=150, total=  11.8s\n",
            "[CV] clf__max_depth=80, clf__min_samples_leaf=15, clf__min_samples_split=5, clf__n_estimators=150 \n",
            "[CV]  clf__max_depth=80, clf__min_samples_leaf=15, clf__min_samples_split=5, clf__n_estimators=150, total=  11.7s\n",
            "[CV] clf__max_depth=80, clf__min_samples_leaf=15, clf__min_samples_split=5, clf__n_estimators=150 \n",
            "[CV]  clf__max_depth=80, clf__min_samples_leaf=15, clf__min_samples_split=5, clf__n_estimators=150, total=  11.9s\n",
            "[CV] clf__max_depth=80, clf__min_samples_leaf=15, clf__min_samples_split=5, clf__n_estimators=150 \n",
            "[CV]  clf__max_depth=80, clf__min_samples_leaf=15, clf__min_samples_split=5, clf__n_estimators=150, total=  11.8s\n",
            "[CV] clf__max_depth=80, clf__min_samples_leaf=15, clf__min_samples_split=25, clf__n_estimators=150 \n",
            "[CV]  clf__max_depth=80, clf__min_samples_leaf=15, clf__min_samples_split=25, clf__n_estimators=150, total=  11.5s\n",
            "[CV] clf__max_depth=80, clf__min_samples_leaf=15, clf__min_samples_split=25, clf__n_estimators=150 \n",
            "[CV]  clf__max_depth=80, clf__min_samples_leaf=15, clf__min_samples_split=25, clf__n_estimators=150, total=  11.5s\n",
            "[CV] clf__max_depth=80, clf__min_samples_leaf=15, clf__min_samples_split=25, clf__n_estimators=150 \n",
            "[CV]  clf__max_depth=80, clf__min_samples_leaf=15, clf__min_samples_split=25, clf__n_estimators=150, total=  11.7s\n",
            "[CV] clf__max_depth=80, clf__min_samples_leaf=15, clf__min_samples_split=25, clf__n_estimators=150 \n",
            "[CV]  clf__max_depth=80, clf__min_samples_leaf=15, clf__min_samples_split=25, clf__n_estimators=150, total=  11.9s\n",
            "[CV] clf__max_depth=80, clf__min_samples_leaf=15, clf__min_samples_split=25, clf__n_estimators=150 \n",
            "[CV]  clf__max_depth=80, clf__min_samples_leaf=15, clf__min_samples_split=25, clf__n_estimators=150, total=  11.7s\n",
            "[CV] clf__max_depth=80, clf__min_samples_leaf=25, clf__min_samples_split=5, clf__n_estimators=150 \n",
            "[CV]  clf__max_depth=80, clf__min_samples_leaf=25, clf__min_samples_split=5, clf__n_estimators=150, total=  10.9s\n",
            "[CV] clf__max_depth=80, clf__min_samples_leaf=25, clf__min_samples_split=5, clf__n_estimators=150 \n",
            "[CV]  clf__max_depth=80, clf__min_samples_leaf=25, clf__min_samples_split=5, clf__n_estimators=150, total=  10.8s\n",
            "[CV] clf__max_depth=80, clf__min_samples_leaf=25, clf__min_samples_split=5, clf__n_estimators=150 \n",
            "[CV]  clf__max_depth=80, clf__min_samples_leaf=25, clf__min_samples_split=5, clf__n_estimators=150, total=  10.8s\n",
            "[CV] clf__max_depth=80, clf__min_samples_leaf=25, clf__min_samples_split=5, clf__n_estimators=150 \n",
            "[CV]  clf__max_depth=80, clf__min_samples_leaf=25, clf__min_samples_split=5, clf__n_estimators=150, total=  11.1s\n",
            "[CV] clf__max_depth=80, clf__min_samples_leaf=25, clf__min_samples_split=5, clf__n_estimators=150 \n",
            "[CV]  clf__max_depth=80, clf__min_samples_leaf=25, clf__min_samples_split=5, clf__n_estimators=150, total=  11.2s\n",
            "[CV] clf__max_depth=80, clf__min_samples_leaf=25, clf__min_samples_split=25, clf__n_estimators=150 \n",
            "[CV]  clf__max_depth=80, clf__min_samples_leaf=25, clf__min_samples_split=25, clf__n_estimators=150, total=  10.9s\n",
            "[CV] clf__max_depth=80, clf__min_samples_leaf=25, clf__min_samples_split=25, clf__n_estimators=150 \n",
            "[CV]  clf__max_depth=80, clf__min_samples_leaf=25, clf__min_samples_split=25, clf__n_estimators=150, total=  10.8s\n",
            "[CV] clf__max_depth=80, clf__min_samples_leaf=25, clf__min_samples_split=25, clf__n_estimators=150 \n",
            "[CV]  clf__max_depth=80, clf__min_samples_leaf=25, clf__min_samples_split=25, clf__n_estimators=150, total=  10.9s\n",
            "[CV] clf__max_depth=80, clf__min_samples_leaf=25, clf__min_samples_split=25, clf__n_estimators=150 \n",
            "[CV]  clf__max_depth=80, clf__min_samples_leaf=25, clf__min_samples_split=25, clf__n_estimators=150, total=  11.5s\n",
            "[CV] clf__max_depth=80, clf__min_samples_leaf=25, clf__min_samples_split=25, clf__n_estimators=150 \n",
            "[CV]  clf__max_depth=80, clf__min_samples_leaf=25, clf__min_samples_split=25, clf__n_estimators=150, total=  11.4s\n",
            "[CV] clf__max_depth=100, clf__min_samples_leaf=5, clf__min_samples_split=5, clf__n_estimators=150 \n",
            "[CV]  clf__max_depth=100, clf__min_samples_leaf=5, clf__min_samples_split=5, clf__n_estimators=150, total=  14.0s\n",
            "[CV] clf__max_depth=100, clf__min_samples_leaf=5, clf__min_samples_split=5, clf__n_estimators=150 \n",
            "[CV]  clf__max_depth=100, clf__min_samples_leaf=5, clf__min_samples_split=5, clf__n_estimators=150, total=  13.4s\n",
            "[CV] clf__max_depth=100, clf__min_samples_leaf=5, clf__min_samples_split=5, clf__n_estimators=150 \n",
            "[CV]  clf__max_depth=100, clf__min_samples_leaf=5, clf__min_samples_split=5, clf__n_estimators=150, total=  13.4s\n",
            "[CV] clf__max_depth=100, clf__min_samples_leaf=5, clf__min_samples_split=5, clf__n_estimators=150 \n",
            "[CV]  clf__max_depth=100, clf__min_samples_leaf=5, clf__min_samples_split=5, clf__n_estimators=150, total=  13.1s\n",
            "[CV] clf__max_depth=100, clf__min_samples_leaf=5, clf__min_samples_split=5, clf__n_estimators=150 \n",
            "[CV]  clf__max_depth=100, clf__min_samples_leaf=5, clf__min_samples_split=5, clf__n_estimators=150, total=  13.7s\n",
            "[CV] clf__max_depth=100, clf__min_samples_leaf=5, clf__min_samples_split=25, clf__n_estimators=150 \n",
            "[CV]  clf__max_depth=100, clf__min_samples_leaf=5, clf__min_samples_split=25, clf__n_estimators=150, total=  13.6s\n",
            "[CV] clf__max_depth=100, clf__min_samples_leaf=5, clf__min_samples_split=25, clf__n_estimators=150 \n",
            "[CV]  clf__max_depth=100, clf__min_samples_leaf=5, clf__min_samples_split=25, clf__n_estimators=150, total=  13.6s\n",
            "[CV] clf__max_depth=100, clf__min_samples_leaf=5, clf__min_samples_split=25, clf__n_estimators=150 \n",
            "[CV]  clf__max_depth=100, clf__min_samples_leaf=5, clf__min_samples_split=25, clf__n_estimators=150, total=  13.6s\n",
            "[CV] clf__max_depth=100, clf__min_samples_leaf=5, clf__min_samples_split=25, clf__n_estimators=150 \n",
            "[CV]  clf__max_depth=100, clf__min_samples_leaf=5, clf__min_samples_split=25, clf__n_estimators=150, total=  13.6s\n",
            "[CV] clf__max_depth=100, clf__min_samples_leaf=5, clf__min_samples_split=25, clf__n_estimators=150 \n",
            "[CV]  clf__max_depth=100, clf__min_samples_leaf=5, clf__min_samples_split=25, clf__n_estimators=150, total=  13.7s\n",
            "[CV] clf__max_depth=100, clf__min_samples_leaf=10, clf__min_samples_split=5, clf__n_estimators=150 \n",
            "[CV]  clf__max_depth=100, clf__min_samples_leaf=10, clf__min_samples_split=5, clf__n_estimators=150, total=  13.2s\n",
            "[CV] clf__max_depth=100, clf__min_samples_leaf=10, clf__min_samples_split=5, clf__n_estimators=150 \n",
            "[CV]  clf__max_depth=100, clf__min_samples_leaf=10, clf__min_samples_split=5, clf__n_estimators=150, total=  13.2s\n",
            "[CV] clf__max_depth=100, clf__min_samples_leaf=10, clf__min_samples_split=5, clf__n_estimators=150 \n",
            "[CV]  clf__max_depth=100, clf__min_samples_leaf=10, clf__min_samples_split=5, clf__n_estimators=150, total=  12.9s\n",
            "[CV] clf__max_depth=100, clf__min_samples_leaf=10, clf__min_samples_split=5, clf__n_estimators=150 \n",
            "[CV]  clf__max_depth=100, clf__min_samples_leaf=10, clf__min_samples_split=5, clf__n_estimators=150, total=  13.1s\n",
            "[CV] clf__max_depth=100, clf__min_samples_leaf=10, clf__min_samples_split=5, clf__n_estimators=150 \n",
            "[CV]  clf__max_depth=100, clf__min_samples_leaf=10, clf__min_samples_split=5, clf__n_estimators=150, total=  13.1s\n",
            "[CV] clf__max_depth=100, clf__min_samples_leaf=10, clf__min_samples_split=25, clf__n_estimators=150 \n",
            "[CV]  clf__max_depth=100, clf__min_samples_leaf=10, clf__min_samples_split=25, clf__n_estimators=150, total=  12.4s\n",
            "[CV] clf__max_depth=100, clf__min_samples_leaf=10, clf__min_samples_split=25, clf__n_estimators=150 \n",
            "[CV]  clf__max_depth=100, clf__min_samples_leaf=10, clf__min_samples_split=25, clf__n_estimators=150, total=  12.2s\n",
            "[CV] clf__max_depth=100, clf__min_samples_leaf=10, clf__min_samples_split=25, clf__n_estimators=150 \n",
            "[CV]  clf__max_depth=100, clf__min_samples_leaf=10, clf__min_samples_split=25, clf__n_estimators=150, total=  12.4s\n",
            "[CV] clf__max_depth=100, clf__min_samples_leaf=10, clf__min_samples_split=25, clf__n_estimators=150 \n",
            "[CV]  clf__max_depth=100, clf__min_samples_leaf=10, clf__min_samples_split=25, clf__n_estimators=150, total=  12.3s\n",
            "[CV] clf__max_depth=100, clf__min_samples_leaf=10, clf__min_samples_split=25, clf__n_estimators=150 \n",
            "[CV]  clf__max_depth=100, clf__min_samples_leaf=10, clf__min_samples_split=25, clf__n_estimators=150, total=  12.7s\n",
            "[CV] clf__max_depth=100, clf__min_samples_leaf=15, clf__min_samples_split=5, clf__n_estimators=150 \n",
            "[CV]  clf__max_depth=100, clf__min_samples_leaf=15, clf__min_samples_split=5, clf__n_estimators=150, total=  11.8s\n",
            "[CV] clf__max_depth=100, clf__min_samples_leaf=15, clf__min_samples_split=5, clf__n_estimators=150 \n",
            "[CV]  clf__max_depth=100, clf__min_samples_leaf=15, clf__min_samples_split=5, clf__n_estimators=150, total=  11.7s\n",
            "[CV] clf__max_depth=100, clf__min_samples_leaf=15, clf__min_samples_split=5, clf__n_estimators=150 \n",
            "[CV]  clf__max_depth=100, clf__min_samples_leaf=15, clf__min_samples_split=5, clf__n_estimators=150, total=  12.1s\n",
            "[CV] clf__max_depth=100, clf__min_samples_leaf=15, clf__min_samples_split=5, clf__n_estimators=150 \n",
            "[CV]  clf__max_depth=100, clf__min_samples_leaf=15, clf__min_samples_split=5, clf__n_estimators=150, total=  12.0s\n",
            "[CV] clf__max_depth=100, clf__min_samples_leaf=15, clf__min_samples_split=5, clf__n_estimators=150 \n",
            "[CV]  clf__max_depth=100, clf__min_samples_leaf=15, clf__min_samples_split=5, clf__n_estimators=150, total=  11.7s\n",
            "[CV] clf__max_depth=100, clf__min_samples_leaf=15, clf__min_samples_split=25, clf__n_estimators=150 \n",
            "[CV]  clf__max_depth=100, clf__min_samples_leaf=15, clf__min_samples_split=25, clf__n_estimators=150, total=  11.5s\n",
            "[CV] clf__max_depth=100, clf__min_samples_leaf=15, clf__min_samples_split=25, clf__n_estimators=150 \n",
            "[CV]  clf__max_depth=100, clf__min_samples_leaf=15, clf__min_samples_split=25, clf__n_estimators=150, total=  11.6s\n",
            "[CV] clf__max_depth=100, clf__min_samples_leaf=15, clf__min_samples_split=25, clf__n_estimators=150 \n",
            "[CV]  clf__max_depth=100, clf__min_samples_leaf=15, clf__min_samples_split=25, clf__n_estimators=150, total=  11.8s\n",
            "[CV] clf__max_depth=100, clf__min_samples_leaf=15, clf__min_samples_split=25, clf__n_estimators=150 \n",
            "[CV]  clf__max_depth=100, clf__min_samples_leaf=15, clf__min_samples_split=25, clf__n_estimators=150, total=  11.9s\n",
            "[CV] clf__max_depth=100, clf__min_samples_leaf=15, clf__min_samples_split=25, clf__n_estimators=150 \n",
            "[CV]  clf__max_depth=100, clf__min_samples_leaf=15, clf__min_samples_split=25, clf__n_estimators=150, total=  11.7s\n",
            "[CV] clf__max_depth=100, clf__min_samples_leaf=25, clf__min_samples_split=5, clf__n_estimators=150 \n",
            "[CV]  clf__max_depth=100, clf__min_samples_leaf=25, clf__min_samples_split=5, clf__n_estimators=150, total=  11.0s\n",
            "[CV] clf__max_depth=100, clf__min_samples_leaf=25, clf__min_samples_split=5, clf__n_estimators=150 \n",
            "[CV]  clf__max_depth=100, clf__min_samples_leaf=25, clf__min_samples_split=5, clf__n_estimators=150, total=  11.0s\n",
            "[CV] clf__max_depth=100, clf__min_samples_leaf=25, clf__min_samples_split=5, clf__n_estimators=150 \n",
            "[CV]  clf__max_depth=100, clf__min_samples_leaf=25, clf__min_samples_split=5, clf__n_estimators=150, total=  11.2s\n",
            "[CV] clf__max_depth=100, clf__min_samples_leaf=25, clf__min_samples_split=5, clf__n_estimators=150 \n",
            "[CV]  clf__max_depth=100, clf__min_samples_leaf=25, clf__min_samples_split=5, clf__n_estimators=150, total=  11.2s\n",
            "[CV] clf__max_depth=100, clf__min_samples_leaf=25, clf__min_samples_split=5, clf__n_estimators=150 \n",
            "[CV]  clf__max_depth=100, clf__min_samples_leaf=25, clf__min_samples_split=5, clf__n_estimators=150, total=  11.0s\n",
            "[CV] clf__max_depth=100, clf__min_samples_leaf=25, clf__min_samples_split=25, clf__n_estimators=150 \n",
            "[CV]  clf__max_depth=100, clf__min_samples_leaf=25, clf__min_samples_split=25, clf__n_estimators=150, total=  11.0s\n",
            "[CV] clf__max_depth=100, clf__min_samples_leaf=25, clf__min_samples_split=25, clf__n_estimators=150 \n",
            "[CV]  clf__max_depth=100, clf__min_samples_leaf=25, clf__min_samples_split=25, clf__n_estimators=150, total=  11.4s\n",
            "[CV] clf__max_depth=100, clf__min_samples_leaf=25, clf__min_samples_split=25, clf__n_estimators=150 \n",
            "[CV]  clf__max_depth=100, clf__min_samples_leaf=25, clf__min_samples_split=25, clf__n_estimators=150, total=  11.2s\n",
            "[CV] clf__max_depth=100, clf__min_samples_leaf=25, clf__min_samples_split=25, clf__n_estimators=150 \n",
            "[CV]  clf__max_depth=100, clf__min_samples_leaf=25, clf__min_samples_split=25, clf__n_estimators=150, total=  11.1s\n",
            "[CV] clf__max_depth=100, clf__min_samples_leaf=25, clf__min_samples_split=25, clf__n_estimators=150 \n",
            "[CV]  clf__max_depth=100, clf__min_samples_leaf=25, clf__min_samples_split=25, clf__n_estimators=150, total=  10.9s\n"
          ],
          "name": "stdout"
        },
        {
          "output_type": "stream",
          "text": [
            "[Parallel(n_jobs=1)]: Done 160 out of 160 | elapsed: 36.0min finished\n"
          ],
          "name": "stderr"
        },
        {
          "output_type": "stream",
          "text": [
            "CPU times: user 36min 10s, sys: 4.47 s, total: 36min 14s\n",
            "Wall time: 36min 14s\n",
            "Best accuracy: 0.810\n",
            "\n",
            "Best params:\n",
            " {'clf__max_depth': 80, 'clf__min_samples_leaf': 5, 'clf__min_samples_split': 5, 'clf__n_estimators': 150}\n"
          ],
          "name": "stdout"
        }
      ]
    },
    {
      "cell_type": "code",
      "metadata": {
        "id": "YIMQY1XLIwi4",
        "colab_type": "code",
        "colab": {
          "base_uri": "https://localhost:8080/",
          "height": 442
        },
        "outputId": "6a38cc05-91e6-4c4a-9009-68ff39e1aa97"
      },
      "source": [
        "best_model = gs_rf.best_estimator_\n",
        "scores(best_model,X_train,X_val,y_train,y_val)\n",
        "roc_plot(best_model,X_train,y_train,X_val,y_val)"
      ],
      "execution_count": 68,
      "outputs": [
        {
          "output_type": "display_data",
          "data": {
            "image/png": "[encoded data removed]",
            "text/plain": [
              "<Figure size 504x504 with 1 Axes>"
            ]
          },
          "metadata": {
            "tags": []
          }
        }
      ]
    },
    {
      "cell_type": "code",
      "metadata": {
        "id": "57NzxUdyMVOM",
        "colab_type": "code",
        "colab": {
          "base_uri": "https://localhost:8080/",
          "height": 296
        },
        "outputId": "1f409c57-2ec8-47d6-afab-b0e0ee56a8d8"
      },
      "source": [
        "opt_plots(gs_rf)"
      ],
      "execution_count": 69,
      "outputs": [
        {
          "output_type": "display_data",
          "data": {
            "image/png": "[encoded data removed]",
            "text/plain": [
              "<Figure size 1080x288 with 4 Axes>"
            ]
          },
          "metadata": {
            "tags": []
          }
        }
      ]
    },
    {
      "cell_type": "markdown",
      "metadata": {
        "id": "nn8dYYjG3Xft",
        "colab_type": "text"
      },
      "source": [
        "Third iteration with paramerer selection on unit level"
      ]
    },
    {
      "cell_type": "code",
      "metadata": {
        "id": "1SpU3Uo8MgQ8",
        "colab_type": "code",
        "colab": {
          "base_uri": "https://localhost:8080/",
          "height": 1000
        },
        "outputId": "2959a2ad-dd4f-44c8-9f1f-6e5bac82379c"
      },
      "source": [
        "pipe_rf = Pipeline([\n",
        "            ('clf', RandomForestClassifier(random_state = 123))])\n",
        "\n",
        "# Set grid search params\n",
        "param_grid_forest = [ \n",
        "  {'clf__n_estimators': [150],\n",
        "   'clf__max_depth': [55,75,80,90,100],  \n",
        "   'clf__min_samples_leaf':[5,6,7],  \n",
        "   'clf__min_samples_split':[5,10]\n",
        "  }\n",
        "]\n",
        "\n",
        "# Construct grid search\n",
        "gs_rf = GridSearchCV(estimator=pipe_rf,\n",
        "            param_grid=param_grid_forest,\n",
        "            scoring='accuracy',\n",
        "            verbose=2, return_train_score = True)\n",
        "\n",
        "\n",
        "# Fit using grid search\n",
        "%time gs_rf.fit(X_train, y_train)\n",
        "\n",
        "# Best accuracy\n",
        "print('Best accuracy: %.3f' % gs_rf.best_score_)\n",
        "\n",
        "# Best params\n",
        "print('\\nBest params:\\n', gs_rf.best_params_)\n"
      ],
      "execution_count": 70,
      "outputs": [
        {
          "output_type": "stream",
          "text": [
            "Fitting 5 folds for each of 30 candidates, totalling 150 fits\n",
            "[CV] clf__max_depth=55, clf__min_samples_leaf=5, clf__min_samples_split=5, clf__n_estimators=150 \n"
          ],
          "name": "stdout"
        },
        {
          "output_type": "stream",
          "text": [
            "[Parallel(n_jobs=1)]: Using backend SequentialBackend with 1 concurrent workers.\n"
          ],
          "name": "stderr"
        },
        {
          "output_type": "stream",
          "text": [
            "[CV]  clf__max_depth=55, clf__min_samples_leaf=5, clf__min_samples_split=5, clf__n_estimators=150, total=  14.4s\n",
            "[CV] clf__max_depth=55, clf__min_samples_leaf=5, clf__min_samples_split=5, clf__n_estimators=150 \n"
          ],
          "name": "stdout"
        },
        {
          "output_type": "stream",
          "text": [
            "[Parallel(n_jobs=1)]: Done   1 out of   1 | elapsed:   16.1s remaining:    0.0s\n"
          ],
          "name": "stderr"
        },
        {
          "output_type": "stream",
          "text": [
            "[CV]  clf__max_depth=55, clf__min_samples_leaf=5, clf__min_samples_split=5, clf__n_estimators=150, total=  14.2s\n",
            "[CV] clf__max_depth=55, clf__min_samples_leaf=5, clf__min_samples_split=5, clf__n_estimators=150 \n",
            "[CV]  clf__max_depth=55, clf__min_samples_leaf=5, clf__min_samples_split=5, clf__n_estimators=150, total=  14.0s\n",
            "[CV] clf__max_depth=55, clf__min_samples_leaf=5, clf__min_samples_split=5, clf__n_estimators=150 \n",
            "[CV]  clf__max_depth=55, clf__min_samples_leaf=5, clf__min_samples_split=5, clf__n_estimators=150, total=  14.1s\n",
            "[CV] clf__max_depth=55, clf__min_samples_leaf=5, clf__min_samples_split=5, clf__n_estimators=150 \n",
            "[CV]  clf__max_depth=55, clf__min_samples_leaf=5, clf__min_samples_split=5, clf__n_estimators=150, total=  14.2s\n",
            "[CV] clf__max_depth=55, clf__min_samples_leaf=5, clf__min_samples_split=10, clf__n_estimators=150 \n",
            "[CV]  clf__max_depth=55, clf__min_samples_leaf=5, clf__min_samples_split=10, clf__n_estimators=150, total=  14.0s\n",
            "[CV] clf__max_depth=55, clf__min_samples_leaf=5, clf__min_samples_split=10, clf__n_estimators=150 \n",
            "[CV]  clf__max_depth=55, clf__min_samples_leaf=5, clf__min_samples_split=10, clf__n_estimators=150, total=  13.7s\n",
            "[CV] clf__max_depth=55, clf__min_samples_leaf=5, clf__min_samples_split=10, clf__n_estimators=150 \n",
            "[CV]  clf__max_depth=55, clf__min_samples_leaf=5, clf__min_samples_split=10, clf__n_estimators=150, total=  13.4s\n",
            "[CV] clf__max_depth=55, clf__min_samples_leaf=5, clf__min_samples_split=10, clf__n_estimators=150 \n",
            "[CV]  clf__max_depth=55, clf__min_samples_leaf=5, clf__min_samples_split=10, clf__n_estimators=150, total=  13.5s\n",
            "[CV] clf__max_depth=55, clf__min_samples_leaf=5, clf__min_samples_split=10, clf__n_estimators=150 \n",
            "[CV]  clf__max_depth=55, clf__min_samples_leaf=5, clf__min_samples_split=10, clf__n_estimators=150, total=  13.3s\n",
            "[CV] clf__max_depth=55, clf__min_samples_leaf=6, clf__min_samples_split=5, clf__n_estimators=150 \n",
            "[CV]  clf__max_depth=55, clf__min_samples_leaf=6, clf__min_samples_split=5, clf__n_estimators=150, total=  13.1s\n",
            "[CV] clf__max_depth=55, clf__min_samples_leaf=6, clf__min_samples_split=5, clf__n_estimators=150 \n",
            "[CV]  clf__max_depth=55, clf__min_samples_leaf=6, clf__min_samples_split=5, clf__n_estimators=150, total=  13.1s\n",
            "[CV] clf__max_depth=55, clf__min_samples_leaf=6, clf__min_samples_split=5, clf__n_estimators=150 \n",
            "[CV]  clf__max_depth=55, clf__min_samples_leaf=6, clf__min_samples_split=5, clf__n_estimators=150, total=  13.2s\n",
            "[CV] clf__max_depth=55, clf__min_samples_leaf=6, clf__min_samples_split=5, clf__n_estimators=150 \n",
            "[CV]  clf__max_depth=55, clf__min_samples_leaf=6, clf__min_samples_split=5, clf__n_estimators=150, total=  13.0s\n",
            "[CV] clf__max_depth=55, clf__min_samples_leaf=6, clf__min_samples_split=5, clf__n_estimators=150 \n",
            "[CV]  clf__max_depth=55, clf__min_samples_leaf=6, clf__min_samples_split=5, clf__n_estimators=150, total=  13.3s\n",
            "[CV] clf__max_depth=55, clf__min_samples_leaf=6, clf__min_samples_split=10, clf__n_estimators=150 \n",
            "[CV]  clf__max_depth=55, clf__min_samples_leaf=6, clf__min_samples_split=10, clf__n_estimators=150, total=  13.4s\n",
            "[CV] clf__max_depth=55, clf__min_samples_leaf=6, clf__min_samples_split=10, clf__n_estimators=150 \n",
            "[CV]  clf__max_depth=55, clf__min_samples_leaf=6, clf__min_samples_split=10, clf__n_estimators=150, total=  13.2s\n",
            "[CV] clf__max_depth=55, clf__min_samples_leaf=6, clf__min_samples_split=10, clf__n_estimators=150 \n",
            "[CV]  clf__max_depth=55, clf__min_samples_leaf=6, clf__min_samples_split=10, clf__n_estimators=150, total=  12.8s\n",
            "[CV] clf__max_depth=55, clf__min_samples_leaf=6, clf__min_samples_split=10, clf__n_estimators=150 \n",
            "[CV]  clf__max_depth=55, clf__min_samples_leaf=6, clf__min_samples_split=10, clf__n_estimators=150, total=  13.0s\n",
            "[CV] clf__max_depth=55, clf__min_samples_leaf=6, clf__min_samples_split=10, clf__n_estimators=150 \n",
            "[CV]  clf__max_depth=55, clf__min_samples_leaf=6, clf__min_samples_split=10, clf__n_estimators=150, total=  13.0s\n",
            "[CV] clf__max_depth=55, clf__min_samples_leaf=7, clf__min_samples_split=5, clf__n_estimators=150 \n",
            "[CV]  clf__max_depth=55, clf__min_samples_leaf=7, clf__min_samples_split=5, clf__n_estimators=150, total=  12.9s\n",
            "[CV] clf__max_depth=55, clf__min_samples_leaf=7, clf__min_samples_split=5, clf__n_estimators=150 \n",
            "[CV]  clf__max_depth=55, clf__min_samples_leaf=7, clf__min_samples_split=5, clf__n_estimators=150, total=  12.9s\n",
            "[CV] clf__max_depth=55, clf__min_samples_leaf=7, clf__min_samples_split=5, clf__n_estimators=150 \n",
            "[CV]  clf__max_depth=55, clf__min_samples_leaf=7, clf__min_samples_split=5, clf__n_estimators=150, total=  12.7s\n",
            "[CV] clf__max_depth=55, clf__min_samples_leaf=7, clf__min_samples_split=5, clf__n_estimators=150 \n",
            "[CV]  clf__max_depth=55, clf__min_samples_leaf=7, clf__min_samples_split=5, clf__n_estimators=150, total=  12.7s\n",
            "[CV] clf__max_depth=55, clf__min_samples_leaf=7, clf__min_samples_split=5, clf__n_estimators=150 \n",
            "[CV]  clf__max_depth=55, clf__min_samples_leaf=7, clf__min_samples_split=5, clf__n_estimators=150, total=  12.6s\n",
            "[CV] clf__max_depth=55, clf__min_samples_leaf=7, clf__min_samples_split=10, clf__n_estimators=150 \n",
            "[CV]  clf__max_depth=55, clf__min_samples_leaf=7, clf__min_samples_split=10, clf__n_estimators=150, total=  12.8s\n",
            "[CV] clf__max_depth=55, clf__min_samples_leaf=7, clf__min_samples_split=10, clf__n_estimators=150 \n",
            "[CV]  clf__max_depth=55, clf__min_samples_leaf=7, clf__min_samples_split=10, clf__n_estimators=150, total=  12.8s\n",
            "[CV] clf__max_depth=55, clf__min_samples_leaf=7, clf__min_samples_split=10, clf__n_estimators=150 \n",
            "[CV]  clf__max_depth=55, clf__min_samples_leaf=7, clf__min_samples_split=10, clf__n_estimators=150, total=  12.9s\n",
            "[CV] clf__max_depth=55, clf__min_samples_leaf=7, clf__min_samples_split=10, clf__n_estimators=150 \n",
            "[CV]  clf__max_depth=55, clf__min_samples_leaf=7, clf__min_samples_split=10, clf__n_estimators=150, total=  12.9s\n",
            "[CV] clf__max_depth=55, clf__min_samples_leaf=7, clf__min_samples_split=10, clf__n_estimators=150 \n",
            "[CV]  clf__max_depth=55, clf__min_samples_leaf=7, clf__min_samples_split=10, clf__n_estimators=150, total=  13.0s\n",
            "[CV] clf__max_depth=75, clf__min_samples_leaf=5, clf__min_samples_split=5, clf__n_estimators=150 \n",
            "[CV]  clf__max_depth=75, clf__min_samples_leaf=5, clf__min_samples_split=5, clf__n_estimators=150, total=  13.2s\n",
            "[CV] clf__max_depth=75, clf__min_samples_leaf=5, clf__min_samples_split=5, clf__n_estimators=150 \n",
            "[CV]  clf__max_depth=75, clf__min_samples_leaf=5, clf__min_samples_split=5, clf__n_estimators=150, total=  13.6s\n",
            "[CV] clf__max_depth=75, clf__min_samples_leaf=5, clf__min_samples_split=5, clf__n_estimators=150 \n",
            "[CV]  clf__max_depth=75, clf__min_samples_leaf=5, clf__min_samples_split=5, clf__n_estimators=150, total=  13.1s\n",
            "[CV] clf__max_depth=75, clf__min_samples_leaf=5, clf__min_samples_split=5, clf__n_estimators=150 \n",
            "[CV]  clf__max_depth=75, clf__min_samples_leaf=5, clf__min_samples_split=5, clf__n_estimators=150, total=  13.6s\n",
            "[CV] clf__max_depth=75, clf__min_samples_leaf=5, clf__min_samples_split=5, clf__n_estimators=150 \n",
            "[CV]  clf__max_depth=75, clf__min_samples_leaf=5, clf__min_samples_split=5, clf__n_estimators=150, total=  13.0s\n",
            "[CV] clf__max_depth=75, clf__min_samples_leaf=5, clf__min_samples_split=10, clf__n_estimators=150 \n",
            "[CV]  clf__max_depth=75, clf__min_samples_leaf=5, clf__min_samples_split=10, clf__n_estimators=150, total=  13.5s\n",
            "[CV] clf__max_depth=75, clf__min_samples_leaf=5, clf__min_samples_split=10, clf__n_estimators=150 \n",
            "[CV]  clf__max_depth=75, clf__min_samples_leaf=5, clf__min_samples_split=10, clf__n_estimators=150, total=  13.4s\n",
            "[CV] clf__max_depth=75, clf__min_samples_leaf=5, clf__min_samples_split=10, clf__n_estimators=150 \n",
            "[CV]  clf__max_depth=75, clf__min_samples_leaf=5, clf__min_samples_split=10, clf__n_estimators=150, total=  13.1s\n",
            "[CV] clf__max_depth=75, clf__min_samples_leaf=5, clf__min_samples_split=10, clf__n_estimators=150 \n",
            "[CV]  clf__max_depth=75, clf__min_samples_leaf=5, clf__min_samples_split=10, clf__n_estimators=150, total=  12.9s\n",
            "[CV] clf__max_depth=75, clf__min_samples_leaf=5, clf__min_samples_split=10, clf__n_estimators=150 \n",
            "[CV]  clf__max_depth=75, clf__min_samples_leaf=5, clf__min_samples_split=10, clf__n_estimators=150, total=  13.1s\n",
            "[CV] clf__max_depth=75, clf__min_samples_leaf=6, clf__min_samples_split=5, clf__n_estimators=150 \n",
            "[CV]  clf__max_depth=75, clf__min_samples_leaf=6, clf__min_samples_split=5, clf__n_estimators=150, total=  12.9s\n",
            "[CV] clf__max_depth=75, clf__min_samples_leaf=6, clf__min_samples_split=5, clf__n_estimators=150 \n",
            "[CV]  clf__max_depth=75, clf__min_samples_leaf=6, clf__min_samples_split=5, clf__n_estimators=150, total=  12.8s\n",
            "[CV] clf__max_depth=75, clf__min_samples_leaf=6, clf__min_samples_split=5, clf__n_estimators=150 \n",
            "[CV]  clf__max_depth=75, clf__min_samples_leaf=6, clf__min_samples_split=5, clf__n_estimators=150, total=  12.8s\n",
            "[CV] clf__max_depth=75, clf__min_samples_leaf=6, clf__min_samples_split=5, clf__n_estimators=150 \n",
            "[CV]  clf__max_depth=75, clf__min_samples_leaf=6, clf__min_samples_split=5, clf__n_estimators=150, total=  13.0s\n",
            "[CV] clf__max_depth=75, clf__min_samples_leaf=6, clf__min_samples_split=5, clf__n_estimators=150 \n",
            "[CV]  clf__max_depth=75, clf__min_samples_leaf=6, clf__min_samples_split=5, clf__n_estimators=150, total=  13.0s\n",
            "[CV] clf__max_depth=75, clf__min_samples_leaf=6, clf__min_samples_split=10, clf__n_estimators=150 \n",
            "[CV]  clf__max_depth=75, clf__min_samples_leaf=6, clf__min_samples_split=10, clf__n_estimators=150, total=  12.8s\n",
            "[CV] clf__max_depth=75, clf__min_samples_leaf=6, clf__min_samples_split=10, clf__n_estimators=150 \n",
            "[CV]  clf__max_depth=75, clf__min_samples_leaf=6, clf__min_samples_split=10, clf__n_estimators=150, total=  12.6s\n",
            "[CV] clf__max_depth=75, clf__min_samples_leaf=6, clf__min_samples_split=10, clf__n_estimators=150 \n",
            "[CV]  clf__max_depth=75, clf__min_samples_leaf=6, clf__min_samples_split=10, clf__n_estimators=150, total=  13.0s\n",
            "[CV] clf__max_depth=75, clf__min_samples_leaf=6, clf__min_samples_split=10, clf__n_estimators=150 \n",
            "[CV]  clf__max_depth=75, clf__min_samples_leaf=6, clf__min_samples_split=10, clf__n_estimators=150, total=  13.0s\n",
            "[CV] clf__max_depth=75, clf__min_samples_leaf=6, clf__min_samples_split=10, clf__n_estimators=150 \n",
            "[CV]  clf__max_depth=75, clf__min_samples_leaf=6, clf__min_samples_split=10, clf__n_estimators=150, total=  13.0s\n",
            "[CV] clf__max_depth=75, clf__min_samples_leaf=7, clf__min_samples_split=5, clf__n_estimators=150 \n",
            "[CV]  clf__max_depth=75, clf__min_samples_leaf=7, clf__min_samples_split=5, clf__n_estimators=150, total=  12.6s\n",
            "[CV] clf__max_depth=75, clf__min_samples_leaf=7, clf__min_samples_split=5, clf__n_estimators=150 \n",
            "[CV]  clf__max_depth=75, clf__min_samples_leaf=7, clf__min_samples_split=5, clf__n_estimators=150, total=  12.9s\n",
            "[CV] clf__max_depth=75, clf__min_samples_leaf=7, clf__min_samples_split=5, clf__n_estimators=150 \n",
            "[CV]  clf__max_depth=75, clf__min_samples_leaf=7, clf__min_samples_split=5, clf__n_estimators=150, total=  12.8s\n",
            "[CV] clf__max_depth=75, clf__min_samples_leaf=7, clf__min_samples_split=5, clf__n_estimators=150 \n",
            "[CV]  clf__max_depth=75, clf__min_samples_leaf=7, clf__min_samples_split=5, clf__n_estimators=150, total=  13.0s\n",
            "[CV] clf__max_depth=75, clf__min_samples_leaf=7, clf__min_samples_split=5, clf__n_estimators=150 \n",
            "[CV]  clf__max_depth=75, clf__min_samples_leaf=7, clf__min_samples_split=5, clf__n_estimators=150, total=  12.8s\n",
            "[CV] clf__max_depth=75, clf__min_samples_leaf=7, clf__min_samples_split=10, clf__n_estimators=150 \n",
            "[CV]  clf__max_depth=75, clf__min_samples_leaf=7, clf__min_samples_split=10, clf__n_estimators=150, total=  12.8s\n",
            "[CV] clf__max_depth=75, clf__min_samples_leaf=7, clf__min_samples_split=10, clf__n_estimators=150 \n",
            "[CV]  clf__max_depth=75, clf__min_samples_leaf=7, clf__min_samples_split=10, clf__n_estimators=150, total=  12.7s\n",
            "[CV] clf__max_depth=75, clf__min_samples_leaf=7, clf__min_samples_split=10, clf__n_estimators=150 \n",
            "[CV]  clf__max_depth=75, clf__min_samples_leaf=7, clf__min_samples_split=10, clf__n_estimators=150, total=  13.3s\n",
            "[CV] clf__max_depth=75, clf__min_samples_leaf=7, clf__min_samples_split=10, clf__n_estimators=150 \n",
            "[CV]  clf__max_depth=75, clf__min_samples_leaf=7, clf__min_samples_split=10, clf__n_estimators=150, total=  13.5s\n",
            "[CV] clf__max_depth=75, clf__min_samples_leaf=7, clf__min_samples_split=10, clf__n_estimators=150 \n",
            "[CV]  clf__max_depth=75, clf__min_samples_leaf=7, clf__min_samples_split=10, clf__n_estimators=150, total=  13.6s\n",
            "[CV] clf__max_depth=80, clf__min_samples_leaf=5, clf__min_samples_split=5, clf__n_estimators=150 \n",
            "[CV]  clf__max_depth=80, clf__min_samples_leaf=5, clf__min_samples_split=5, clf__n_estimators=150, total=  14.0s\n",
            "[CV] clf__max_depth=80, clf__min_samples_leaf=5, clf__min_samples_split=5, clf__n_estimators=150 \n",
            "[CV]  clf__max_depth=80, clf__min_samples_leaf=5, clf__min_samples_split=5, clf__n_estimators=150, total=  14.2s\n",
            "[CV] clf__max_depth=80, clf__min_samples_leaf=5, clf__min_samples_split=5, clf__n_estimators=150 \n",
            "[CV]  clf__max_depth=80, clf__min_samples_leaf=5, clf__min_samples_split=5, clf__n_estimators=150, total=  14.1s\n",
            "[CV] clf__max_depth=80, clf__min_samples_leaf=5, clf__min_samples_split=5, clf__n_estimators=150 \n",
            "[CV]  clf__max_depth=80, clf__min_samples_leaf=5, clf__min_samples_split=5, clf__n_estimators=150, total=  14.2s\n",
            "[CV] clf__max_depth=80, clf__min_samples_leaf=5, clf__min_samples_split=5, clf__n_estimators=150 \n",
            "[CV]  clf__max_depth=80, clf__min_samples_leaf=5, clf__min_samples_split=5, clf__n_estimators=150, total=  14.3s\n",
            "[CV] clf__max_depth=80, clf__min_samples_leaf=5, clf__min_samples_split=10, clf__n_estimators=150 \n",
            "[CV]  clf__max_depth=80, clf__min_samples_leaf=5, clf__min_samples_split=10, clf__n_estimators=150, total=  14.6s\n",
            "[CV] clf__max_depth=80, clf__min_samples_leaf=5, clf__min_samples_split=10, clf__n_estimators=150 \n",
            "[CV]  clf__max_depth=80, clf__min_samples_leaf=5, clf__min_samples_split=10, clf__n_estimators=150, total=  14.3s\n",
            "[CV] clf__max_depth=80, clf__min_samples_leaf=5, clf__min_samples_split=10, clf__n_estimators=150 \n",
            "[CV]  clf__max_depth=80, clf__min_samples_leaf=5, clf__min_samples_split=10, clf__n_estimators=150, total=  13.9s\n",
            "[CV] clf__max_depth=80, clf__min_samples_leaf=5, clf__min_samples_split=10, clf__n_estimators=150 \n",
            "[CV]  clf__max_depth=80, clf__min_samples_leaf=5, clf__min_samples_split=10, clf__n_estimators=150, total=  13.9s\n",
            "[CV] clf__max_depth=80, clf__min_samples_leaf=5, clf__min_samples_split=10, clf__n_estimators=150 \n",
            "[CV]  clf__max_depth=80, clf__min_samples_leaf=5, clf__min_samples_split=10, clf__n_estimators=150, total=  14.1s\n",
            "[CV] clf__max_depth=80, clf__min_samples_leaf=6, clf__min_samples_split=5, clf__n_estimators=150 \n",
            "[CV]  clf__max_depth=80, clf__min_samples_leaf=6, clf__min_samples_split=5, clf__n_estimators=150, total=  13.7s\n",
            "[CV] clf__max_depth=80, clf__min_samples_leaf=6, clf__min_samples_split=5, clf__n_estimators=150 \n",
            "[CV]  clf__max_depth=80, clf__min_samples_leaf=6, clf__min_samples_split=5, clf__n_estimators=150, total=  13.6s\n",
            "[CV] clf__max_depth=80, clf__min_samples_leaf=6, clf__min_samples_split=5, clf__n_estimators=150 \n",
            "[CV]  clf__max_depth=80, clf__min_samples_leaf=6, clf__min_samples_split=5, clf__n_estimators=150, total=  13.6s\n",
            "[CV] clf__max_depth=80, clf__min_samples_leaf=6, clf__min_samples_split=5, clf__n_estimators=150 \n",
            "[CV]  clf__max_depth=80, clf__min_samples_leaf=6, clf__min_samples_split=5, clf__n_estimators=150, total=  13.8s\n",
            "[CV] clf__max_depth=80, clf__min_samples_leaf=6, clf__min_samples_split=5, clf__n_estimators=150 \n",
            "[CV]  clf__max_depth=80, clf__min_samples_leaf=6, clf__min_samples_split=5, clf__n_estimators=150, total=  13.5s\n",
            "[CV] clf__max_depth=80, clf__min_samples_leaf=6, clf__min_samples_split=10, clf__n_estimators=150 \n",
            "[CV]  clf__max_depth=80, clf__min_samples_leaf=6, clf__min_samples_split=10, clf__n_estimators=150, total=  13.6s\n",
            "[CV] clf__max_depth=80, clf__min_samples_leaf=6, clf__min_samples_split=10, clf__n_estimators=150 \n",
            "[CV]  clf__max_depth=80, clf__min_samples_leaf=6, clf__min_samples_split=10, clf__n_estimators=150, total=  13.5s\n",
            "[CV] clf__max_depth=80, clf__min_samples_leaf=6, clf__min_samples_split=10, clf__n_estimators=150 \n",
            "[CV]  clf__max_depth=80, clf__min_samples_leaf=6, clf__min_samples_split=10, clf__n_estimators=150, total=  13.5s\n",
            "[CV] clf__max_depth=80, clf__min_samples_leaf=6, clf__min_samples_split=10, clf__n_estimators=150 \n",
            "[CV]  clf__max_depth=80, clf__min_samples_leaf=6, clf__min_samples_split=10, clf__n_estimators=150, total=  13.5s\n",
            "[CV] clf__max_depth=80, clf__min_samples_leaf=6, clf__min_samples_split=10, clf__n_estimators=150 \n",
            "[CV]  clf__max_depth=80, clf__min_samples_leaf=6, clf__min_samples_split=10, clf__n_estimators=150, total=  13.7s\n",
            "[CV] clf__max_depth=80, clf__min_samples_leaf=7, clf__min_samples_split=5, clf__n_estimators=150 \n",
            "[CV]  clf__max_depth=80, clf__min_samples_leaf=7, clf__min_samples_split=5, clf__n_estimators=150, total=  13.3s\n",
            "[CV] clf__max_depth=80, clf__min_samples_leaf=7, clf__min_samples_split=5, clf__n_estimators=150 \n",
            "[CV]  clf__max_depth=80, clf__min_samples_leaf=7, clf__min_samples_split=5, clf__n_estimators=150, total=  13.4s\n",
            "[CV] clf__max_depth=80, clf__min_samples_leaf=7, clf__min_samples_split=5, clf__n_estimators=150 \n",
            "[CV]  clf__max_depth=80, clf__min_samples_leaf=7, clf__min_samples_split=5, clf__n_estimators=150, total=  13.2s\n",
            "[CV] clf__max_depth=80, clf__min_samples_leaf=7, clf__min_samples_split=5, clf__n_estimators=150 \n",
            "[CV]  clf__max_depth=80, clf__min_samples_leaf=7, clf__min_samples_split=5, clf__n_estimators=150, total=  13.3s\n",
            "[CV] clf__max_depth=80, clf__min_samples_leaf=7, clf__min_samples_split=5, clf__n_estimators=150 \n",
            "[CV]  clf__max_depth=80, clf__min_samples_leaf=7, clf__min_samples_split=5, clf__n_estimators=150, total=  13.4s\n",
            "[CV] clf__max_depth=80, clf__min_samples_leaf=7, clf__min_samples_split=10, clf__n_estimators=150 \n",
            "[CV]  clf__max_depth=80, clf__min_samples_leaf=7, clf__min_samples_split=10, clf__n_estimators=150, total=  13.4s\n",
            "[CV] clf__max_depth=80, clf__min_samples_leaf=7, clf__min_samples_split=10, clf__n_estimators=150 \n",
            "[CV]  clf__max_depth=80, clf__min_samples_leaf=7, clf__min_samples_split=10, clf__n_estimators=150, total=  13.5s\n",
            "[CV] clf__max_depth=80, clf__min_samples_leaf=7, clf__min_samples_split=10, clf__n_estimators=150 \n",
            "[CV]  clf__max_depth=80, clf__min_samples_leaf=7, clf__min_samples_split=10, clf__n_estimators=150, total=  13.2s\n",
            "[CV] clf__max_depth=80, clf__min_samples_leaf=7, clf__min_samples_split=10, clf__n_estimators=150 \n",
            "[CV]  clf__max_depth=80, clf__min_samples_leaf=7, clf__min_samples_split=10, clf__n_estimators=150, total=  13.4s\n",
            "[CV] clf__max_depth=80, clf__min_samples_leaf=7, clf__min_samples_split=10, clf__n_estimators=150 \n",
            "[CV]  clf__max_depth=80, clf__min_samples_leaf=7, clf__min_samples_split=10, clf__n_estimators=150, total=  13.1s\n",
            "[CV] clf__max_depth=90, clf__min_samples_leaf=5, clf__min_samples_split=5, clf__n_estimators=150 \n",
            "[CV]  clf__max_depth=90, clf__min_samples_leaf=5, clf__min_samples_split=5, clf__n_estimators=150, total=  13.7s\n",
            "[CV] clf__max_depth=90, clf__min_samples_leaf=5, clf__min_samples_split=5, clf__n_estimators=150 \n",
            "[CV]  clf__max_depth=90, clf__min_samples_leaf=5, clf__min_samples_split=5, clf__n_estimators=150, total=  13.6s\n",
            "[CV] clf__max_depth=90, clf__min_samples_leaf=5, clf__min_samples_split=5, clf__n_estimators=150 \n",
            "[CV]  clf__max_depth=90, clf__min_samples_leaf=5, clf__min_samples_split=5, clf__n_estimators=150, total=  13.6s\n",
            "[CV] clf__max_depth=90, clf__min_samples_leaf=5, clf__min_samples_split=5, clf__n_estimators=150 \n",
            "[CV]  clf__max_depth=90, clf__min_samples_leaf=5, clf__min_samples_split=5, clf__n_estimators=150, total=  13.5s\n",
            "[CV] clf__max_depth=90, clf__min_samples_leaf=5, clf__min_samples_split=5, clf__n_estimators=150 \n",
            "[CV]  clf__max_depth=90, clf__min_samples_leaf=5, clf__min_samples_split=5, clf__n_estimators=150, total=  13.9s\n",
            "[CV] clf__max_depth=90, clf__min_samples_leaf=5, clf__min_samples_split=10, clf__n_estimators=150 \n",
            "[CV]  clf__max_depth=90, clf__min_samples_leaf=5, clf__min_samples_split=10, clf__n_estimators=150, total=  13.8s\n",
            "[CV] clf__max_depth=90, clf__min_samples_leaf=5, clf__min_samples_split=10, clf__n_estimators=150 \n",
            "[CV]  clf__max_depth=90, clf__min_samples_leaf=5, clf__min_samples_split=10, clf__n_estimators=150, total=  13.7s\n",
            "[CV] clf__max_depth=90, clf__min_samples_leaf=5, clf__min_samples_split=10, clf__n_estimators=150 \n",
            "[CV]  clf__max_depth=90, clf__min_samples_leaf=5, clf__min_samples_split=10, clf__n_estimators=150, total=  13.5s\n",
            "[CV] clf__max_depth=90, clf__min_samples_leaf=5, clf__min_samples_split=10, clf__n_estimators=150 \n",
            "[CV]  clf__max_depth=90, clf__min_samples_leaf=5, clf__min_samples_split=10, clf__n_estimators=150, total=  13.7s\n",
            "[CV] clf__max_depth=90, clf__min_samples_leaf=5, clf__min_samples_split=10, clf__n_estimators=150 \n",
            "[CV]  clf__max_depth=90, clf__min_samples_leaf=5, clf__min_samples_split=10, clf__n_estimators=150, total=  13.6s\n",
            "[CV] clf__max_depth=90, clf__min_samples_leaf=6, clf__min_samples_split=5, clf__n_estimators=150 \n",
            "[CV]  clf__max_depth=90, clf__min_samples_leaf=6, clf__min_samples_split=5, clf__n_estimators=150, total=  13.3s\n",
            "[CV] clf__max_depth=90, clf__min_samples_leaf=6, clf__min_samples_split=5, clf__n_estimators=150 \n",
            "[CV]  clf__max_depth=90, clf__min_samples_leaf=6, clf__min_samples_split=5, clf__n_estimators=150, total=  12.8s\n",
            "[CV] clf__max_depth=90, clf__min_samples_leaf=6, clf__min_samples_split=5, clf__n_estimators=150 \n",
            "[CV]  clf__max_depth=90, clf__min_samples_leaf=6, clf__min_samples_split=5, clf__n_estimators=150, total=  12.8s\n",
            "[CV] clf__max_depth=90, clf__min_samples_leaf=6, clf__min_samples_split=5, clf__n_estimators=150 \n",
            "[CV]  clf__max_depth=90, clf__min_samples_leaf=6, clf__min_samples_split=5, clf__n_estimators=150, total=  13.2s\n",
            "[CV] clf__max_depth=90, clf__min_samples_leaf=6, clf__min_samples_split=5, clf__n_estimators=150 \n",
            "[CV]  clf__max_depth=90, clf__min_samples_leaf=6, clf__min_samples_split=5, clf__n_estimators=150, total=  13.1s\n",
            "[CV] clf__max_depth=90, clf__min_samples_leaf=6, clf__min_samples_split=10, clf__n_estimators=150 \n",
            "[CV]  clf__max_depth=90, clf__min_samples_leaf=6, clf__min_samples_split=10, clf__n_estimators=150, total=  13.1s\n",
            "[CV] clf__max_depth=90, clf__min_samples_leaf=6, clf__min_samples_split=10, clf__n_estimators=150 \n",
            "[CV]  clf__max_depth=90, clf__min_samples_leaf=6, clf__min_samples_split=10, clf__n_estimators=150, total=  13.1s\n",
            "[CV] clf__max_depth=90, clf__min_samples_leaf=6, clf__min_samples_split=10, clf__n_estimators=150 \n",
            "[CV]  clf__max_depth=90, clf__min_samples_leaf=6, clf__min_samples_split=10, clf__n_estimators=150, total=  13.0s\n",
            "[CV] clf__max_depth=90, clf__min_samples_leaf=6, clf__min_samples_split=10, clf__n_estimators=150 \n",
            "[CV]  clf__max_depth=90, clf__min_samples_leaf=6, clf__min_samples_split=10, clf__n_estimators=150, total=  13.1s\n",
            "[CV] clf__max_depth=90, clf__min_samples_leaf=6, clf__min_samples_split=10, clf__n_estimators=150 \n",
            "[CV]  clf__max_depth=90, clf__min_samples_leaf=6, clf__min_samples_split=10, clf__n_estimators=150, total=  13.0s\n",
            "[CV] clf__max_depth=90, clf__min_samples_leaf=7, clf__min_samples_split=5, clf__n_estimators=150 \n",
            "[CV]  clf__max_depth=90, clf__min_samples_leaf=7, clf__min_samples_split=5, clf__n_estimators=150, total=  12.6s\n",
            "[CV] clf__max_depth=90, clf__min_samples_leaf=7, clf__min_samples_split=5, clf__n_estimators=150 \n",
            "[CV]  clf__max_depth=90, clf__min_samples_leaf=7, clf__min_samples_split=5, clf__n_estimators=150, total=  13.1s\n",
            "[CV] clf__max_depth=90, clf__min_samples_leaf=7, clf__min_samples_split=5, clf__n_estimators=150 \n",
            "[CV]  clf__max_depth=90, clf__min_samples_leaf=7, clf__min_samples_split=5, clf__n_estimators=150, total=  12.8s\n",
            "[CV] clf__max_depth=90, clf__min_samples_leaf=7, clf__min_samples_split=5, clf__n_estimators=150 \n",
            "[CV]  clf__max_depth=90, clf__min_samples_leaf=7, clf__min_samples_split=5, clf__n_estimators=150, total=  12.8s\n",
            "[CV] clf__max_depth=90, clf__min_samples_leaf=7, clf__min_samples_split=5, clf__n_estimators=150 \n",
            "[CV]  clf__max_depth=90, clf__min_samples_leaf=7, clf__min_samples_split=5, clf__n_estimators=150, total=  12.7s\n",
            "[CV] clf__max_depth=90, clf__min_samples_leaf=7, clf__min_samples_split=10, clf__n_estimators=150 \n",
            "[CV]  clf__max_depth=90, clf__min_samples_leaf=7, clf__min_samples_split=10, clf__n_estimators=150, total=  12.8s\n",
            "[CV] clf__max_depth=90, clf__min_samples_leaf=7, clf__min_samples_split=10, clf__n_estimators=150 \n",
            "[CV]  clf__max_depth=90, clf__min_samples_leaf=7, clf__min_samples_split=10, clf__n_estimators=150, total=  12.9s\n",
            "[CV] clf__max_depth=90, clf__min_samples_leaf=7, clf__min_samples_split=10, clf__n_estimators=150 \n",
            "[CV]  clf__max_depth=90, clf__min_samples_leaf=7, clf__min_samples_split=10, clf__n_estimators=150, total=  13.2s\n",
            "[CV] clf__max_depth=90, clf__min_samples_leaf=7, clf__min_samples_split=10, clf__n_estimators=150 \n",
            "[CV]  clf__max_depth=90, clf__min_samples_leaf=7, clf__min_samples_split=10, clf__n_estimators=150, total=  13.1s\n",
            "[CV] clf__max_depth=90, clf__min_samples_leaf=7, clf__min_samples_split=10, clf__n_estimators=150 \n",
            "[CV]  clf__max_depth=90, clf__min_samples_leaf=7, clf__min_samples_split=10, clf__n_estimators=150, total=  13.3s\n",
            "[CV] clf__max_depth=100, clf__min_samples_leaf=5, clf__min_samples_split=5, clf__n_estimators=150 \n",
            "[CV]  clf__max_depth=100, clf__min_samples_leaf=5, clf__min_samples_split=5, clf__n_estimators=150, total=  13.9s\n",
            "[CV] clf__max_depth=100, clf__min_samples_leaf=5, clf__min_samples_split=5, clf__n_estimators=150 \n",
            "[CV]  clf__max_depth=100, clf__min_samples_leaf=5, clf__min_samples_split=5, clf__n_estimators=150, total=  13.6s\n",
            "[CV] clf__max_depth=100, clf__min_samples_leaf=5, clf__min_samples_split=5, clf__n_estimators=150 \n",
            "[CV]  clf__max_depth=100, clf__min_samples_leaf=5, clf__min_samples_split=5, clf__n_estimators=150, total=  13.6s\n",
            "[CV] clf__max_depth=100, clf__min_samples_leaf=5, clf__min_samples_split=5, clf__n_estimators=150 \n",
            "[CV]  clf__max_depth=100, clf__min_samples_leaf=5, clf__min_samples_split=5, clf__n_estimators=150, total=  13.9s\n",
            "[CV] clf__max_depth=100, clf__min_samples_leaf=5, clf__min_samples_split=5, clf__n_estimators=150 \n",
            "[CV]  clf__max_depth=100, clf__min_samples_leaf=5, clf__min_samples_split=5, clf__n_estimators=150, total=  13.8s\n",
            "[CV] clf__max_depth=100, clf__min_samples_leaf=5, clf__min_samples_split=10, clf__n_estimators=150 \n",
            "[CV]  clf__max_depth=100, clf__min_samples_leaf=5, clf__min_samples_split=10, clf__n_estimators=150, total=  13.8s\n",
            "[CV] clf__max_depth=100, clf__min_samples_leaf=5, clf__min_samples_split=10, clf__n_estimators=150 \n",
            "[CV]  clf__max_depth=100, clf__min_samples_leaf=5, clf__min_samples_split=10, clf__n_estimators=150, total=  13.7s\n",
            "[CV] clf__max_depth=100, clf__min_samples_leaf=5, clf__min_samples_split=10, clf__n_estimators=150 \n",
            "[CV]  clf__max_depth=100, clf__min_samples_leaf=5, clf__min_samples_split=10, clf__n_estimators=150, total=  13.4s\n",
            "[CV] clf__max_depth=100, clf__min_samples_leaf=5, clf__min_samples_split=10, clf__n_estimators=150 \n",
            "[CV]  clf__max_depth=100, clf__min_samples_leaf=5, clf__min_samples_split=10, clf__n_estimators=150, total=  13.3s\n",
            "[CV] clf__max_depth=100, clf__min_samples_leaf=5, clf__min_samples_split=10, clf__n_estimators=150 \n",
            "[CV]  clf__max_depth=100, clf__min_samples_leaf=5, clf__min_samples_split=10, clf__n_estimators=150, total=  13.2s\n",
            "[CV] clf__max_depth=100, clf__min_samples_leaf=6, clf__min_samples_split=5, clf__n_estimators=150 \n",
            "[CV]  clf__max_depth=100, clf__min_samples_leaf=6, clf__min_samples_split=5, clf__n_estimators=150, total=  12.9s\n",
            "[CV] clf__max_depth=100, clf__min_samples_leaf=6, clf__min_samples_split=5, clf__n_estimators=150 \n",
            "[CV]  clf__max_depth=100, clf__min_samples_leaf=6, clf__min_samples_split=5, clf__n_estimators=150, total=  12.8s\n",
            "[CV] clf__max_depth=100, clf__min_samples_leaf=6, clf__min_samples_split=5, clf__n_estimators=150 \n",
            "[CV]  clf__max_depth=100, clf__min_samples_leaf=6, clf__min_samples_split=5, clf__n_estimators=150, total=  12.8s\n",
            "[CV] clf__max_depth=100, clf__min_samples_leaf=6, clf__min_samples_split=5, clf__n_estimators=150 \n",
            "[CV]  clf__max_depth=100, clf__min_samples_leaf=6, clf__min_samples_split=5, clf__n_estimators=150, total=  13.1s\n",
            "[CV] clf__max_depth=100, clf__min_samples_leaf=6, clf__min_samples_split=5, clf__n_estimators=150 \n",
            "[CV]  clf__max_depth=100, clf__min_samples_leaf=6, clf__min_samples_split=5, clf__n_estimators=150, total=  12.9s\n",
            "[CV] clf__max_depth=100, clf__min_samples_leaf=6, clf__min_samples_split=10, clf__n_estimators=150 \n",
            "[CV]  clf__max_depth=100, clf__min_samples_leaf=6, clf__min_samples_split=10, clf__n_estimators=150, total=  13.0s\n",
            "[CV] clf__max_depth=100, clf__min_samples_leaf=6, clf__min_samples_split=10, clf__n_estimators=150 \n",
            "[CV]  clf__max_depth=100, clf__min_samples_leaf=6, clf__min_samples_split=10, clf__n_estimators=150, total=  12.8s\n",
            "[CV] clf__max_depth=100, clf__min_samples_leaf=6, clf__min_samples_split=10, clf__n_estimators=150 \n",
            "[CV]  clf__max_depth=100, clf__min_samples_leaf=6, clf__min_samples_split=10, clf__n_estimators=150, total=  12.8s\n",
            "[CV] clf__max_depth=100, clf__min_samples_leaf=6, clf__min_samples_split=10, clf__n_estimators=150 \n",
            "[CV]  clf__max_depth=100, clf__min_samples_leaf=6, clf__min_samples_split=10, clf__n_estimators=150, total=  12.9s\n",
            "[CV] clf__max_depth=100, clf__min_samples_leaf=6, clf__min_samples_split=10, clf__n_estimators=150 \n",
            "[CV]  clf__max_depth=100, clf__min_samples_leaf=6, clf__min_samples_split=10, clf__n_estimators=150, total=  12.8s\n",
            "[CV] clf__max_depth=100, clf__min_samples_leaf=7, clf__min_samples_split=5, clf__n_estimators=150 \n",
            "[CV]  clf__max_depth=100, clf__min_samples_leaf=7, clf__min_samples_split=5, clf__n_estimators=150, total=  12.8s\n",
            "[CV] clf__max_depth=100, clf__min_samples_leaf=7, clf__min_samples_split=5, clf__n_estimators=150 \n",
            "[CV]  clf__max_depth=100, clf__min_samples_leaf=7, clf__min_samples_split=5, clf__n_estimators=150, total=  12.7s\n",
            "[CV] clf__max_depth=100, clf__min_samples_leaf=7, clf__min_samples_split=5, clf__n_estimators=150 \n",
            "[CV]  clf__max_depth=100, clf__min_samples_leaf=7, clf__min_samples_split=5, clf__n_estimators=150, total=  12.6s\n",
            "[CV] clf__max_depth=100, clf__min_samples_leaf=7, clf__min_samples_split=5, clf__n_estimators=150 \n",
            "[CV]  clf__max_depth=100, clf__min_samples_leaf=7, clf__min_samples_split=5, clf__n_estimators=150, total=  12.5s\n",
            "[CV] clf__max_depth=100, clf__min_samples_leaf=7, clf__min_samples_split=5, clf__n_estimators=150 \n",
            "[CV]  clf__max_depth=100, clf__min_samples_leaf=7, clf__min_samples_split=5, clf__n_estimators=150, total=  12.7s\n",
            "[CV] clf__max_depth=100, clf__min_samples_leaf=7, clf__min_samples_split=10, clf__n_estimators=150 \n",
            "[CV]  clf__max_depth=100, clf__min_samples_leaf=7, clf__min_samples_split=10, clf__n_estimators=150, total=  12.6s\n",
            "[CV] clf__max_depth=100, clf__min_samples_leaf=7, clf__min_samples_split=10, clf__n_estimators=150 \n",
            "[CV]  clf__max_depth=100, clf__min_samples_leaf=7, clf__min_samples_split=10, clf__n_estimators=150, total=  12.7s\n",
            "[CV] clf__max_depth=100, clf__min_samples_leaf=7, clf__min_samples_split=10, clf__n_estimators=150 \n",
            "[CV]  clf__max_depth=100, clf__min_samples_leaf=7, clf__min_samples_split=10, clf__n_estimators=150, total=  12.4s\n",
            "[CV] clf__max_depth=100, clf__min_samples_leaf=7, clf__min_samples_split=10, clf__n_estimators=150 \n",
            "[CV]  clf__max_depth=100, clf__min_samples_leaf=7, clf__min_samples_split=10, clf__n_estimators=150, total=  12.7s\n",
            "[CV] clf__max_depth=100, clf__min_samples_leaf=7, clf__min_samples_split=10, clf__n_estimators=150 \n",
            "[CV]  clf__max_depth=100, clf__min_samples_leaf=7, clf__min_samples_split=10, clf__n_estimators=150, total=  12.6s\n"
          ],
          "name": "stdout"
        },
        {
          "output_type": "stream",
          "text": [
            "[Parallel(n_jobs=1)]: Done 150 out of 150 | elapsed: 37.1min finished\n"
          ],
          "name": "stderr"
        },
        {
          "output_type": "stream",
          "text": [
            "CPU times: user 37min 16s, sys: 4.58 s, total: 37min 21s\n",
            "Wall time: 37min 20s\n",
            "Best accuracy: 0.810\n",
            "\n",
            "Best params:\n",
            " {'clf__max_depth': 55, 'clf__min_samples_leaf': 5, 'clf__min_samples_split': 5, 'clf__n_estimators': 150}\n"
          ],
          "name": "stdout"
        }
      ]
    },
    {
      "cell_type": "code",
      "metadata": {
        "id": "j3n0ujYNX2va",
        "colab_type": "code",
        "colab": {
          "base_uri": "https://localhost:8080/",
          "height": 442
        },
        "outputId": "a4d3af72-7441-4756-fa5b-179802292f37"
      },
      "source": [
        "best_model = gs_rf.best_estimator_\n",
        "scores(best_model,X_train,X_val,y_train,y_val)\n",
        "roc_plot(best_model,X_train,y_train,X_val,y_val)"
      ],
      "execution_count": 72,
      "outputs": [
        {
          "output_type": "display_data",
          "data": {
            "image/png": "[encoded data removed]",
            "text/plain": [
              "<Figure size 504x504 with 1 Axes>"
            ]
          },
          "metadata": {
            "tags": []
          }
        }
      ]
    },
    {
      "cell_type": "code",
      "metadata": {
        "id": "Iqi4uZfvWNVM",
        "colab_type": "code",
        "colab": {
          "base_uri": "https://localhost:8080/",
          "height": 296
        },
        "outputId": "06964af0-0a28-44c7-fbe2-d30cf6f52555"
      },
      "source": [
        "opt_plots(gs_rf)"
      ],
      "execution_count": 73,
      "outputs": [
        {
          "output_type": "display_data",
          "data": {
            "image/png": "[encoded data removed]",
            "text/plain": [
              "<Figure size 1080x288 with 4 Axes>"
            ]
          },
          "metadata": {
            "tags": []
          }
        }
      ]
    },
    {
      "cell_type": "markdown",
      "metadata": {
        "id": "0CKosmlqWmZ1",
        "colab_type": "text"
      },
      "source": [
        "## XGBoost with GridSearch"
      ]
    },
    {
      "cell_type": "markdown",
      "metadata": {
        "id": "84tMEse63shv",
        "colab_type": "text"
      },
      "source": [
        "First iteration with exhaust search of all possible parameters"
      ]
    },
    {
      "cell_type": "code",
      "metadata": {
        "id": "TA28WnHhXLpu",
        "colab_type": "code",
        "colab": {
          "base_uri": "https://localhost:8080/",
          "height": 1000
        },
        "outputId": "ec02b16f-1a44-4bf7-817e-e45967acd742"
      },
      "source": [
        "pipe_rf = Pipeline([\n",
        "            ('clf', XGBClassifier(random_state = 123))])\n",
        "\n",
        "# Set grid search params\n",
        "param_grid_forest = [ \n",
        "  {'clf__n_estimators': [30, 50, 70,100,150],\n",
        "   'clf__learning_rate': [1.0, 0.5, 0.1]\n",
        "  }\n",
        "]\n",
        "\n",
        "# Construct grid search\n",
        "gs_xgb = GridSearchCV(estimator=pipe_rf,\n",
        "            param_grid=param_grid_forest,\n",
        "            scoring='accuracy',cv=3,\n",
        "            verbose=2, return_train_score = True)\n",
        "\n",
        "\n",
        "# Fit using grid search\n",
        "%time gs_xgb.fit(X_train, y_train)\n",
        "\n",
        "# Best accuracy\n",
        "print('Best accuracy: %.3f' % gs_xgb.best_score_)\n",
        "print('Best ROC: %.3f' % roc_auc_score(y_val, gs_xgb.predict(X_val)))\n",
        "# Best params\n",
        "print('\\nBest params:\\n', gs_xgb.best_params_)\n"
      ],
      "execution_count": 75,
      "outputs": [
        {
          "output_type": "stream",
          "text": [
            "Fitting 3 folds for each of 15 candidates, totalling 45 fits\n",
            "[CV] clf__learning_rate=1.0, clf__n_estimators=30 ....................\n"
          ],
          "name": "stdout"
        },
        {
          "output_type": "stream",
          "text": [
            "[Parallel(n_jobs=1)]: Using backend SequentialBackend with 1 concurrent workers.\n"
          ],
          "name": "stderr"
        },
        {
          "output_type": "stream",
          "text": [
            "[CV] ..... clf__learning_rate=1.0, clf__n_estimators=30, total=   1.2s\n",
            "[CV] clf__learning_rate=1.0, clf__n_estimators=30 ....................\n"
          ],
          "name": "stdout"
        },
        {
          "output_type": "stream",
          "text": [
            "[Parallel(n_jobs=1)]: Done   1 out of   1 | elapsed:    1.3s remaining:    0.0s\n"
          ],
          "name": "stderr"
        },
        {
          "output_type": "stream",
          "text": [
            "[CV] ..... clf__learning_rate=1.0, clf__n_estimators=30, total=   1.2s\n",
            "[CV] clf__learning_rate=1.0, clf__n_estimators=30 ....................\n",
            "[CV] ..... clf__learning_rate=1.0, clf__n_estimators=30, total=   1.2s\n",
            "[CV] clf__learning_rate=1.0, clf__n_estimators=50 ....................\n",
            "[CV] ..... clf__learning_rate=1.0, clf__n_estimators=50, total=   1.9s\n",
            "[CV] clf__learning_rate=1.0, clf__n_estimators=50 ....................\n",
            "[CV] ..... clf__learning_rate=1.0, clf__n_estimators=50, total=   1.9s\n",
            "[CV] clf__learning_rate=1.0, clf__n_estimators=50 ....................\n",
            "[CV] ..... clf__learning_rate=1.0, clf__n_estimators=50, total=   2.0s\n",
            "[CV] clf__learning_rate=1.0, clf__n_estimators=70 ....................\n",
            "[CV] ..... clf__learning_rate=1.0, clf__n_estimators=70, total=   2.6s\n",
            "[CV] clf__learning_rate=1.0, clf__n_estimators=70 ....................\n",
            "[CV] ..... clf__learning_rate=1.0, clf__n_estimators=70, total=   2.8s\n",
            "[CV] clf__learning_rate=1.0, clf__n_estimators=70 ....................\n",
            "[CV] ..... clf__learning_rate=1.0, clf__n_estimators=70, total=   2.6s\n",
            "[CV] clf__learning_rate=1.0, clf__n_estimators=100 ...................\n",
            "[CV] .... clf__learning_rate=1.0, clf__n_estimators=100, total=   3.6s\n",
            "[CV] clf__learning_rate=1.0, clf__n_estimators=100 ...................\n",
            "[CV] .... clf__learning_rate=1.0, clf__n_estimators=100, total=   3.6s\n",
            "[CV] clf__learning_rate=1.0, clf__n_estimators=100 ...................\n",
            "[CV] .... clf__learning_rate=1.0, clf__n_estimators=100, total=   3.8s\n",
            "[CV] clf__learning_rate=1.0, clf__n_estimators=150 ...................\n",
            "[CV] .... clf__learning_rate=1.0, clf__n_estimators=150, total=   5.4s\n",
            "[CV] clf__learning_rate=1.0, clf__n_estimators=150 ...................\n",
            "[CV] .... clf__learning_rate=1.0, clf__n_estimators=150, total=   5.5s\n",
            "[CV] clf__learning_rate=1.0, clf__n_estimators=150 ...................\n",
            "[CV] .... clf__learning_rate=1.0, clf__n_estimators=150, total=   5.5s\n",
            "[CV] clf__learning_rate=0.5, clf__n_estimators=30 ....................\n",
            "[CV] ..... clf__learning_rate=0.5, clf__n_estimators=30, total=   1.2s\n",
            "[CV] clf__learning_rate=0.5, clf__n_estimators=30 ....................\n",
            "[CV] ..... clf__learning_rate=0.5, clf__n_estimators=30, total=   1.2s\n",
            "[CV] clf__learning_rate=0.5, clf__n_estimators=30 ....................\n",
            "[CV] ..... clf__learning_rate=0.5, clf__n_estimators=30, total=   1.3s\n",
            "[CV] clf__learning_rate=0.5, clf__n_estimators=50 ....................\n",
            "[CV] ..... clf__learning_rate=0.5, clf__n_estimators=50, total=   2.0s\n",
            "[CV] clf__learning_rate=0.5, clf__n_estimators=50 ....................\n",
            "[CV] ..... clf__learning_rate=0.5, clf__n_estimators=50, total=   1.9s\n",
            "[CV] clf__learning_rate=0.5, clf__n_estimators=50 ....................\n",
            "[CV] ..... clf__learning_rate=0.5, clf__n_estimators=50, total=   1.9s\n",
            "[CV] clf__learning_rate=0.5, clf__n_estimators=70 ....................\n",
            "[CV] ..... clf__learning_rate=0.5, clf__n_estimators=70, total=   2.6s\n",
            "[CV] clf__learning_rate=0.5, clf__n_estimators=70 ....................\n",
            "[CV] ..... clf__learning_rate=0.5, clf__n_estimators=70, total=   2.6s\n",
            "[CV] clf__learning_rate=0.5, clf__n_estimators=70 ....................\n",
            "[CV] ..... clf__learning_rate=0.5, clf__n_estimators=70, total=   2.6s\n",
            "[CV] clf__learning_rate=0.5, clf__n_estimators=100 ...................\n",
            "[CV] .... clf__learning_rate=0.5, clf__n_estimators=100, total=   3.7s\n",
            "[CV] clf__learning_rate=0.5, clf__n_estimators=100 ...................\n",
            "[CV] .... clf__learning_rate=0.5, clf__n_estimators=100, total=   3.8s\n",
            "[CV] clf__learning_rate=0.5, clf__n_estimators=100 ...................\n",
            "[CV] .... clf__learning_rate=0.5, clf__n_estimators=100, total=   4.0s\n",
            "[CV] clf__learning_rate=0.5, clf__n_estimators=150 ...................\n",
            "[CV] .... clf__learning_rate=0.5, clf__n_estimators=150, total=   5.5s\n",
            "[CV] clf__learning_rate=0.5, clf__n_estimators=150 ...................\n",
            "[CV] .... clf__learning_rate=0.5, clf__n_estimators=150, total=   5.6s\n",
            "[CV] clf__learning_rate=0.5, clf__n_estimators=150 ...................\n",
            "[CV] .... clf__learning_rate=0.5, clf__n_estimators=150, total=   5.5s\n",
            "[CV] clf__learning_rate=0.1, clf__n_estimators=30 ....................\n",
            "[CV] ..... clf__learning_rate=0.1, clf__n_estimators=30, total=   1.3s\n",
            "[CV] clf__learning_rate=0.1, clf__n_estimators=30 ....................\n",
            "[CV] ..... clf__learning_rate=0.1, clf__n_estimators=30, total=   1.2s\n",
            "[CV] clf__learning_rate=0.1, clf__n_estimators=30 ....................\n",
            "[CV] ..... clf__learning_rate=0.1, clf__n_estimators=30, total=   1.3s\n",
            "[CV] clf__learning_rate=0.1, clf__n_estimators=50 ....................\n",
            "[CV] ..... clf__learning_rate=0.1, clf__n_estimators=50, total=   2.0s\n",
            "[CV] clf__learning_rate=0.1, clf__n_estimators=50 ....................\n",
            "[CV] ..... clf__learning_rate=0.1, clf__n_estimators=50, total=   2.0s\n",
            "[CV] clf__learning_rate=0.1, clf__n_estimators=50 ....................\n",
            "[CV] ..... clf__learning_rate=0.1, clf__n_estimators=50, total=   1.9s\n",
            "[CV] clf__learning_rate=0.1, clf__n_estimators=70 ....................\n",
            "[CV] ..... clf__learning_rate=0.1, clf__n_estimators=70, total=   2.8s\n",
            "[CV] clf__learning_rate=0.1, clf__n_estimators=70 ....................\n",
            "[CV] ..... clf__learning_rate=0.1, clf__n_estimators=70, total=   2.8s\n",
            "[CV] clf__learning_rate=0.1, clf__n_estimators=70 ....................\n",
            "[CV] ..... clf__learning_rate=0.1, clf__n_estimators=70, total=   2.7s\n",
            "[CV] clf__learning_rate=0.1, clf__n_estimators=100 ...................\n",
            "[CV] .... clf__learning_rate=0.1, clf__n_estimators=100, total=   3.7s\n",
            "[CV] clf__learning_rate=0.1, clf__n_estimators=100 ...................\n",
            "[CV] .... clf__learning_rate=0.1, clf__n_estimators=100, total=   3.8s\n",
            "[CV] clf__learning_rate=0.1, clf__n_estimators=100 ...................\n",
            "[CV] .... clf__learning_rate=0.1, clf__n_estimators=100, total=   3.8s\n",
            "[CV] clf__learning_rate=0.1, clf__n_estimators=150 ...................\n",
            "[CV] .... clf__learning_rate=0.1, clf__n_estimators=150, total=   5.6s\n",
            "[CV] clf__learning_rate=0.1, clf__n_estimators=150 ...................\n",
            "[CV] .... clf__learning_rate=0.1, clf__n_estimators=150, total=   5.7s\n",
            "[CV] clf__learning_rate=0.1, clf__n_estimators=150 ...................\n",
            "[CV] .... clf__learning_rate=0.1, clf__n_estimators=150, total=   5.7s\n"
          ],
          "name": "stdout"
        },
        {
          "output_type": "stream",
          "text": [
            "[Parallel(n_jobs=1)]: Done  45 out of  45 | elapsed:  2.4min finished\n"
          ],
          "name": "stderr"
        },
        {
          "output_type": "stream",
          "text": [
            "CPU times: user 2min 31s, sys: 304 ms, total: 2min 31s\n",
            "Wall time: 2min 31s\n",
            "Best accuracy: 0.811\n",
            "\n",
            "Best params:\n",
            " {'clf__learning_rate': 0.5, 'clf__n_estimators': 150}\n"
          ],
          "name": "stdout"
        }
      ]
    },
    {
      "cell_type": "code",
      "metadata": {
        "id": "U35aEN9WYG3u",
        "colab_type": "code",
        "colab": {
          "base_uri": "https://localhost:8080/",
          "height": 442
        },
        "outputId": "b3f8da03-d9ee-4b1e-ab9b-b706e3e89477"
      },
      "source": [
        "best_model = gs_xgb.best_estimator_\n",
        "scores(best_model,X_train,X_val,y_train,y_val)\n",
        "roc_plot(best_model,X_train,y_train,X_val,y_val)"
      ],
      "execution_count": 76,
      "outputs": [
        {
          "output_type": "display_data",
          "data": {
            "image/png": "[encoded data removed]",
            "text/plain": [
              "<Figure size 504x504 with 1 Axes>"
            ]
          },
          "metadata": {
            "tags": []
          }
        }
      ]
    },
    {
      "cell_type": "code",
      "metadata": {
        "id": "5L_RnYrFYMgg",
        "colab_type": "code",
        "colab": {
          "base_uri": "https://localhost:8080/",
          "height": 296
        },
        "outputId": "7e3f43dd-74c7-487c-ece0-8446323e897b"
      },
      "source": [
        "opt_plots_xgb(gs_xgb)"
      ],
      "execution_count": 83,
      "outputs": [
        {
          "output_type": "display_data",
          "data": {
            "image/png": "[encoded data removed]",
            "text/plain": [
              "<Figure size 1080x288 with 4 Axes>"
            ]
          },
          "metadata": {
            "tags": []
          }
        }
      ]
    },
    {
      "cell_type": "markdown",
      "metadata": {
        "id": "LXbCeSPh3z7a",
        "colab_type": "text"
      },
      "source": [
        "Second iteration with range of parameters having best scores"
      ]
    },
    {
      "cell_type": "code",
      "metadata": {
        "id": "yE7dfbtyZFGc",
        "colab_type": "code",
        "colab": {
          "base_uri": "https://localhost:8080/",
          "height": 1000
        },
        "outputId": "239d6554-df3a-4579-c368-fdae2cd388a7"
      },
      "source": [
        "pipe_rf = Pipeline([\n",
        "            ('clf', XGBClassifier(random_state = 123))])\n",
        "\n",
        "# Set grid search params\n",
        "param_grid_forest = [ \n",
        "  {'clf__n_estimators': [130,140,150,160,170],\n",
        "   'clf__learning_rate': [0.3, 0.5, 0.7]\n",
        "  }\n",
        "]\n",
        "\n",
        "# Construct grid search\n",
        "gs_xgb = GridSearchCV(estimator=pipe_rf,\n",
        "            param_grid=param_grid_forest,\n",
        "            scoring='accuracy',cv=3,\n",
        "            verbose=2, return_train_score = True)\n",
        "\n",
        "\n",
        "# Fit using grid search\n",
        "%time gs_xgb.fit(X_train, y_train)\n",
        "\n",
        "# Best accuracy\n",
        "print('Best accuracy: %.3f' % gs_xgb.best_score_)\n",
        "print('Best ROC: %.3f' % roc_auc_score(y_val, gs_xgb.best_params_.predict(X_val)))\n",
        "\n",
        "# Best params\n",
        "print('\\nBest params:\\n', gs_xgb.best_params_)\n"
      ],
      "execution_count": 84,
      "outputs": [
        {
          "output_type": "stream",
          "text": [
            "Fitting 3 folds for each of 15 candidates, totalling 45 fits\n",
            "[CV] clf__learning_rate=0.3, clf__n_estimators=130 ...................\n"
          ],
          "name": "stdout"
        },
        {
          "output_type": "stream",
          "text": [
            "[Parallel(n_jobs=1)]: Using backend SequentialBackend with 1 concurrent workers.\n"
          ],
          "name": "stderr"
        },
        {
          "output_type": "stream",
          "text": [
            "[CV] .... clf__learning_rate=0.3, clf__n_estimators=130, total=   4.9s\n",
            "[CV] clf__learning_rate=0.3, clf__n_estimators=130 ...................\n"
          ],
          "name": "stdout"
        },
        {
          "output_type": "stream",
          "text": [
            "[Parallel(n_jobs=1)]: Done   1 out of   1 | elapsed:    5.1s remaining:    0.0s\n"
          ],
          "name": "stderr"
        },
        {
          "output_type": "stream",
          "text": [
            "[CV] .... clf__learning_rate=0.3, clf__n_estimators=130, total=   4.7s\n",
            "[CV] clf__learning_rate=0.3, clf__n_estimators=130 ...................\n",
            "[CV] .... clf__learning_rate=0.3, clf__n_estimators=130, total=   4.7s\n",
            "[CV] clf__learning_rate=0.3, clf__n_estimators=140 ...................\n",
            "[CV] .... clf__learning_rate=0.3, clf__n_estimators=140, total=   5.3s\n",
            "[CV] clf__learning_rate=0.3, clf__n_estimators=140 ...................\n",
            "[CV] .... clf__learning_rate=0.3, clf__n_estimators=140, total=   5.2s\n",
            "[CV] clf__learning_rate=0.3, clf__n_estimators=140 ...................\n",
            "[CV] .... clf__learning_rate=0.3, clf__n_estimators=140, total=   5.2s\n",
            "[CV] clf__learning_rate=0.3, clf__n_estimators=150 ...................\n",
            "[CV] .... clf__learning_rate=0.3, clf__n_estimators=150, total=   5.5s\n",
            "[CV] clf__learning_rate=0.3, clf__n_estimators=150 ...................\n",
            "[CV] .... clf__learning_rate=0.3, clf__n_estimators=150, total=   5.6s\n",
            "[CV] clf__learning_rate=0.3, clf__n_estimators=150 ...................\n",
            "[CV] .... clf__learning_rate=0.3, clf__n_estimators=150, total=   5.5s\n",
            "[CV] clf__learning_rate=0.3, clf__n_estimators=160 ...................\n",
            "[CV] .... clf__learning_rate=0.3, clf__n_estimators=160, total=   5.9s\n",
            "[CV] clf__learning_rate=0.3, clf__n_estimators=160 ...................\n",
            "[CV] .... clf__learning_rate=0.3, clf__n_estimators=160, total=   5.7s\n",
            "[CV] clf__learning_rate=0.3, clf__n_estimators=160 ...................\n",
            "[CV] .... clf__learning_rate=0.3, clf__n_estimators=160, total=   5.9s\n",
            "[CV] clf__learning_rate=0.3, clf__n_estimators=170 ...................\n",
            "[CV] .... clf__learning_rate=0.3, clf__n_estimators=170, total=   6.0s\n",
            "[CV] clf__learning_rate=0.3, clf__n_estimators=170 ...................\n",
            "[CV] .... clf__learning_rate=0.3, clf__n_estimators=170, total=   6.2s\n",
            "[CV] clf__learning_rate=0.3, clf__n_estimators=170 ...................\n",
            "[CV] .... clf__learning_rate=0.3, clf__n_estimators=170, total=   6.0s\n",
            "[CV] clf__learning_rate=0.5, clf__n_estimators=130 ...................\n",
            "[CV] .... clf__learning_rate=0.5, clf__n_estimators=130, total=   4.8s\n",
            "[CV] clf__learning_rate=0.5, clf__n_estimators=130 ...................\n",
            "[CV] .... clf__learning_rate=0.5, clf__n_estimators=130, total=   4.8s\n",
            "[CV] clf__learning_rate=0.5, clf__n_estimators=130 ...................\n",
            "[CV] .... clf__learning_rate=0.5, clf__n_estimators=130, total=   4.8s\n",
            "[CV] clf__learning_rate=0.5, clf__n_estimators=140 ...................\n",
            "[CV] .... clf__learning_rate=0.5, clf__n_estimators=140, total=   5.0s\n",
            "[CV] clf__learning_rate=0.5, clf__n_estimators=140 ...................\n",
            "[CV] .... clf__learning_rate=0.5, clf__n_estimators=140, total=   5.1s\n",
            "[CV] clf__learning_rate=0.5, clf__n_estimators=140 ...................\n",
            "[CV] .... clf__learning_rate=0.5, clf__n_estimators=140, total=   5.1s\n",
            "[CV] clf__learning_rate=0.5, clf__n_estimators=150 ...................\n",
            "[CV] .... clf__learning_rate=0.5, clf__n_estimators=150, total=   5.4s\n",
            "[CV] clf__learning_rate=0.5, clf__n_estimators=150 ...................\n",
            "[CV] .... clf__learning_rate=0.5, clf__n_estimators=150, total=   5.4s\n",
            "[CV] clf__learning_rate=0.5, clf__n_estimators=150 ...................\n",
            "[CV] .... clf__learning_rate=0.5, clf__n_estimators=150, total=   5.3s\n",
            "[CV] clf__learning_rate=0.5, clf__n_estimators=160 ...................\n",
            "[CV] .... clf__learning_rate=0.5, clf__n_estimators=160, total=   6.0s\n",
            "[CV] clf__learning_rate=0.5, clf__n_estimators=160 ...................\n",
            "[CV] .... clf__learning_rate=0.5, clf__n_estimators=160, total=   6.0s\n",
            "[CV] clf__learning_rate=0.5, clf__n_estimators=160 ...................\n",
            "[CV] .... clf__learning_rate=0.5, clf__n_estimators=160, total=   6.0s\n",
            "[CV] clf__learning_rate=0.5, clf__n_estimators=170 ...................\n",
            "[CV] .... clf__learning_rate=0.5, clf__n_estimators=170, total=   6.5s\n",
            "[CV] clf__learning_rate=0.5, clf__n_estimators=170 ...................\n",
            "[CV] .... clf__learning_rate=0.5, clf__n_estimators=170, total=   6.3s\n",
            "[CV] clf__learning_rate=0.5, clf__n_estimators=170 ...................\n",
            "[CV] .... clf__learning_rate=0.5, clf__n_estimators=170, total=   6.4s\n",
            "[CV] clf__learning_rate=0.7, clf__n_estimators=130 ...................\n",
            "[CV] .... clf__learning_rate=0.7, clf__n_estimators=130, total=   4.9s\n",
            "[CV] clf__learning_rate=0.7, clf__n_estimators=130 ...................\n",
            "[CV] .... clf__learning_rate=0.7, clf__n_estimators=130, total=   5.0s\n",
            "[CV] clf__learning_rate=0.7, clf__n_estimators=130 ...................\n",
            "[CV] .... clf__learning_rate=0.7, clf__n_estimators=130, total=   4.9s\n",
            "[CV] clf__learning_rate=0.7, clf__n_estimators=140 ...................\n",
            "[CV] .... clf__learning_rate=0.7, clf__n_estimators=140, total=   5.3s\n",
            "[CV] clf__learning_rate=0.7, clf__n_estimators=140 ...................\n",
            "[CV] .... clf__learning_rate=0.7, clf__n_estimators=140, total=   5.4s\n",
            "[CV] clf__learning_rate=0.7, clf__n_estimators=140 ...................\n",
            "[CV] .... clf__learning_rate=0.7, clf__n_estimators=140, total=   5.2s\n",
            "[CV] clf__learning_rate=0.7, clf__n_estimators=150 ...................\n",
            "[CV] .... clf__learning_rate=0.7, clf__n_estimators=150, total=   5.7s\n",
            "[CV] clf__learning_rate=0.7, clf__n_estimators=150 ...................\n",
            "[CV] .... clf__learning_rate=0.7, clf__n_estimators=150, total=   5.6s\n",
            "[CV] clf__learning_rate=0.7, clf__n_estimators=150 ...................\n",
            "[CV] .... clf__learning_rate=0.7, clf__n_estimators=150, total=   5.8s\n",
            "[CV] clf__learning_rate=0.7, clf__n_estimators=160 ...................\n",
            "[CV] .... clf__learning_rate=0.7, clf__n_estimators=160, total=   6.0s\n",
            "[CV] clf__learning_rate=0.7, clf__n_estimators=160 ...................\n",
            "[CV] .... clf__learning_rate=0.7, clf__n_estimators=160, total=   6.0s\n",
            "[CV] clf__learning_rate=0.7, clf__n_estimators=160 ...................\n",
            "[CV] .... clf__learning_rate=0.7, clf__n_estimators=160, total=   6.1s\n",
            "[CV] clf__learning_rate=0.7, clf__n_estimators=170 ...................\n",
            "[CV] .... clf__learning_rate=0.7, clf__n_estimators=170, total=   6.5s\n",
            "[CV] clf__learning_rate=0.7, clf__n_estimators=170 ...................\n",
            "[CV] .... clf__learning_rate=0.7, clf__n_estimators=170, total=   6.3s\n",
            "[CV] clf__learning_rate=0.7, clf__n_estimators=170 ...................\n",
            "[CV] .... clf__learning_rate=0.7, clf__n_estimators=170, total=   6.3s\n"
          ],
          "name": "stdout"
        },
        {
          "output_type": "stream",
          "text": [
            "[Parallel(n_jobs=1)]: Done  45 out of  45 | elapsed:  4.4min finished\n"
          ],
          "name": "stderr"
        },
        {
          "output_type": "stream",
          "text": [
            "CPU times: user 4min 31s, sys: 507 ms, total: 4min 31s\n",
            "Wall time: 4min 31s\n",
            "Best accuracy: 0.812\n",
            "\n",
            "Best params:\n",
            " {'clf__learning_rate': 0.3, 'clf__n_estimators': 170}\n"
          ],
          "name": "stdout"
        }
      ]
    },
    {
      "cell_type": "code",
      "metadata": {
        "id": "YvjEY6GVa-XQ",
        "colab_type": "code",
        "colab": {
          "base_uri": "https://localhost:8080/",
          "height": 442
        },
        "outputId": "9e5a73f7-b3b1-45f6-d67d-aefb3ce20303"
      },
      "source": [
        "best_model = gs_xgb.best_estimator_\n",
        "scores(best_model,X_train,X_val,y_train,y_val)\n",
        "roc_plot(best_model,X_train,y_train,X_val,y_val)"
      ],
      "execution_count": 85,
      "outputs": [
        {
          "output_type": "display_data",
          "data": {
            "image/png": "[encoded data removed]",
            "text/plain": [
              "<Figure size 504x504 with 1 Axes>"
            ]
          },
          "metadata": {
            "tags": []
          }
        }
      ]
    },
    {
      "cell_type": "code",
      "metadata": {
        "id": "1ezn1ZoAbBcp",
        "colab_type": "code",
        "colab": {
          "base_uri": "https://localhost:8080/",
          "height": 296
        },
        "outputId": "547c41f1-2416-4209-9334-855e6bb79c86"
      },
      "source": [
        "opt_plots_xgb(gs_xgb)"
      ],
      "execution_count": 86,
      "outputs": [
        {
          "output_type": "display_data",
          "data": {
            "image/png": "[encoded data removed]",
            "text/plain": [
              "<Figure size 1080x288 with 4 Axes>"
            ]
          },
          "metadata": {
            "tags": []
          }
        }
      ]
    },
    {
      "cell_type": "markdown",
      "metadata": {
        "id": "pDeHQkKy37Qy",
        "colab_type": "text"
      },
      "source": [
        "Third iteration with parameter selection on unit level"
      ]
    },
    {
      "cell_type": "code",
      "metadata": {
        "id": "nADU3AJQccFf",
        "colab_type": "code",
        "colab": {
          "base_uri": "https://localhost:8080/",
          "height": 1000
        },
        "outputId": "0485a6ec-58d0-4ae5-a23a-e62c2c72367c"
      },
      "source": [
        "pipe_rf = Pipeline([\n",
        "            ('clf', XGBClassifier(random_state = 123))])\n",
        "\n",
        "# Set grid search params\n",
        "param_grid_forest = [ \n",
        "  {'clf__n_estimators': [160,161,162,163,164,164,165,166,167,168,169,170],\n",
        "   'clf__learning_rate': [0.3, 0.31,0.32,0.33,0.34,0.35,0.36,0.37,0.38,0.39,0.4]\n",
        "  }\n",
        "]\n",
        "\n",
        "# Construct grid search\n",
        "gs_xgb = GridSearchCV(estimator=pipe_rf,\n",
        "            param_grid=param_grid_forest,\n",
        "            scoring='accuracy',cv=3,\n",
        "            verbose=2, return_train_score = True)\n",
        "\n",
        "\n",
        "# Fit using grid search\n",
        "%time gs_xgb.fit(X_train, y_train)\n",
        "\n",
        "# Best accuracy\n",
        "print('Best accuracy: %.3f' % gs_xgb.best_score_)\n",
        "\n",
        "# Best params\n",
        "print('\\nBest params:\\n', gs_xgb.best_params_)\n"
      ],
      "execution_count": 92,
      "outputs": [
        {
          "output_type": "stream",
          "text": [
            "Fitting 3 folds for each of 132 candidates, totalling 396 fits\n",
            "[CV] clf__learning_rate=0.3, clf__n_estimators=160 ...................\n"
          ],
          "name": "stdout"
        },
        {
          "output_type": "stream",
          "text": [
            "[Parallel(n_jobs=1)]: Using backend SequentialBackend with 1 concurrent workers.\n"
          ],
          "name": "stderr"
        },
        {
          "output_type": "stream",
          "text": [
            "[CV] .... clf__learning_rate=0.3, clf__n_estimators=160, total=   5.7s\n",
            "[CV] clf__learning_rate=0.3, clf__n_estimators=160 ...................\n"
          ],
          "name": "stdout"
        },
        {
          "output_type": "stream",
          "text": [
            "[Parallel(n_jobs=1)]: Done   1 out of   1 | elapsed:    6.0s remaining:    0.0s\n"
          ],
          "name": "stderr"
        },
        {
          "output_type": "stream",
          "text": [
            "[CV] .... clf__learning_rate=0.3, clf__n_estimators=160, total=   5.7s\n",
            "[CV] clf__learning_rate=0.3, clf__n_estimators=160 ...................\n",
            "[CV] .... clf__learning_rate=0.3, clf__n_estimators=160, total=   5.7s\n",
            "[CV] clf__learning_rate=0.3, clf__n_estimators=161 ...................\n",
            "[CV] .... clf__learning_rate=0.3, clf__n_estimators=161, total=   5.9s\n",
            "[CV] clf__learning_rate=0.3, clf__n_estimators=161 ...................\n",
            "[CV] .... clf__learning_rate=0.3, clf__n_estimators=161, total=   5.7s\n",
            "[CV] clf__learning_rate=0.3, clf__n_estimators=161 ...................\n",
            "[CV] .... clf__learning_rate=0.3, clf__n_estimators=161, total=   5.8s\n",
            "[CV] clf__learning_rate=0.3, clf__n_estimators=162 ...................\n",
            "[CV] .... clf__learning_rate=0.3, clf__n_estimators=162, total=   5.7s\n",
            "[CV] clf__learning_rate=0.3, clf__n_estimators=162 ...................\n",
            "[CV] .... clf__learning_rate=0.3, clf__n_estimators=162, total=   6.0s\n",
            "[CV] clf__learning_rate=0.3, clf__n_estimators=162 ...................\n",
            "[CV] .... clf__learning_rate=0.3, clf__n_estimators=162, total=   5.8s\n",
            "[CV] clf__learning_rate=0.3, clf__n_estimators=163 ...................\n",
            "[CV] .... clf__learning_rate=0.3, clf__n_estimators=163, total=   5.9s\n",
            "[CV] clf__learning_rate=0.3, clf__n_estimators=163 ...................\n",
            "[CV] .... clf__learning_rate=0.3, clf__n_estimators=163, total=   5.7s\n",
            "[CV] clf__learning_rate=0.3, clf__n_estimators=163 ...................\n",
            "[CV] .... clf__learning_rate=0.3, clf__n_estimators=163, total=   5.7s\n",
            "[CV] clf__learning_rate=0.3, clf__n_estimators=164 ...................\n",
            "[CV] .... clf__learning_rate=0.3, clf__n_estimators=164, total=   5.7s\n",
            "[CV] clf__learning_rate=0.3, clf__n_estimators=164 ...................\n",
            "[CV] .... clf__learning_rate=0.3, clf__n_estimators=164, total=   5.9s\n",
            "[CV] clf__learning_rate=0.3, clf__n_estimators=164 ...................\n",
            "[CV] .... clf__learning_rate=0.3, clf__n_estimators=164, total=   5.8s\n",
            "[CV] clf__learning_rate=0.3, clf__n_estimators=164 ...................\n",
            "[CV] .... clf__learning_rate=0.3, clf__n_estimators=164, total=   6.1s\n",
            "[CV] clf__learning_rate=0.3, clf__n_estimators=164 ...................\n",
            "[CV] .... clf__learning_rate=0.3, clf__n_estimators=164, total=   5.8s\n",
            "[CV] clf__learning_rate=0.3, clf__n_estimators=164 ...................\n",
            "[CV] .... clf__learning_rate=0.3, clf__n_estimators=164, total=   5.9s\n",
            "[CV] clf__learning_rate=0.3, clf__n_estimators=165 ...................\n",
            "[CV] .... clf__learning_rate=0.3, clf__n_estimators=165, total=   5.8s\n",
            "[CV] clf__learning_rate=0.3, clf__n_estimators=165 ...................\n",
            "[CV] .... clf__learning_rate=0.3, clf__n_estimators=165, total=   5.9s\n",
            "[CV] clf__learning_rate=0.3, clf__n_estimators=165 ...................\n",
            "[CV] .... clf__learning_rate=0.3, clf__n_estimators=165, total=   5.7s\n",
            "[CV] clf__learning_rate=0.3, clf__n_estimators=166 ...................\n",
            "[CV] .... clf__learning_rate=0.3, clf__n_estimators=166, total=   5.8s\n",
            "[CV] clf__learning_rate=0.3, clf__n_estimators=166 ...................\n",
            "[CV] .... clf__learning_rate=0.3, clf__n_estimators=166, total=   5.8s\n",
            "[CV] clf__learning_rate=0.3, clf__n_estimators=166 ...................\n",
            "[CV] .... clf__learning_rate=0.3, clf__n_estimators=166, total=   6.0s\n",
            "[CV] clf__learning_rate=0.3, clf__n_estimators=167 ...................\n",
            "[CV] .... clf__learning_rate=0.3, clf__n_estimators=167, total=   5.8s\n",
            "[CV] clf__learning_rate=0.3, clf__n_estimators=167 ...................\n",
            "[CV] .... clf__learning_rate=0.3, clf__n_estimators=167, total=   6.1s\n",
            "[CV] clf__learning_rate=0.3, clf__n_estimators=167 ...................\n",
            "[CV] .... clf__learning_rate=0.3, clf__n_estimators=167, total=   5.9s\n",
            "[CV] clf__learning_rate=0.3, clf__n_estimators=168 ...................\n",
            "[CV] .... clf__learning_rate=0.3, clf__n_estimators=168, total=   5.9s\n",
            "[CV] clf__learning_rate=0.3, clf__n_estimators=168 ...................\n",
            "[CV] .... clf__learning_rate=0.3, clf__n_estimators=168, total=   6.1s\n",
            "[CV] clf__learning_rate=0.3, clf__n_estimators=168 ...................\n",
            "[CV] .... clf__learning_rate=0.3, clf__n_estimators=168, total=   5.9s\n",
            "[CV] clf__learning_rate=0.3, clf__n_estimators=169 ...................\n",
            "[CV] .... clf__learning_rate=0.3, clf__n_estimators=169, total=   5.9s\n",
            "[CV] clf__learning_rate=0.3, clf__n_estimators=169 ...................\n",
            "[CV] .... clf__learning_rate=0.3, clf__n_estimators=169, total=   6.1s\n",
            "[CV] clf__learning_rate=0.3, clf__n_estimators=169 ...................\n",
            "[CV] .... clf__learning_rate=0.3, clf__n_estimators=169, total=   6.3s\n",
            "[CV] clf__learning_rate=0.3, clf__n_estimators=170 ...................\n",
            "[CV] .... clf__learning_rate=0.3, clf__n_estimators=170, total=   6.2s\n",
            "[CV] clf__learning_rate=0.3, clf__n_estimators=170 ...................\n",
            "[CV] .... clf__learning_rate=0.3, clf__n_estimators=170, total=   6.3s\n",
            "[CV] clf__learning_rate=0.3, clf__n_estimators=170 ...................\n",
            "[CV] .... clf__learning_rate=0.3, clf__n_estimators=170, total=   6.2s\n",
            "[CV] clf__learning_rate=0.31, clf__n_estimators=160 ..................\n",
            "[CV] ... clf__learning_rate=0.31, clf__n_estimators=160, total=   6.0s\n",
            "[CV] clf__learning_rate=0.31, clf__n_estimators=160 ..................\n",
            "[CV] ... clf__learning_rate=0.31, clf__n_estimators=160, total=   5.8s\n",
            "[CV] clf__learning_rate=0.31, clf__n_estimators=160 ..................\n",
            "[CV] ... clf__learning_rate=0.31, clf__n_estimators=160, total=   6.1s\n",
            "[CV] clf__learning_rate=0.31, clf__n_estimators=161 ..................\n",
            "[CV] ... clf__learning_rate=0.31, clf__n_estimators=161, total=   6.0s\n",
            "[CV] clf__learning_rate=0.31, clf__n_estimators=161 ..................\n",
            "[CV] ... clf__learning_rate=0.31, clf__n_estimators=161, total=   6.2s\n",
            "[CV] clf__learning_rate=0.31, clf__n_estimators=161 ..................\n",
            "[CV] ... clf__learning_rate=0.31, clf__n_estimators=161, total=   6.1s\n",
            "[CV] clf__learning_rate=0.31, clf__n_estimators=162 ..................\n",
            "[CV] ... clf__learning_rate=0.31, clf__n_estimators=162, total=   6.1s\n",
            "[CV] clf__learning_rate=0.31, clf__n_estimators=162 ..................\n",
            "[CV] ... clf__learning_rate=0.31, clf__n_estimators=162, total=   6.1s\n",
            "[CV] clf__learning_rate=0.31, clf__n_estimators=162 ..................\n",
            "[CV] ... clf__learning_rate=0.31, clf__n_estimators=162, total=   5.9s\n",
            "[CV] clf__learning_rate=0.31, clf__n_estimators=163 ..................\n",
            "[CV] ... clf__learning_rate=0.31, clf__n_estimators=163, total=   6.2s\n",
            "[CV] clf__learning_rate=0.31, clf__n_estimators=163 ..................\n",
            "[CV] ... clf__learning_rate=0.31, clf__n_estimators=163, total=   5.9s\n",
            "[CV] clf__learning_rate=0.31, clf__n_estimators=163 ..................\n",
            "[CV] ... clf__learning_rate=0.31, clf__n_estimators=163, total=   6.0s\n",
            "[CV] clf__learning_rate=0.31, clf__n_estimators=164 ..................\n",
            "[CV] ... clf__learning_rate=0.31, clf__n_estimators=164, total=   6.1s\n",
            "[CV] clf__learning_rate=0.31, clf__n_estimators=164 ..................\n",
            "[CV] ... clf__learning_rate=0.31, clf__n_estimators=164, total=   6.2s\n",
            "[CV] clf__learning_rate=0.31, clf__n_estimators=164 ..................\n",
            "[CV] ... clf__learning_rate=0.31, clf__n_estimators=164, total=   6.0s\n",
            "[CV] clf__learning_rate=0.31, clf__n_estimators=164 ..................\n",
            "[CV] ... clf__learning_rate=0.31, clf__n_estimators=164, total=   6.1s\n",
            "[CV] clf__learning_rate=0.31, clf__n_estimators=164 ..................\n",
            "[CV] ... clf__learning_rate=0.31, clf__n_estimators=164, total=   6.0s\n",
            "[CV] clf__learning_rate=0.31, clf__n_estimators=164 ..................\n",
            "[CV] ... clf__learning_rate=0.31, clf__n_estimators=164, total=   6.2s\n",
            "[CV] clf__learning_rate=0.31, clf__n_estimators=165 ..................\n",
            "[CV] ... clf__learning_rate=0.31, clf__n_estimators=165, total=   6.0s\n",
            "[CV] clf__learning_rate=0.31, clf__n_estimators=165 ..................\n",
            "[CV] ... clf__learning_rate=0.31, clf__n_estimators=165, total=   6.1s\n",
            "[CV] clf__learning_rate=0.31, clf__n_estimators=165 ..................\n",
            "[CV] ... clf__learning_rate=0.31, clf__n_estimators=165, total=   5.9s\n",
            "[CV] clf__learning_rate=0.31, clf__n_estimators=166 ..................\n",
            "[CV] ... clf__learning_rate=0.31, clf__n_estimators=166, total=   6.1s\n",
            "[CV] clf__learning_rate=0.31, clf__n_estimators=166 ..................\n",
            "[CV] ... clf__learning_rate=0.31, clf__n_estimators=166, total=   5.7s\n",
            "[CV] clf__learning_rate=0.31, clf__n_estimators=166 ..................\n",
            "[CV] ... clf__learning_rate=0.31, clf__n_estimators=166, total=   5.9s\n",
            "[CV] clf__learning_rate=0.31, clf__n_estimators=167 ..................\n",
            "[CV] ... clf__learning_rate=0.31, clf__n_estimators=167, total=   5.8s\n",
            "[CV] clf__learning_rate=0.31, clf__n_estimators=167 ..................\n",
            "[CV] ... clf__learning_rate=0.31, clf__n_estimators=167, total=   5.8s\n",
            "[CV] clf__learning_rate=0.31, clf__n_estimators=167 ..................\n",
            "[CV] ... clf__learning_rate=0.31, clf__n_estimators=167, total=   5.8s\n",
            "[CV] clf__learning_rate=0.31, clf__n_estimators=168 ..................\n",
            "[CV] ... clf__learning_rate=0.31, clf__n_estimators=168, total=   5.9s\n",
            "[CV] clf__learning_rate=0.31, clf__n_estimators=168 ..................\n",
            "[CV] ... clf__learning_rate=0.31, clf__n_estimators=168, total=   5.9s\n",
            "[CV] clf__learning_rate=0.31, clf__n_estimators=168 ..................\n",
            "[CV] ... clf__learning_rate=0.31, clf__n_estimators=168, total=   5.9s\n",
            "[CV] clf__learning_rate=0.31, clf__n_estimators=169 ..................\n",
            "[CV] ... clf__learning_rate=0.31, clf__n_estimators=169, total=   6.0s\n",
            "[CV] clf__learning_rate=0.31, clf__n_estimators=169 ..................\n",
            "[CV] ... clf__learning_rate=0.31, clf__n_estimators=169, total=   5.9s\n",
            "[CV] clf__learning_rate=0.31, clf__n_estimators=169 ..................\n",
            "[CV] ... clf__learning_rate=0.31, clf__n_estimators=169, total=   5.8s\n",
            "[CV] clf__learning_rate=0.31, clf__n_estimators=170 ..................\n",
            "[CV] ... clf__learning_rate=0.31, clf__n_estimators=170, total=   6.0s\n",
            "[CV] clf__learning_rate=0.31, clf__n_estimators=170 ..................\n",
            "[CV] ... clf__learning_rate=0.31, clf__n_estimators=170, total=   5.9s\n",
            "[CV] clf__learning_rate=0.31, clf__n_estimators=170 ..................\n",
            "[CV] ... clf__learning_rate=0.31, clf__n_estimators=170, total=   5.9s\n",
            "[CV] clf__learning_rate=0.32, clf__n_estimators=160 ..................\n",
            "[CV] ... clf__learning_rate=0.32, clf__n_estimators=160, total=   5.7s\n",
            "[CV] clf__learning_rate=0.32, clf__n_estimators=160 ..................\n",
            "[CV] ... clf__learning_rate=0.32, clf__n_estimators=160, total=   5.6s\n",
            "[CV] clf__learning_rate=0.32, clf__n_estimators=160 ..................\n",
            "[CV] ... clf__learning_rate=0.32, clf__n_estimators=160, total=   5.7s\n",
            "[CV] clf__learning_rate=0.32, clf__n_estimators=161 ..................\n",
            "[CV] ... clf__learning_rate=0.32, clf__n_estimators=161, total=   5.7s\n",
            "[CV] clf__learning_rate=0.32, clf__n_estimators=161 ..................\n",
            "[CV] ... clf__learning_rate=0.32, clf__n_estimators=161, total=   5.7s\n",
            "[CV] clf__learning_rate=0.32, clf__n_estimators=161 ..................\n",
            "[CV] ... clf__learning_rate=0.32, clf__n_estimators=161, total=   5.6s\n",
            "[CV] clf__learning_rate=0.32, clf__n_estimators=162 ..................\n",
            "[CV] ... clf__learning_rate=0.32, clf__n_estimators=162, total=   5.5s\n",
            "[CV] clf__learning_rate=0.32, clf__n_estimators=162 ..................\n",
            "[CV] ... clf__learning_rate=0.32, clf__n_estimators=162, total=   5.8s\n",
            "[CV] clf__learning_rate=0.32, clf__n_estimators=162 ..................\n",
            "[CV] ... clf__learning_rate=0.32, clf__n_estimators=162, total=   5.7s\n",
            "[CV] clf__learning_rate=0.32, clf__n_estimators=163 ..................\n",
            "[CV] ... clf__learning_rate=0.32, clf__n_estimators=163, total=   5.7s\n",
            "[CV] clf__learning_rate=0.32, clf__n_estimators=163 ..................\n",
            "[CV] ... clf__learning_rate=0.32, clf__n_estimators=163, total=   5.7s\n",
            "[CV] clf__learning_rate=0.32, clf__n_estimators=163 ..................\n",
            "[CV] ... clf__learning_rate=0.32, clf__n_estimators=163, total=   5.6s\n",
            "[CV] clf__learning_rate=0.32, clf__n_estimators=164 ..................\n",
            "[CV] ... clf__learning_rate=0.32, clf__n_estimators=164, total=   5.7s\n",
            "[CV] clf__learning_rate=0.32, clf__n_estimators=164 ..................\n",
            "[CV] ... clf__learning_rate=0.32, clf__n_estimators=164, total=   5.7s\n",
            "[CV] clf__learning_rate=0.32, clf__n_estimators=164 ..................\n",
            "[CV] ... clf__learning_rate=0.32, clf__n_estimators=164, total=   5.9s\n",
            "[CV] clf__learning_rate=0.32, clf__n_estimators=164 ..................\n",
            "[CV] ... clf__learning_rate=0.32, clf__n_estimators=164, total=   5.8s\n",
            "[CV] clf__learning_rate=0.32, clf__n_estimators=164 ..................\n",
            "[CV] ... clf__learning_rate=0.32, clf__n_estimators=164, total=   5.7s\n",
            "[CV] clf__learning_rate=0.32, clf__n_estimators=164 ..................\n",
            "[CV] ... clf__learning_rate=0.32, clf__n_estimators=164, total=   5.8s\n",
            "[CV] clf__learning_rate=0.32, clf__n_estimators=165 ..................\n",
            "[CV] ... clf__learning_rate=0.32, clf__n_estimators=165, total=   5.7s\n",
            "[CV] clf__learning_rate=0.32, clf__n_estimators=165 ..................\n",
            "[CV] ... clf__learning_rate=0.32, clf__n_estimators=165, total=   5.7s\n",
            "[CV] clf__learning_rate=0.32, clf__n_estimators=165 ..................\n",
            "[CV] ... clf__learning_rate=0.32, clf__n_estimators=165, total=   6.3s\n",
            "[CV] clf__learning_rate=0.32, clf__n_estimators=166 ..................\n",
            "[CV] ... clf__learning_rate=0.32, clf__n_estimators=166, total=   5.9s\n",
            "[CV] clf__learning_rate=0.32, clf__n_estimators=166 ..................\n",
            "[CV] ... clf__learning_rate=0.32, clf__n_estimators=166, total=   6.0s\n",
            "[CV] clf__learning_rate=0.32, clf__n_estimators=166 ..................\n",
            "[CV] ... clf__learning_rate=0.32, clf__n_estimators=166, total=   5.8s\n",
            "[CV] clf__learning_rate=0.32, clf__n_estimators=167 ..................\n",
            "[CV] ... clf__learning_rate=0.32, clf__n_estimators=167, total=   6.1s\n",
            "[CV] clf__learning_rate=0.32, clf__n_estimators=167 ..................\n",
            "[CV] ... clf__learning_rate=0.32, clf__n_estimators=167, total=   5.9s\n",
            "[CV] clf__learning_rate=0.32, clf__n_estimators=167 ..................\n",
            "[CV] ... clf__learning_rate=0.32, clf__n_estimators=167, total=   5.8s\n",
            "[CV] clf__learning_rate=0.32, clf__n_estimators=168 ..................\n",
            "[CV] ... clf__learning_rate=0.32, clf__n_estimators=168, total=   5.9s\n",
            "[CV] clf__learning_rate=0.32, clf__n_estimators=168 ..................\n",
            "[CV] ... clf__learning_rate=0.32, clf__n_estimators=168, total=   5.8s\n",
            "[CV] clf__learning_rate=0.32, clf__n_estimators=168 ..................\n",
            "[CV] ... clf__learning_rate=0.32, clf__n_estimators=168, total=   5.8s\n",
            "[CV] clf__learning_rate=0.32, clf__n_estimators=169 ..................\n",
            "[CV] ... clf__learning_rate=0.32, clf__n_estimators=169, total=   6.0s\n",
            "[CV] clf__learning_rate=0.32, clf__n_estimators=169 ..................\n",
            "[CV] ... clf__learning_rate=0.32, clf__n_estimators=169, total=   5.8s\n",
            "[CV] clf__learning_rate=0.32, clf__n_estimators=169 ..................\n",
            "[CV] ... clf__learning_rate=0.32, clf__n_estimators=169, total=   5.9s\n",
            "[CV] clf__learning_rate=0.32, clf__n_estimators=170 ..................\n",
            "[CV] ... clf__learning_rate=0.32, clf__n_estimators=170, total=   5.9s\n",
            "[CV] clf__learning_rate=0.32, clf__n_estimators=170 ..................\n",
            "[CV] ... clf__learning_rate=0.32, clf__n_estimators=170, total=   6.2s\n",
            "[CV] clf__learning_rate=0.32, clf__n_estimators=170 ..................\n",
            "[CV] ... clf__learning_rate=0.32, clf__n_estimators=170, total=   6.1s\n",
            "[CV] clf__learning_rate=0.33, clf__n_estimators=160 ..................\n",
            "[CV] ... clf__learning_rate=0.33, clf__n_estimators=160, total=   5.8s\n",
            "[CV] clf__learning_rate=0.33, clf__n_estimators=160 ..................\n",
            "[CV] ... clf__learning_rate=0.33, clf__n_estimators=160, total=   5.5s\n",
            "[CV] clf__learning_rate=0.33, clf__n_estimators=160 ..................\n",
            "[CV] ... clf__learning_rate=0.33, clf__n_estimators=160, total=   5.5s\n",
            "[CV] clf__learning_rate=0.33, clf__n_estimators=161 ..................\n",
            "[CV] ... clf__learning_rate=0.33, clf__n_estimators=161, total=   5.6s\n",
            "[CV] clf__learning_rate=0.33, clf__n_estimators=161 ..................\n",
            "[CV] ... clf__learning_rate=0.33, clf__n_estimators=161, total=   5.7s\n",
            "[CV] clf__learning_rate=0.33, clf__n_estimators=161 ..................\n",
            "[CV] ... clf__learning_rate=0.33, clf__n_estimators=161, total=   5.5s\n",
            "[CV] clf__learning_rate=0.33, clf__n_estimators=162 ..................\n",
            "[CV] ... clf__learning_rate=0.33, clf__n_estimators=162, total=   5.8s\n",
            "[CV] clf__learning_rate=0.33, clf__n_estimators=162 ..................\n",
            "[CV] ... clf__learning_rate=0.33, clf__n_estimators=162, total=   5.6s\n",
            "[CV] clf__learning_rate=0.33, clf__n_estimators=162 ..................\n",
            "[CV] ... clf__learning_rate=0.33, clf__n_estimators=162, total=   5.7s\n",
            "[CV] clf__learning_rate=0.33, clf__n_estimators=163 ..................\n",
            "[CV] ... clf__learning_rate=0.33, clf__n_estimators=163, total=   5.6s\n",
            "[CV] clf__learning_rate=0.33, clf__n_estimators=163 ..................\n",
            "[CV] ... clf__learning_rate=0.33, clf__n_estimators=163, total=   5.7s\n",
            "[CV] clf__learning_rate=0.33, clf__n_estimators=163 ..................\n",
            "[CV] ... clf__learning_rate=0.33, clf__n_estimators=163, total=   5.7s\n",
            "[CV] clf__learning_rate=0.33, clf__n_estimators=164 ..................\n",
            "[CV] ... clf__learning_rate=0.33, clf__n_estimators=164, total=   5.7s\n",
            "[CV] clf__learning_rate=0.33, clf__n_estimators=164 ..................\n",
            "[CV] ... clf__learning_rate=0.33, clf__n_estimators=164, total=   5.7s\n",
            "[CV] clf__learning_rate=0.33, clf__n_estimators=164 ..................\n",
            "[CV] ... clf__learning_rate=0.33, clf__n_estimators=164, total=   5.9s\n",
            "[CV] clf__learning_rate=0.33, clf__n_estimators=164 ..................\n",
            "[CV] ... clf__learning_rate=0.33, clf__n_estimators=164, total=   5.7s\n",
            "[CV] clf__learning_rate=0.33, clf__n_estimators=164 ..................\n",
            "[CV] ... clf__learning_rate=0.33, clf__n_estimators=164, total=   5.7s\n",
            "[CV] clf__learning_rate=0.33, clf__n_estimators=164 ..................\n",
            "[CV] ... clf__learning_rate=0.33, clf__n_estimators=164, total=   5.7s\n",
            "[CV] clf__learning_rate=0.33, clf__n_estimators=165 ..................\n",
            "[CV] ... clf__learning_rate=0.33, clf__n_estimators=165, total=   5.8s\n",
            "[CV] clf__learning_rate=0.33, clf__n_estimators=165 ..................\n",
            "[CV] ... clf__learning_rate=0.33, clf__n_estimators=165, total=   5.7s\n",
            "[CV] clf__learning_rate=0.33, clf__n_estimators=165 ..................\n",
            "[CV] ... clf__learning_rate=0.33, clf__n_estimators=165, total=   5.7s\n",
            "[CV] clf__learning_rate=0.33, clf__n_estimators=166 ..................\n",
            "[CV] ... clf__learning_rate=0.33, clf__n_estimators=166, total=   5.7s\n",
            "[CV] clf__learning_rate=0.33, clf__n_estimators=166 ..................\n",
            "[CV] ... clf__learning_rate=0.33, clf__n_estimators=166, total=   5.7s\n",
            "[CV] clf__learning_rate=0.33, clf__n_estimators=166 ..................\n",
            "[CV] ... clf__learning_rate=0.33, clf__n_estimators=166, total=   5.7s\n",
            "[CV] clf__learning_rate=0.33, clf__n_estimators=167 ..................\n",
            "[CV] ... clf__learning_rate=0.33, clf__n_estimators=167, total=   5.9s\n",
            "[CV] clf__learning_rate=0.33, clf__n_estimators=167 ..................\n",
            "[CV] ... clf__learning_rate=0.33, clf__n_estimators=167, total=   5.8s\n",
            "[CV] clf__learning_rate=0.33, clf__n_estimators=167 ..................\n",
            "[CV] ... clf__learning_rate=0.33, clf__n_estimators=167, total=   5.9s\n",
            "[CV] clf__learning_rate=0.33, clf__n_estimators=168 ..................\n",
            "[CV] ... clf__learning_rate=0.33, clf__n_estimators=168, total=   5.8s\n",
            "[CV] clf__learning_rate=0.33, clf__n_estimators=168 ..................\n",
            "[CV] ... clf__learning_rate=0.33, clf__n_estimators=168, total=   5.9s\n",
            "[CV] clf__learning_rate=0.33, clf__n_estimators=168 ..................\n",
            "[CV] ... clf__learning_rate=0.33, clf__n_estimators=168, total=   5.8s\n",
            "[CV] clf__learning_rate=0.33, clf__n_estimators=169 ..................\n",
            "[CV] ... clf__learning_rate=0.33, clf__n_estimators=169, total=   5.9s\n",
            "[CV] clf__learning_rate=0.33, clf__n_estimators=169 ..................\n",
            "[CV] ... clf__learning_rate=0.33, clf__n_estimators=169, total=   5.8s\n",
            "[CV] clf__learning_rate=0.33, clf__n_estimators=169 ..................\n",
            "[CV] ... clf__learning_rate=0.33, clf__n_estimators=169, total=   5.7s\n",
            "[CV] clf__learning_rate=0.33, clf__n_estimators=170 ..................\n",
            "[CV] ... clf__learning_rate=0.33, clf__n_estimators=170, total=   5.8s\n",
            "[CV] clf__learning_rate=0.33, clf__n_estimators=170 ..................\n",
            "[CV] ... clf__learning_rate=0.33, clf__n_estimators=170, total=   5.9s\n",
            "[CV] clf__learning_rate=0.33, clf__n_estimators=170 ..................\n",
            "[CV] ... clf__learning_rate=0.33, clf__n_estimators=170, total=   5.8s\n",
            "[CV] clf__learning_rate=0.34, clf__n_estimators=160 ..................\n",
            "[CV] ... clf__learning_rate=0.34, clf__n_estimators=160, total=   5.5s\n",
            "[CV] clf__learning_rate=0.34, clf__n_estimators=160 ..................\n",
            "[CV] ... clf__learning_rate=0.34, clf__n_estimators=160, total=   5.5s\n",
            "[CV] clf__learning_rate=0.34, clf__n_estimators=160 ..................\n",
            "[CV] ... clf__learning_rate=0.34, clf__n_estimators=160, total=   6.1s\n",
            "[CV] clf__learning_rate=0.34, clf__n_estimators=161 ..................\n",
            "[CV] ... clf__learning_rate=0.34, clf__n_estimators=161, total=   5.6s\n",
            "[CV] clf__learning_rate=0.34, clf__n_estimators=161 ..................\n",
            "[CV] ... clf__learning_rate=0.34, clf__n_estimators=161, total=   5.7s\n",
            "[CV] clf__learning_rate=0.34, clf__n_estimators=161 ..................\n",
            "[CV] ... clf__learning_rate=0.34, clf__n_estimators=161, total=   5.6s\n",
            "[CV] clf__learning_rate=0.34, clf__n_estimators=162 ..................\n",
            "[CV] ... clf__learning_rate=0.34, clf__n_estimators=162, total=   5.5s\n",
            "[CV] clf__learning_rate=0.34, clf__n_estimators=162 ..................\n",
            "[CV] ... clf__learning_rate=0.34, clf__n_estimators=162, total=   5.6s\n",
            "[CV] clf__learning_rate=0.34, clf__n_estimators=162 ..................\n",
            "[CV] ... clf__learning_rate=0.34, clf__n_estimators=162, total=   5.7s\n",
            "[CV] clf__learning_rate=0.34, clf__n_estimators=163 ..................\n",
            "[CV] ... clf__learning_rate=0.34, clf__n_estimators=163, total=   5.5s\n",
            "[CV] clf__learning_rate=0.34, clf__n_estimators=163 ..................\n",
            "[CV] ... clf__learning_rate=0.34, clf__n_estimators=163, total=   5.7s\n",
            "[CV] clf__learning_rate=0.34, clf__n_estimators=163 ..................\n",
            "[CV] ... clf__learning_rate=0.34, clf__n_estimators=163, total=   5.6s\n",
            "[CV] clf__learning_rate=0.34, clf__n_estimators=164 ..................\n",
            "[CV] ... clf__learning_rate=0.34, clf__n_estimators=164, total=   5.7s\n",
            "[CV] clf__learning_rate=0.34, clf__n_estimators=164 ..................\n",
            "[CV] ... clf__learning_rate=0.34, clf__n_estimators=164, total=   5.6s\n",
            "[CV] clf__learning_rate=0.34, clf__n_estimators=164 ..................\n",
            "[CV] ... clf__learning_rate=0.34, clf__n_estimators=164, total=   5.8s\n",
            "[CV] clf__learning_rate=0.34, clf__n_estimators=164 ..................\n",
            "[CV] ... clf__learning_rate=0.34, clf__n_estimators=164, total=   5.8s\n",
            "[CV] clf__learning_rate=0.34, clf__n_estimators=164 ..................\n",
            "[CV] ... clf__learning_rate=0.34, clf__n_estimators=164, total=   5.8s\n",
            "[CV] clf__learning_rate=0.34, clf__n_estimators=164 ..................\n",
            "[CV] ... clf__learning_rate=0.34, clf__n_estimators=164, total=   5.7s\n",
            "[CV] clf__learning_rate=0.34, clf__n_estimators=165 ..................\n",
            "[CV] ... clf__learning_rate=0.34, clf__n_estimators=165, total=   5.8s\n",
            "[CV] clf__learning_rate=0.34, clf__n_estimators=165 ..................\n",
            "[CV] ... clf__learning_rate=0.34, clf__n_estimators=165, total=   5.6s\n",
            "[CV] clf__learning_rate=0.34, clf__n_estimators=165 ..................\n",
            "[CV] ... clf__learning_rate=0.34, clf__n_estimators=165, total=   5.8s\n",
            "[CV] clf__learning_rate=0.34, clf__n_estimators=166 ..................\n",
            "[CV] ... clf__learning_rate=0.34, clf__n_estimators=166, total=   5.7s\n",
            "[CV] clf__learning_rate=0.34, clf__n_estimators=166 ..................\n",
            "[CV] ... clf__learning_rate=0.34, clf__n_estimators=166, total=   5.9s\n",
            "[CV] clf__learning_rate=0.34, clf__n_estimators=166 ..................\n",
            "[CV] ... clf__learning_rate=0.34, clf__n_estimators=166, total=   5.7s\n",
            "[CV] clf__learning_rate=0.34, clf__n_estimators=167 ..................\n",
            "[CV] ... clf__learning_rate=0.34, clf__n_estimators=167, total=   5.8s\n",
            "[CV] clf__learning_rate=0.34, clf__n_estimators=167 ..................\n",
            "[CV] ... clf__learning_rate=0.34, clf__n_estimators=167, total=   5.8s\n",
            "[CV] clf__learning_rate=0.34, clf__n_estimators=167 ..................\n",
            "[CV] ... clf__learning_rate=0.34, clf__n_estimators=167, total=   5.7s\n",
            "[CV] clf__learning_rate=0.34, clf__n_estimators=168 ..................\n",
            "[CV] ... clf__learning_rate=0.34, clf__n_estimators=168, total=   5.8s\n",
            "[CV] clf__learning_rate=0.34, clf__n_estimators=168 ..................\n",
            "[CV] ... clf__learning_rate=0.34, clf__n_estimators=168, total=   5.9s\n",
            "[CV] clf__learning_rate=0.34, clf__n_estimators=168 ..................\n",
            "[CV] ... clf__learning_rate=0.34, clf__n_estimators=168, total=   5.9s\n",
            "[CV] clf__learning_rate=0.34, clf__n_estimators=169 ..................\n",
            "[CV] ... clf__learning_rate=0.34, clf__n_estimators=169, total=   6.0s\n",
            "[CV] clf__learning_rate=0.34, clf__n_estimators=169 ..................\n",
            "[CV] ... clf__learning_rate=0.34, clf__n_estimators=169, total=   5.8s\n",
            "[CV] clf__learning_rate=0.34, clf__n_estimators=169 ..................\n",
            "[CV] ... clf__learning_rate=0.34, clf__n_estimators=169, total=   5.9s\n",
            "[CV] clf__learning_rate=0.34, clf__n_estimators=170 ..................\n",
            "[CV] ... clf__learning_rate=0.34, clf__n_estimators=170, total=   5.9s\n",
            "[CV] clf__learning_rate=0.34, clf__n_estimators=170 ..................\n",
            "[CV] ... clf__learning_rate=0.34, clf__n_estimators=170, total=   6.2s\n",
            "[CV] clf__learning_rate=0.34, clf__n_estimators=170 ..................\n",
            "[CV] ... clf__learning_rate=0.34, clf__n_estimators=170, total=   6.1s\n",
            "[CV] clf__learning_rate=0.35, clf__n_estimators=160 ..................\n",
            "[CV] ... clf__learning_rate=0.35, clf__n_estimators=160, total=   5.7s\n",
            "[CV] clf__learning_rate=0.35, clf__n_estimators=160 ..................\n",
            "[CV] ... clf__learning_rate=0.35, clf__n_estimators=160, total=   5.9s\n",
            "[CV] clf__learning_rate=0.35, clf__n_estimators=160 ..................\n",
            "[CV] ... clf__learning_rate=0.35, clf__n_estimators=160, total=   5.7s\n",
            "[CV] clf__learning_rate=0.35, clf__n_estimators=161 ..................\n",
            "[CV] ... clf__learning_rate=0.35, clf__n_estimators=161, total=   5.9s\n",
            "[CV] clf__learning_rate=0.35, clf__n_estimators=161 ..................\n",
            "[CV] ... clf__learning_rate=0.35, clf__n_estimators=161, total=   5.8s\n",
            "[CV] clf__learning_rate=0.35, clf__n_estimators=161 ..................\n",
            "[CV] ... clf__learning_rate=0.35, clf__n_estimators=161, total=   5.9s\n",
            "[CV] clf__learning_rate=0.35, clf__n_estimators=162 ..................\n",
            "[CV] ... clf__learning_rate=0.35, clf__n_estimators=162, total=   5.7s\n",
            "[CV] clf__learning_rate=0.35, clf__n_estimators=162 ..................\n",
            "[CV] ... clf__learning_rate=0.35, clf__n_estimators=162, total=   5.8s\n",
            "[CV] clf__learning_rate=0.35, clf__n_estimators=162 ..................\n",
            "[CV] ... clf__learning_rate=0.35, clf__n_estimators=162, total=   5.9s\n",
            "[CV] clf__learning_rate=0.35, clf__n_estimators=163 ..................\n",
            "[CV] ... clf__learning_rate=0.35, clf__n_estimators=163, total=   5.8s\n",
            "[CV] clf__learning_rate=0.35, clf__n_estimators=163 ..................\n",
            "[CV] ... clf__learning_rate=0.35, clf__n_estimators=163, total=   5.9s\n",
            "[CV] clf__learning_rate=0.35, clf__n_estimators=163 ..................\n",
            "[CV] ... clf__learning_rate=0.35, clf__n_estimators=163, total=   6.1s\n",
            "[CV] clf__learning_rate=0.35, clf__n_estimators=164 ..................\n",
            "[CV] ... clf__learning_rate=0.35, clf__n_estimators=164, total=   5.7s\n",
            "[CV] clf__learning_rate=0.35, clf__n_estimators=164 ..................\n",
            "[CV] ... clf__learning_rate=0.35, clf__n_estimators=164, total=   6.0s\n",
            "[CV] clf__learning_rate=0.35, clf__n_estimators=164 ..................\n",
            "[CV] ... clf__learning_rate=0.35, clf__n_estimators=164, total=   5.9s\n",
            "[CV] clf__learning_rate=0.35, clf__n_estimators=164 ..................\n",
            "[CV] ... clf__learning_rate=0.35, clf__n_estimators=164, total=   6.0s\n",
            "[CV] clf__learning_rate=0.35, clf__n_estimators=164 ..................\n",
            "[CV] ... clf__learning_rate=0.35, clf__n_estimators=164, total=   5.8s\n",
            "[CV] clf__learning_rate=0.35, clf__n_estimators=164 ..................\n",
            "[CV] ... clf__learning_rate=0.35, clf__n_estimators=164, total=   5.9s\n",
            "[CV] clf__learning_rate=0.35, clf__n_estimators=165 ..................\n",
            "[CV] ... clf__learning_rate=0.35, clf__n_estimators=165, total=   5.7s\n",
            "[CV] clf__learning_rate=0.35, clf__n_estimators=165 ..................\n",
            "[CV] ... clf__learning_rate=0.35, clf__n_estimators=165, total=   5.9s\n",
            "[CV] clf__learning_rate=0.35, clf__n_estimators=165 ..................\n",
            "[CV] ... clf__learning_rate=0.35, clf__n_estimators=165, total=   5.9s\n",
            "[CV] clf__learning_rate=0.35, clf__n_estimators=166 ..................\n",
            "[CV] ... clf__learning_rate=0.35, clf__n_estimators=166, total=   5.9s\n",
            "[CV] clf__learning_rate=0.35, clf__n_estimators=166 ..................\n",
            "[CV] ... clf__learning_rate=0.35, clf__n_estimators=166, total=   5.6s\n",
            "[CV] clf__learning_rate=0.35, clf__n_estimators=166 ..................\n",
            "[CV] ... clf__learning_rate=0.35, clf__n_estimators=166, total=   5.8s\n",
            "[CV] clf__learning_rate=0.35, clf__n_estimators=167 ..................\n",
            "[CV] ... clf__learning_rate=0.35, clf__n_estimators=167, total=   5.6s\n",
            "[CV] clf__learning_rate=0.35, clf__n_estimators=167 ..................\n",
            "[CV] ... clf__learning_rate=0.35, clf__n_estimators=167, total=   5.9s\n",
            "[CV] clf__learning_rate=0.35, clf__n_estimators=167 ..................\n",
            "[CV] ... clf__learning_rate=0.35, clf__n_estimators=167, total=   5.6s\n",
            "[CV] clf__learning_rate=0.35, clf__n_estimators=168 ..................\n",
            "[CV] ... clf__learning_rate=0.35, clf__n_estimators=168, total=   5.8s\n",
            "[CV] clf__learning_rate=0.35, clf__n_estimators=168 ..................\n",
            "[CV] ... clf__learning_rate=0.35, clf__n_estimators=168, total=   5.7s\n",
            "[CV] clf__learning_rate=0.35, clf__n_estimators=168 ..................\n",
            "[CV] ... clf__learning_rate=0.35, clf__n_estimators=168, total=   5.8s\n",
            "[CV] clf__learning_rate=0.35, clf__n_estimators=169 ..................\n",
            "[CV] ... clf__learning_rate=0.35, clf__n_estimators=169, total=   5.9s\n",
            "[CV] clf__learning_rate=0.35, clf__n_estimators=169 ..................\n",
            "[CV] ... clf__learning_rate=0.35, clf__n_estimators=169, total=   6.0s\n",
            "[CV] clf__learning_rate=0.35, clf__n_estimators=169 ..................\n",
            "[CV] ... clf__learning_rate=0.35, clf__n_estimators=169, total=   5.7s\n",
            "[CV] clf__learning_rate=0.35, clf__n_estimators=170 ..................\n",
            "[CV] ... clf__learning_rate=0.35, clf__n_estimators=170, total=   6.0s\n",
            "[CV] clf__learning_rate=0.35, clf__n_estimators=170 ..................\n",
            "[CV] ... clf__learning_rate=0.35, clf__n_estimators=170, total=   5.7s\n",
            "[CV] clf__learning_rate=0.35, clf__n_estimators=170 ..................\n",
            "[CV] ... clf__learning_rate=0.35, clf__n_estimators=170, total=   6.0s\n",
            "[CV] clf__learning_rate=0.36, clf__n_estimators=160 ..................\n",
            "[CV] ... clf__learning_rate=0.36, clf__n_estimators=160, total=   5.5s\n",
            "[CV] clf__learning_rate=0.36, clf__n_estimators=160 ..................\n",
            "[CV] ... clf__learning_rate=0.36, clf__n_estimators=160, total=   5.8s\n",
            "[CV] clf__learning_rate=0.36, clf__n_estimators=160 ..................\n",
            "[CV] ... clf__learning_rate=0.36, clf__n_estimators=160, total=   5.5s\n",
            "[CV] clf__learning_rate=0.36, clf__n_estimators=161 ..................\n",
            "[CV] ... clf__learning_rate=0.36, clf__n_estimators=161, total=   5.5s\n",
            "[CV] clf__learning_rate=0.36, clf__n_estimators=161 ..................\n",
            "[CV] ... clf__learning_rate=0.36, clf__n_estimators=161, total=   5.4s\n",
            "[CV] clf__learning_rate=0.36, clf__n_estimators=161 ..................\n",
            "[CV] ... clf__learning_rate=0.36, clf__n_estimators=161, total=   5.7s\n",
            "[CV] clf__learning_rate=0.36, clf__n_estimators=162 ..................\n",
            "[CV] ... clf__learning_rate=0.36, clf__n_estimators=162, total=   5.5s\n",
            "[CV] clf__learning_rate=0.36, clf__n_estimators=162 ..................\n",
            "[CV] ... clf__learning_rate=0.36, clf__n_estimators=162, total=   5.8s\n",
            "[CV] clf__learning_rate=0.36, clf__n_estimators=162 ..................\n",
            "[CV] ... clf__learning_rate=0.36, clf__n_estimators=162, total=   5.5s\n",
            "[CV] clf__learning_rate=0.36, clf__n_estimators=163 ..................\n",
            "[CV] ... clf__learning_rate=0.36, clf__n_estimators=163, total=   5.7s\n",
            "[CV] clf__learning_rate=0.36, clf__n_estimators=163 ..................\n",
            "[CV] ... clf__learning_rate=0.36, clf__n_estimators=163, total=   5.7s\n",
            "[CV] clf__learning_rate=0.36, clf__n_estimators=163 ..................\n",
            "[CV] ... clf__learning_rate=0.36, clf__n_estimators=163, total=   5.7s\n",
            "[CV] clf__learning_rate=0.36, clf__n_estimators=164 ..................\n",
            "[CV] ... clf__learning_rate=0.36, clf__n_estimators=164, total=   5.7s\n",
            "[CV] clf__learning_rate=0.36, clf__n_estimators=164 ..................\n",
            "[CV] ... clf__learning_rate=0.36, clf__n_estimators=164, total=   5.6s\n",
            "[CV] clf__learning_rate=0.36, clf__n_estimators=164 ..................\n",
            "[CV] ... clf__learning_rate=0.36, clf__n_estimators=164, total=   5.6s\n",
            "[CV] clf__learning_rate=0.36, clf__n_estimators=164 ..................\n",
            "[CV] ... clf__learning_rate=0.36, clf__n_estimators=164, total=   5.8s\n",
            "[CV] clf__learning_rate=0.36, clf__n_estimators=164 ..................\n",
            "[CV] ... clf__learning_rate=0.36, clf__n_estimators=164, total=   5.5s\n",
            "[CV] clf__learning_rate=0.36, clf__n_estimators=164 ..................\n",
            "[CV] ... clf__learning_rate=0.36, clf__n_estimators=164, total=   5.7s\n",
            "[CV] clf__learning_rate=0.36, clf__n_estimators=165 ..................\n",
            "[CV] ... clf__learning_rate=0.36, clf__n_estimators=165, total=   5.6s\n",
            "[CV] clf__learning_rate=0.36, clf__n_estimators=165 ..................\n",
            "[CV] ... clf__learning_rate=0.36, clf__n_estimators=165, total=   5.8s\n",
            "[CV] clf__learning_rate=0.36, clf__n_estimators=165 ..................\n",
            "[CV] ... clf__learning_rate=0.36, clf__n_estimators=165, total=   5.6s\n",
            "[CV] clf__learning_rate=0.36, clf__n_estimators=166 ..................\n",
            "[CV] ... clf__learning_rate=0.36, clf__n_estimators=166, total=   5.9s\n",
            "[CV] clf__learning_rate=0.36, clf__n_estimators=166 ..................\n",
            "[CV] ... clf__learning_rate=0.36, clf__n_estimators=166, total=   5.7s\n",
            "[CV] clf__learning_rate=0.36, clf__n_estimators=166 ..................\n",
            "[CV] ... clf__learning_rate=0.36, clf__n_estimators=166, total=   5.8s\n",
            "[CV] clf__learning_rate=0.36, clf__n_estimators=167 ..................\n",
            "[CV] ... clf__learning_rate=0.36, clf__n_estimators=167, total=   5.8s\n",
            "[CV] clf__learning_rate=0.36, clf__n_estimators=167 ..................\n",
            "[CV] ... clf__learning_rate=0.36, clf__n_estimators=167, total=   6.3s\n",
            "[CV] clf__learning_rate=0.36, clf__n_estimators=167 ..................\n",
            "[CV] ... clf__learning_rate=0.36, clf__n_estimators=167, total=   5.7s\n",
            "[CV] clf__learning_rate=0.36, clf__n_estimators=168 ..................\n",
            "[CV] ... clf__learning_rate=0.36, clf__n_estimators=168, total=   5.7s\n",
            "[CV] clf__learning_rate=0.36, clf__n_estimators=168 ..................\n",
            "[CV] ... clf__learning_rate=0.36, clf__n_estimators=168, total=   5.7s\n",
            "[CV] clf__learning_rate=0.36, clf__n_estimators=168 ..................\n",
            "[CV] ... clf__learning_rate=0.36, clf__n_estimators=168, total=   6.0s\n",
            "[CV] clf__learning_rate=0.36, clf__n_estimators=169 ..................\n",
            "[CV] ... clf__learning_rate=0.36, clf__n_estimators=169, total=   5.8s\n",
            "[CV] clf__learning_rate=0.36, clf__n_estimators=169 ..................\n",
            "[CV] ... clf__learning_rate=0.36, clf__n_estimators=169, total=   6.0s\n",
            "[CV] clf__learning_rate=0.36, clf__n_estimators=169 ..................\n",
            "[CV] ... clf__learning_rate=0.36, clf__n_estimators=169, total=   5.8s\n",
            "[CV] clf__learning_rate=0.36, clf__n_estimators=170 ..................\n",
            "[CV] ... clf__learning_rate=0.36, clf__n_estimators=170, total=   6.0s\n",
            "[CV] clf__learning_rate=0.36, clf__n_estimators=170 ..................\n",
            "[CV] ... clf__learning_rate=0.36, clf__n_estimators=170, total=   5.8s\n",
            "[CV] clf__learning_rate=0.36, clf__n_estimators=170 ..................\n",
            "[CV] ... clf__learning_rate=0.36, clf__n_estimators=170, total=   5.9s\n",
            "[CV] clf__learning_rate=0.37, clf__n_estimators=160 ..................\n",
            "[CV] ... clf__learning_rate=0.37, clf__n_estimators=160, total=   5.5s\n",
            "[CV] clf__learning_rate=0.37, clf__n_estimators=160 ..................\n",
            "[CV] ... clf__learning_rate=0.37, clf__n_estimators=160, total=   5.5s\n",
            "[CV] clf__learning_rate=0.37, clf__n_estimators=160 ..................\n",
            "[CV] ... clf__learning_rate=0.37, clf__n_estimators=160, total=   5.4s\n",
            "[CV] clf__learning_rate=0.37, clf__n_estimators=161 ..................\n",
            "[CV] ... clf__learning_rate=0.37, clf__n_estimators=161, total=   5.6s\n",
            "[CV] clf__learning_rate=0.37, clf__n_estimators=161 ..................\n",
            "[CV] ... clf__learning_rate=0.37, clf__n_estimators=161, total=   5.5s\n",
            "[CV] clf__learning_rate=0.37, clf__n_estimators=161 ..................\n",
            "[CV] ... clf__learning_rate=0.37, clf__n_estimators=161, total=   5.6s\n",
            "[CV] clf__learning_rate=0.37, clf__n_estimators=162 ..................\n",
            "[CV] ... clf__learning_rate=0.37, clf__n_estimators=162, total=   5.6s\n",
            "[CV] clf__learning_rate=0.37, clf__n_estimators=162 ..................\n",
            "[CV] ... clf__learning_rate=0.37, clf__n_estimators=162, total=   5.5s\n",
            "[CV] clf__learning_rate=0.37, clf__n_estimators=162 ..................\n",
            "[CV] ... clf__learning_rate=0.37, clf__n_estimators=162, total=   5.6s\n",
            "[CV] clf__learning_rate=0.37, clf__n_estimators=163 ..................\n",
            "[CV] ... clf__learning_rate=0.37, clf__n_estimators=163, total=   5.8s\n",
            "[CV] clf__learning_rate=0.37, clf__n_estimators=163 ..................\n",
            "[CV] ... clf__learning_rate=0.37, clf__n_estimators=163, total=   5.6s\n",
            "[CV] clf__learning_rate=0.37, clf__n_estimators=163 ..................\n",
            "[CV] ... clf__learning_rate=0.37, clf__n_estimators=163, total=   5.6s\n",
            "[CV] clf__learning_rate=0.37, clf__n_estimators=164 ..................\n",
            "[CV] ... clf__learning_rate=0.37, clf__n_estimators=164, total=   5.5s\n",
            "[CV] clf__learning_rate=0.37, clf__n_estimators=164 ..................\n",
            "[CV] ... clf__learning_rate=0.37, clf__n_estimators=164, total=   5.8s\n",
            "[CV] clf__learning_rate=0.37, clf__n_estimators=164 ..................\n",
            "[CV] ... clf__learning_rate=0.37, clf__n_estimators=164, total=   5.6s\n",
            "[CV] clf__learning_rate=0.37, clf__n_estimators=164 ..................\n",
            "[CV] ... clf__learning_rate=0.37, clf__n_estimators=164, total=   5.8s\n",
            "[CV] clf__learning_rate=0.37, clf__n_estimators=164 ..................\n",
            "[CV] ... clf__learning_rate=0.37, clf__n_estimators=164, total=   5.6s\n",
            "[CV] clf__learning_rate=0.37, clf__n_estimators=164 ..................\n",
            "[CV] ... clf__learning_rate=0.37, clf__n_estimators=164, total=   5.6s\n",
            "[CV] clf__learning_rate=0.37, clf__n_estimators=165 ..................\n",
            "[CV] ... clf__learning_rate=0.37, clf__n_estimators=165, total=   5.7s\n",
            "[CV] clf__learning_rate=0.37, clf__n_estimators=165 ..................\n",
            "[CV] ... clf__learning_rate=0.37, clf__n_estimators=165, total=   5.8s\n",
            "[CV] clf__learning_rate=0.37, clf__n_estimators=165 ..................\n",
            "[CV] ... clf__learning_rate=0.37, clf__n_estimators=165, total=   5.6s\n",
            "[CV] clf__learning_rate=0.37, clf__n_estimators=166 ..................\n",
            "[CV] ... clf__learning_rate=0.37, clf__n_estimators=166, total=   5.7s\n",
            "[CV] clf__learning_rate=0.37, clf__n_estimators=166 ..................\n",
            "[CV] ... clf__learning_rate=0.37, clf__n_estimators=166, total=   5.7s\n",
            "[CV] clf__learning_rate=0.37, clf__n_estimators=166 ..................\n",
            "[CV] ... clf__learning_rate=0.37, clf__n_estimators=166, total=   5.8s\n",
            "[CV] clf__learning_rate=0.37, clf__n_estimators=167 ..................\n",
            "[CV] ... clf__learning_rate=0.37, clf__n_estimators=167, total=   5.6s\n",
            "[CV] clf__learning_rate=0.37, clf__n_estimators=167 ..................\n",
            "[CV] ... clf__learning_rate=0.37, clf__n_estimators=167, total=   5.8s\n",
            "[CV] clf__learning_rate=0.37, clf__n_estimators=167 ..................\n",
            "[CV] ... clf__learning_rate=0.37, clf__n_estimators=167, total=   5.7s\n",
            "[CV] clf__learning_rate=0.37, clf__n_estimators=168 ..................\n",
            "[CV] ... clf__learning_rate=0.37, clf__n_estimators=168, total=   5.8s\n",
            "[CV] clf__learning_rate=0.37, clf__n_estimators=168 ..................\n",
            "[CV] ... clf__learning_rate=0.37, clf__n_estimators=168, total=   5.9s\n",
            "[CV] clf__learning_rate=0.37, clf__n_estimators=168 ..................\n",
            "[CV] ... clf__learning_rate=0.37, clf__n_estimators=168, total=   5.8s\n",
            "[CV] clf__learning_rate=0.37, clf__n_estimators=169 ..................\n",
            "[CV] ... clf__learning_rate=0.37, clf__n_estimators=169, total=   5.7s\n",
            "[CV] clf__learning_rate=0.37, clf__n_estimators=169 ..................\n",
            "[CV] ... clf__learning_rate=0.37, clf__n_estimators=169, total=   5.7s\n",
            "[CV] clf__learning_rate=0.37, clf__n_estimators=169 ..................\n",
            "[CV] ... clf__learning_rate=0.37, clf__n_estimators=169, total=   5.7s\n",
            "[CV] clf__learning_rate=0.37, clf__n_estimators=170 ..................\n",
            "[CV] ... clf__learning_rate=0.37, clf__n_estimators=170, total=   5.9s\n",
            "[CV] clf__learning_rate=0.37, clf__n_estimators=170 ..................\n",
            "[CV] ... clf__learning_rate=0.37, clf__n_estimators=170, total=   5.7s\n",
            "[CV] clf__learning_rate=0.37, clf__n_estimators=170 ..................\n",
            "[CV] ... clf__learning_rate=0.37, clf__n_estimators=170, total=   5.9s\n",
            "[CV] clf__learning_rate=0.38, clf__n_estimators=160 ..................\n",
            "[CV] ... clf__learning_rate=0.38, clf__n_estimators=160, total=   5.5s\n",
            "[CV] clf__learning_rate=0.38, clf__n_estimators=160 ..................\n",
            "[CV] ... clf__learning_rate=0.38, clf__n_estimators=160, total=   5.5s\n",
            "[CV] clf__learning_rate=0.38, clf__n_estimators=160 ..................\n",
            "[CV] ... clf__learning_rate=0.38, clf__n_estimators=160, total=   5.6s\n",
            "[CV] clf__learning_rate=0.38, clf__n_estimators=161 ..................\n",
            "[CV] ... clf__learning_rate=0.38, clf__n_estimators=161, total=   5.7s\n",
            "[CV] clf__learning_rate=0.38, clf__n_estimators=161 ..................\n",
            "[CV] ... clf__learning_rate=0.38, clf__n_estimators=161, total=   5.5s\n",
            "[CV] clf__learning_rate=0.38, clf__n_estimators=161 ..................\n",
            "[CV] ... clf__learning_rate=0.38, clf__n_estimators=161, total=   5.6s\n",
            "[CV] clf__learning_rate=0.38, clf__n_estimators=162 ..................\n",
            "[CV] ... clf__learning_rate=0.38, clf__n_estimators=162, total=   5.6s\n",
            "[CV] clf__learning_rate=0.38, clf__n_estimators=162 ..................\n",
            "[CV] ... clf__learning_rate=0.38, clf__n_estimators=162, total=   5.7s\n",
            "[CV] clf__learning_rate=0.38, clf__n_estimators=162 ..................\n",
            "[CV] ... clf__learning_rate=0.38, clf__n_estimators=162, total=   5.5s\n",
            "[CV] clf__learning_rate=0.38, clf__n_estimators=163 ..................\n",
            "[CV] ... clf__learning_rate=0.38, clf__n_estimators=163, total=   5.7s\n",
            "[CV] clf__learning_rate=0.38, clf__n_estimators=163 ..................\n",
            "[CV] ... clf__learning_rate=0.38, clf__n_estimators=163, total=   5.5s\n",
            "[CV] clf__learning_rate=0.38, clf__n_estimators=163 ..................\n",
            "[CV] ... clf__learning_rate=0.38, clf__n_estimators=163, total=   5.6s\n",
            "[CV] clf__learning_rate=0.38, clf__n_estimators=164 ..................\n",
            "[CV] ... clf__learning_rate=0.38, clf__n_estimators=164, total=   5.7s\n",
            "[CV] clf__learning_rate=0.38, clf__n_estimators=164 ..................\n",
            "[CV] ... clf__learning_rate=0.38, clf__n_estimators=164, total=   5.7s\n",
            "[CV] clf__learning_rate=0.38, clf__n_estimators=164 ..................\n",
            "[CV] ... clf__learning_rate=0.38, clf__n_estimators=164, total=   5.6s\n",
            "[CV] clf__learning_rate=0.38, clf__n_estimators=164 ..................\n",
            "[CV] ... clf__learning_rate=0.38, clf__n_estimators=164, total=   5.6s\n",
            "[CV] clf__learning_rate=0.38, clf__n_estimators=164 ..................\n",
            "[CV] ... clf__learning_rate=0.38, clf__n_estimators=164, total=   5.6s\n",
            "[CV] clf__learning_rate=0.38, clf__n_estimators=164 ..................\n",
            "[CV] ... clf__learning_rate=0.38, clf__n_estimators=164, total=   5.7s\n",
            "[CV] clf__learning_rate=0.38, clf__n_estimators=165 ..................\n",
            "[CV] ... clf__learning_rate=0.38, clf__n_estimators=165, total=   5.6s\n",
            "[CV] clf__learning_rate=0.38, clf__n_estimators=165 ..................\n",
            "[CV] ... clf__learning_rate=0.38, clf__n_estimators=165, total=   5.7s\n",
            "[CV] clf__learning_rate=0.38, clf__n_estimators=165 ..................\n",
            "[CV] ... clf__learning_rate=0.38, clf__n_estimators=165, total=   5.7s\n",
            "[CV] clf__learning_rate=0.38, clf__n_estimators=166 ..................\n",
            "[CV] ... clf__learning_rate=0.38, clf__n_estimators=166, total=   5.7s\n",
            "[CV] clf__learning_rate=0.38, clf__n_estimators=166 ..................\n",
            "[CV] ... clf__learning_rate=0.38, clf__n_estimators=166, total=   5.8s\n",
            "[CV] clf__learning_rate=0.38, clf__n_estimators=166 ..................\n",
            "[CV] ... clf__learning_rate=0.38, clf__n_estimators=166, total=   5.8s\n",
            "[CV] clf__learning_rate=0.38, clf__n_estimators=167 ..................\n",
            "[CV] ... clf__learning_rate=0.38, clf__n_estimators=167, total=   5.7s\n",
            "[CV] clf__learning_rate=0.38, clf__n_estimators=167 ..................\n",
            "[CV] ... clf__learning_rate=0.38, clf__n_estimators=167, total=   5.8s\n",
            "[CV] clf__learning_rate=0.38, clf__n_estimators=167 ..................\n",
            "[CV] ... clf__learning_rate=0.38, clf__n_estimators=167, total=   5.8s\n",
            "[CV] clf__learning_rate=0.38, clf__n_estimators=168 ..................\n",
            "[CV] ... clf__learning_rate=0.38, clf__n_estimators=168, total=   6.0s\n",
            "[CV] clf__learning_rate=0.38, clf__n_estimators=168 ..................\n",
            "[CV] ... clf__learning_rate=0.38, clf__n_estimators=168, total=   5.7s\n",
            "[CV] clf__learning_rate=0.38, clf__n_estimators=168 ..................\n",
            "[CV] ... clf__learning_rate=0.38, clf__n_estimators=168, total=   5.9s\n",
            "[CV] clf__learning_rate=0.38, clf__n_estimators=169 ..................\n",
            "[CV] ... clf__learning_rate=0.38, clf__n_estimators=169, total=   5.8s\n",
            "[CV] clf__learning_rate=0.38, clf__n_estimators=169 ..................\n",
            "[CV] ... clf__learning_rate=0.38, clf__n_estimators=169, total=   5.8s\n",
            "[CV] clf__learning_rate=0.38, clf__n_estimators=169 ..................\n",
            "[CV] ... clf__learning_rate=0.38, clf__n_estimators=169, total=   6.0s\n",
            "[CV] clf__learning_rate=0.38, clf__n_estimators=170 ..................\n",
            "[CV] ... clf__learning_rate=0.38, clf__n_estimators=170, total=   6.0s\n",
            "[CV] clf__learning_rate=0.38, clf__n_estimators=170 ..................\n",
            "[CV] ... clf__learning_rate=0.38, clf__n_estimators=170, total=   5.8s\n",
            "[CV] clf__learning_rate=0.38, clf__n_estimators=170 ..................\n",
            "[CV] ... clf__learning_rate=0.38, clf__n_estimators=170, total=   5.8s\n",
            "[CV] clf__learning_rate=0.39, clf__n_estimators=160 ..................\n",
            "[CV] ... clf__learning_rate=0.39, clf__n_estimators=160, total=   5.5s\n",
            "[CV] clf__learning_rate=0.39, clf__n_estimators=160 ..................\n",
            "[CV] ... clf__learning_rate=0.39, clf__n_estimators=160, total=   5.8s\n",
            "[CV] clf__learning_rate=0.39, clf__n_estimators=160 ..................\n",
            "[CV] ... clf__learning_rate=0.39, clf__n_estimators=160, total=   5.7s\n",
            "[CV] clf__learning_rate=0.39, clf__n_estimators=161 ..................\n",
            "[CV] ... clf__learning_rate=0.39, clf__n_estimators=161, total=   5.7s\n",
            "[CV] clf__learning_rate=0.39, clf__n_estimators=161 ..................\n",
            "[CV] ... clf__learning_rate=0.39, clf__n_estimators=161, total=   5.6s\n",
            "[CV] clf__learning_rate=0.39, clf__n_estimators=161 ..................\n",
            "[CV] ... clf__learning_rate=0.39, clf__n_estimators=161, total=   5.7s\n",
            "[CV] clf__learning_rate=0.39, clf__n_estimators=162 ..................\n",
            "[CV] ... clf__learning_rate=0.39, clf__n_estimators=162, total=   5.8s\n",
            "[CV] clf__learning_rate=0.39, clf__n_estimators=162 ..................\n",
            "[CV] ... clf__learning_rate=0.39, clf__n_estimators=162, total=   5.9s\n",
            "[CV] clf__learning_rate=0.39, clf__n_estimators=162 ..................\n",
            "[CV] ... clf__learning_rate=0.39, clf__n_estimators=162, total=   5.8s\n",
            "[CV] clf__learning_rate=0.39, clf__n_estimators=163 ..................\n",
            "[CV] ... clf__learning_rate=0.39, clf__n_estimators=163, total=   5.9s\n",
            "[CV] clf__learning_rate=0.39, clf__n_estimators=163 ..................\n",
            "[CV] ... clf__learning_rate=0.39, clf__n_estimators=163, total=   6.3s\n",
            "[CV] clf__learning_rate=0.39, clf__n_estimators=163 ..................\n",
            "[CV] ... clf__learning_rate=0.39, clf__n_estimators=163, total=   6.5s\n",
            "[CV] clf__learning_rate=0.39, clf__n_estimators=164 ..................\n",
            "[CV] ... clf__learning_rate=0.39, clf__n_estimators=164, total=   6.2s\n",
            "[CV] clf__learning_rate=0.39, clf__n_estimators=164 ..................\n",
            "[CV] ... clf__learning_rate=0.39, clf__n_estimators=164, total=   6.5s\n",
            "[CV] clf__learning_rate=0.39, clf__n_estimators=164 ..................\n",
            "[CV] ... clf__learning_rate=0.39, clf__n_estimators=164, total=   6.1s\n",
            "[CV] clf__learning_rate=0.39, clf__n_estimators=164 ..................\n",
            "[CV] ... clf__learning_rate=0.39, clf__n_estimators=164, total=   6.1s\n",
            "[CV] clf__learning_rate=0.39, clf__n_estimators=164 ..................\n",
            "[CV] ... clf__learning_rate=0.39, clf__n_estimators=164, total=   6.1s\n",
            "[CV] clf__learning_rate=0.39, clf__n_estimators=164 ..................\n",
            "[CV] ... clf__learning_rate=0.39, clf__n_estimators=164, total=   6.1s\n",
            "[CV] clf__learning_rate=0.39, clf__n_estimators=165 ..................\n",
            "[CV] ... clf__learning_rate=0.39, clf__n_estimators=165, total=   5.9s\n",
            "[CV] clf__learning_rate=0.39, clf__n_estimators=165 ..................\n",
            "[CV] ... clf__learning_rate=0.39, clf__n_estimators=165, total=   6.0s\n",
            "[CV] clf__learning_rate=0.39, clf__n_estimators=165 ..................\n",
            "[CV] ... clf__learning_rate=0.39, clf__n_estimators=165, total=   6.1s\n",
            "[CV] clf__learning_rate=0.39, clf__n_estimators=166 ..................\n",
            "[CV] ... clf__learning_rate=0.39, clf__n_estimators=166, total=   6.1s\n",
            "[CV] clf__learning_rate=0.39, clf__n_estimators=166 ..................\n",
            "[CV] ... clf__learning_rate=0.39, clf__n_estimators=166, total=   6.1s\n",
            "[CV] clf__learning_rate=0.39, clf__n_estimators=166 ..................\n",
            "[CV] ... clf__learning_rate=0.39, clf__n_estimators=166, total=   6.0s\n",
            "[CV] clf__learning_rate=0.39, clf__n_estimators=167 ..................\n",
            "[CV] ... clf__learning_rate=0.39, clf__n_estimators=167, total=   6.1s\n",
            "[CV] clf__learning_rate=0.39, clf__n_estimators=167 ..................\n",
            "[CV] ... clf__learning_rate=0.39, clf__n_estimators=167, total=   6.1s\n",
            "[CV] clf__learning_rate=0.39, clf__n_estimators=167 ..................\n",
            "[CV] ... clf__learning_rate=0.39, clf__n_estimators=167, total=   5.9s\n",
            "[CV] clf__learning_rate=0.39, clf__n_estimators=168 ..................\n",
            "[CV] ... clf__learning_rate=0.39, clf__n_estimators=168, total=   6.0s\n",
            "[CV] clf__learning_rate=0.39, clf__n_estimators=168 ..................\n",
            "[CV] ... clf__learning_rate=0.39, clf__n_estimators=168, total=   5.8s\n",
            "[CV] clf__learning_rate=0.39, clf__n_estimators=168 ..................\n",
            "[CV] ... clf__learning_rate=0.39, clf__n_estimators=168, total=   6.0s\n",
            "[CV] clf__learning_rate=0.39, clf__n_estimators=169 ..................\n",
            "[CV] ... clf__learning_rate=0.39, clf__n_estimators=169, total=   5.9s\n",
            "[CV] clf__learning_rate=0.39, clf__n_estimators=169 ..................\n",
            "[CV] ... clf__learning_rate=0.39, clf__n_estimators=169, total=   6.1s\n",
            "[CV] clf__learning_rate=0.39, clf__n_estimators=169 ..................\n",
            "[CV] ... clf__learning_rate=0.39, clf__n_estimators=169, total=   6.2s\n",
            "[CV] clf__learning_rate=0.39, clf__n_estimators=170 ..................\n",
            "[CV] ... clf__learning_rate=0.39, clf__n_estimators=170, total=   6.1s\n",
            "[CV] clf__learning_rate=0.39, clf__n_estimators=170 ..................\n",
            "[CV] ... clf__learning_rate=0.39, clf__n_estimators=170, total=   6.1s\n",
            "[CV] clf__learning_rate=0.39, clf__n_estimators=170 ..................\n",
            "[CV] ... clf__learning_rate=0.39, clf__n_estimators=170, total=   6.3s\n",
            "[CV] clf__learning_rate=0.4, clf__n_estimators=160 ...................\n",
            "[CV] .... clf__learning_rate=0.4, clf__n_estimators=160, total=   5.7s\n",
            "[CV] clf__learning_rate=0.4, clf__n_estimators=160 ...................\n",
            "[CV] .... clf__learning_rate=0.4, clf__n_estimators=160, total=   5.7s\n",
            "[CV] clf__learning_rate=0.4, clf__n_estimators=160 ...................\n",
            "[CV] .... clf__learning_rate=0.4, clf__n_estimators=160, total=   5.6s\n",
            "[CV] clf__learning_rate=0.4, clf__n_estimators=161 ...................\n",
            "[CV] .... clf__learning_rate=0.4, clf__n_estimators=161, total=   5.9s\n",
            "[CV] clf__learning_rate=0.4, clf__n_estimators=161 ...................\n",
            "[CV] .... clf__learning_rate=0.4, clf__n_estimators=161, total=   5.6s\n",
            "[CV] clf__learning_rate=0.4, clf__n_estimators=161 ...................\n",
            "[CV] .... clf__learning_rate=0.4, clf__n_estimators=161, total=   5.6s\n",
            "[CV] clf__learning_rate=0.4, clf__n_estimators=162 ...................\n",
            "[CV] .... clf__learning_rate=0.4, clf__n_estimators=162, total=   5.6s\n",
            "[CV] clf__learning_rate=0.4, clf__n_estimators=162 ...................\n",
            "[CV] .... clf__learning_rate=0.4, clf__n_estimators=162, total=   5.6s\n",
            "[CV] clf__learning_rate=0.4, clf__n_estimators=162 ...................\n",
            "[CV] .... clf__learning_rate=0.4, clf__n_estimators=162, total=   5.7s\n",
            "[CV] clf__learning_rate=0.4, clf__n_estimators=163 ...................\n",
            "[CV] .... clf__learning_rate=0.4, clf__n_estimators=163, total=   5.7s\n",
            "[CV] clf__learning_rate=0.4, clf__n_estimators=163 ...................\n",
            "[CV] .... clf__learning_rate=0.4, clf__n_estimators=163, total=   5.5s\n",
            "[CV] clf__learning_rate=0.4, clf__n_estimators=163 ...................\n",
            "[CV] .... clf__learning_rate=0.4, clf__n_estimators=163, total=   5.7s\n",
            "[CV] clf__learning_rate=0.4, clf__n_estimators=164 ...................\n",
            "[CV] .... clf__learning_rate=0.4, clf__n_estimators=164, total=   5.7s\n",
            "[CV] clf__learning_rate=0.4, clf__n_estimators=164 ...................\n",
            "[CV] .... clf__learning_rate=0.4, clf__n_estimators=164, total=   5.8s\n",
            "[CV] clf__learning_rate=0.4, clf__n_estimators=164 ...................\n",
            "[CV] .... clf__learning_rate=0.4, clf__n_estimators=164, total=   5.7s\n",
            "[CV] clf__learning_rate=0.4, clf__n_estimators=164 ...................\n",
            "[CV] .... clf__learning_rate=0.4, clf__n_estimators=164, total=   5.7s\n",
            "[CV] clf__learning_rate=0.4, clf__n_estimators=164 ...................\n",
            "[CV] .... clf__learning_rate=0.4, clf__n_estimators=164, total=   5.7s\n",
            "[CV] clf__learning_rate=0.4, clf__n_estimators=164 ...................\n",
            "[CV] .... clf__learning_rate=0.4, clf__n_estimators=164, total=   5.7s\n",
            "[CV] clf__learning_rate=0.4, clf__n_estimators=165 ...................\n",
            "[CV] .... clf__learning_rate=0.4, clf__n_estimators=165, total=   5.7s\n",
            "[CV] clf__learning_rate=0.4, clf__n_estimators=165 ...................\n",
            "[CV] .... clf__learning_rate=0.4, clf__n_estimators=165, total=   5.8s\n",
            "[CV] clf__learning_rate=0.4, clf__n_estimators=165 ...................\n",
            "[CV] .... clf__learning_rate=0.4, clf__n_estimators=165, total=   5.6s\n",
            "[CV] clf__learning_rate=0.4, clf__n_estimators=166 ...................\n",
            "[CV] .... clf__learning_rate=0.4, clf__n_estimators=166, total=   5.7s\n",
            "[CV] clf__learning_rate=0.4, clf__n_estimators=166 ...................\n",
            "[CV] .... clf__learning_rate=0.4, clf__n_estimators=166, total=   5.7s\n",
            "[CV] clf__learning_rate=0.4, clf__n_estimators=166 ...................\n",
            "[CV] .... clf__learning_rate=0.4, clf__n_estimators=166, total=   5.9s\n",
            "[CV] clf__learning_rate=0.4, clf__n_estimators=167 ...................\n",
            "[CV] .... clf__learning_rate=0.4, clf__n_estimators=167, total=   5.7s\n",
            "[CV] clf__learning_rate=0.4, clf__n_estimators=167 ...................\n",
            "[CV] .... clf__learning_rate=0.4, clf__n_estimators=167, total=   5.8s\n",
            "[CV] clf__learning_rate=0.4, clf__n_estimators=167 ...................\n",
            "[CV] .... clf__learning_rate=0.4, clf__n_estimators=167, total=   5.8s\n",
            "[CV] clf__learning_rate=0.4, clf__n_estimators=168 ...................\n",
            "[CV] .... clf__learning_rate=0.4, clf__n_estimators=168, total=   5.7s\n",
            "[CV] clf__learning_rate=0.4, clf__n_estimators=168 ...................\n",
            "[CV] .... clf__learning_rate=0.4, clf__n_estimators=168, total=   5.8s\n",
            "[CV] clf__learning_rate=0.4, clf__n_estimators=168 ...................\n",
            "[CV] .... clf__learning_rate=0.4, clf__n_estimators=168, total=   5.9s\n",
            "[CV] clf__learning_rate=0.4, clf__n_estimators=169 ...................\n",
            "[CV] .... clf__learning_rate=0.4, clf__n_estimators=169, total=   5.8s\n",
            "[CV] clf__learning_rate=0.4, clf__n_estimators=169 ...................\n",
            "[CV] .... clf__learning_rate=0.4, clf__n_estimators=169, total=   5.8s\n",
            "[CV] clf__learning_rate=0.4, clf__n_estimators=169 ...................\n",
            "[CV] .... clf__learning_rate=0.4, clf__n_estimators=169, total=   5.8s\n",
            "[CV] clf__learning_rate=0.4, clf__n_estimators=170 ...................\n",
            "[CV] .... clf__learning_rate=0.4, clf__n_estimators=170, total=   6.0s\n",
            "[CV] clf__learning_rate=0.4, clf__n_estimators=170 ...................\n",
            "[CV] .... clf__learning_rate=0.4, clf__n_estimators=170, total=   5.8s\n",
            "[CV] clf__learning_rate=0.4, clf__n_estimators=170 ...................\n",
            "[CV] .... clf__learning_rate=0.4, clf__n_estimators=170, total=   6.0s\n"
          ],
          "name": "stdout"
        },
        {
          "output_type": "stream",
          "text": [
            "[Parallel(n_jobs=1)]: Done 396 out of 396 | elapsed: 40.2min finished\n"
          ],
          "name": "stderr"
        },
        {
          "output_type": "stream",
          "text": [
            "CPU times: user 40min 18s, sys: 4.17 s, total: 40min 22s\n",
            "Wall time: 40min 22s\n",
            "Best accuracy: 0.813\n",
            "\n",
            "Best params:\n",
            " {'clf__learning_rate': 0.34, 'clf__n_estimators': 166}\n"
          ],
          "name": "stdout"
        }
      ]
    },
    {
      "cell_type": "code",
      "metadata": {
        "id": "xTIYO97kng8L",
        "colab_type": "code",
        "colab": {
          "base_uri": "https://localhost:8080/",
          "height": 34
        },
        "outputId": "1320a799-54ef-4249-b141-dac8e4a24971"
      },
      "source": [
        "print('Best ROC: %.3f' % roc_auc_score(y_val, gs_xgb.predict(X_val)))\n"
      ],
      "execution_count": 96,
      "outputs": [
        {
          "output_type": "stream",
          "text": [
            "Best ROC: 0.813\n"
          ],
          "name": "stdout"
        }
      ]
    },
    {
      "cell_type": "code",
      "metadata": {
        "id": "ne2l78SWoVpu",
        "colab_type": "code",
        "colab": {
          "base_uri": "https://localhost:8080/",
          "height": 442
        },
        "outputId": "9b7f9e75-736b-43e9-e420-1b4a53ae65d8"
      },
      "source": [
        "best_model = gs_xgb.best_estimator_\n",
        "scores(best_model,X_train,X_val,y_train,y_val)\n",
        "roc_plot(best_model,X_train,y_train,X_val,y_val)"
      ],
      "execution_count": 97,
      "outputs": [
        {
          "output_type": "display_data",
          "data": {
            "image/png": "[encoded data removed]",
            "text/plain": [
              "<Figure size 504x504 with 1 Axes>"
            ]
          },
          "metadata": {
            "tags": []
          }
        }
      ]
    },
    {
      "cell_type": "code",
      "metadata": {
        "id": "LHqwxLqbobh2",
        "colab_type": "code",
        "colab": {
          "base_uri": "https://localhost:8080/",
          "height": 296
        },
        "outputId": "d4582247-fda3-4051-b9e0-8740ebd67dd1"
      },
      "source": [
        "opt_plots_xgb(gs_xgb)"
      ],
      "execution_count": 98,
      "outputs": [
        {
          "output_type": "display_data",
          "data": {
            "image/png": "[encoded data removed]",
            "text/plain": [
              "<Figure size 1080x288 with 4 Axes>"
            ]
          },
          "metadata": {
            "tags": []
          }
        }
      ]
    },
    {
      "cell_type": "markdown",
      "metadata": {
        "id": "9KwMQK114XyA",
        "colab_type": "text"
      },
      "source": [
        "# Plot Confusion matrix with best model"
      ]
    },
    {
      "cell_type": "code",
      "metadata": {
        "id": "mDWuFyXktYvL",
        "colab_type": "code",
        "colab": {
          "base_uri": "https://localhost:8080/",
          "height": 675
        },
        "outputId": "f4f1839e-0e51-45a8-c3d9-79e0da942570"
      },
      "source": [
        "conf_mat (gs_xgb,X_val,y_val)"
      ],
      "execution_count": 45,
      "outputs": [
        {
          "output_type": "stream",
          "text": [
            "Confusion matrix, without normalization\n",
            "[[ 3756  3054]\n",
            " [ 1525 11665]]\n",
            "Normalized confusion matrix\n",
            "[[0.55154185 0.44845815]\n",
            " [0.11561789 0.88438211]]\n"
          ],
          "name": "stdout"
        },
        {
          "output_type": "display_data",
          "data": {
            "image/png": "[encoded data removed]",
            "text/plain": [
              "<Figure size 432x288 with 2 Axes>"
            ]
          },
          "metadata": {
            "tags": []
          }
        },
        {
          "output_type": "display_data",
          "data": {
            "image/png": "[encoded data removed]",
            "text/plain": [
              "<Figure size 432x288 with 2 Axes>"
            ]
          },
          "metadata": {
            "tags": []
          }
        }
      ]
    },
    {
      "cell_type": "code",
      "metadata": {
        "id": "9GpgNj5GC_HM",
        "colab_type": "code",
        "colab": {
          "base_uri": "https://localhost:8080/",
          "height": 122
        },
        "outputId": "9170d6a0-fd1d-4b93-bd15-2a721b036396"
      },
      "source": [
        "gs_xgb = XGBClassifier(learning_rate=0.34,n_estimators=166)\n",
        "gs_xgb.fit(X_train,y_train)\n",
        "\n",
        "print(roc_auc_score(y_train, gs_xgb.predict(X_train)))\n",
        "print(roc_auc_score(y_val, gs_xgb.predict(X_val)))\n",
        "print(accuracy_score(y_train, gs_xgb.predict(X_train)))\n",
        "print(accuracy_score(y_val, gs_xgb.predict(X_val)))"
      ],
      "execution_count": 11,
      "outputs": [
        {
          "output_type": "stream",
          "text": [
            "[21:28:13] WARNING: /workspace/src/learner.cc:686: Tree method is automatically selected to be 'approx' for faster speed. To use old behavior (exact greedy algorithm on single machine), set tree_method to 'exact'.\n",
            "0.8134290812831992\n",
            "0.8133409735928407\n",
            "0.8134324301107142\n",
            "0.8133274696889431\n"
          ],
          "name": "stdout"
        }
      ]
    },
    {
      "cell_type": "markdown",
      "metadata": {
        "id": "-V1hbvZt5TDt",
        "colab_type": "text"
      },
      "source": [
        "# Run model without SMOTE "
      ]
    },
    {
      "cell_type": "code",
      "metadata": {
        "id": "2j5DTvHihQLL",
        "colab_type": "code",
        "colab": {
          "base_uri": "https://localhost:8080/",
          "height": 85
        },
        "outputId": "d5fbe8a4-b919-4c84-ce11-6369ef28a1cf"
      },
      "source": [
        "gs_xgb = XGBClassifier(learning_rate=0.34,n_estimators=166)\n",
        "gs_xgb.fit(X_train,y_train)\n",
        "\n",
        "print(roc_auc_score(y_train, gs_xgb.predict(X_train)))\n",
        "print(roc_auc_score(y_val, gs_xgb.predict(X_val)))\n",
        "print(accuracy_score(y_train, gs_xgb.predict(X_train)))\n",
        "print(accuracy_score(y_val, gs_xgb.predict(X_val)))"
      ],
      "execution_count": 49,
      "outputs": [
        {
          "output_type": "stream",
          "text": [
            "0.7159767989331479\n",
            "0.7136021704691068\n",
            "0.770025\n",
            "0.769\n"
          ],
          "name": "stdout"
        }
      ]
    },
    {
      "cell_type": "markdown",
      "metadata": {
        "id": "4E2HEPP1br3A",
        "colab_type": "text"
      },
      "source": [
        "# Find best threshhold"
      ]
    },
    {
      "cell_type": "code",
      "metadata": {
        "id": "nr3o160qq2oE",
        "colab_type": "code",
        "colab": {
          "base_uri": "https://localhost:8080/",
          "height": 136
        },
        "outputId": "ac91ac0e-f2d1-4b20-d277-0b0b81131434"
      },
      "source": [
        "np.array(gs_xgb.predict_proba(X_train))"
      ],
      "execution_count": 21,
      "outputs": [
        {
          "output_type": "execute_result",
          "data": {
            "text/plain": [
              "array([[1.8533111e-01, 8.1466889e-01],\n",
              "       [3.7542611e-01, 6.2457389e-01],\n",
              "       [9.9980313e-01, 1.9685195e-04],\n",
              "       ...,\n",
              "       [9.9995190e-01, 4.8101083e-05],\n",
              "       [9.9998319e-01, 1.6794938e-05],\n",
              "       [9.9318320e-01, 6.8168007e-03]], dtype=float32)"
            ]
          },
          "metadata": {
            "tags": []
          },
          "execution_count": 21
        }
      ]
    },
    {
      "cell_type": "markdown",
      "metadata": {
        "id": "jNlmZZ0g5w_k",
        "colab_type": "text"
      },
      "source": [
        "From our confusion matrix above and our business knowledge, we can calculate our prevelance = 0.49946, CostFP-CostTN=8, CostFN-CostTp=10"
      ]
    },
    {
      "cell_type": "code",
      "metadata": {
        "id": "5A63KnpnhMTL",
        "colab_type": "code",
        "colab": {}
      },
      "source": [
        "best_thresh = threshold_selection(0.49946, 8, 10, y_train, np.array(gs_xgb.predict_proba(X_train)[:,-1]))"
      ],
      "execution_count": 0,
      "outputs": []
    },
    {
      "cell_type": "code",
      "metadata": {
        "id": "j-R8hmchrXTL",
        "colab_type": "code",
        "colab": {
          "base_uri": "https://localhost:8080/",
          "height": 34
        },
        "outputId": "94237c2e-60e0-480f-98b9-753657acc986"
      },
      "source": [
        "best_thresh"
      ],
      "execution_count": 23,
      "outputs": [
        {
          "output_type": "execute_result",
          "data": {
            "text/plain": [
              "0.49146605"
            ]
          },
          "metadata": {
            "tags": []
          },
          "execution_count": 23
        }
      ]
    },
    {
      "cell_type": "markdown",
      "metadata": {
        "id": "wA3sQHrArZrj",
        "colab_type": "text"
      },
      "source": [
        "# Model Prediction"
      ]
    },
    {
      "cell_type": "code",
      "metadata": {
        "id": "hcfyB7vk2kVg",
        "colab_type": "code",
        "colab": {}
      },
      "source": [
        "test_pre = gs_xgb.predict_proba(test_predictors.values.tolist())"
      ],
      "execution_count": 0,
      "outputs": []
    },
    {
      "cell_type": "code",
      "metadata": {
        "id": "kBlm6wsDUube",
        "colab_type": "code",
        "colab": {}
      },
      "source": [
        "predictions = predictor(gs_xgb,best_thresh,test_predictors.values.tolist())"
      ],
      "execution_count": 0,
      "outputs": []
    },
    {
      "cell_type": "code",
      "metadata": {
        "id": "GTq_eS3ghAiO",
        "colab_type": "code",
        "colab": {
          "base_uri": "https://localhost:8080/",
          "height": 51
        },
        "outputId": "46f537ae-f753-44a4-ff93-868e184cacc4"
      },
      "source": [
        "print(roc_auc_score(test_target.values.tolist(), predictions))\n",
        "print(accuracy_score(test_target.values.tolist(), predictions))"
      ],
      "execution_count": 31,
      "outputs": [
        {
          "output_type": "stream",
          "text": [
            "0.7071655960452171\n",
            "0.7618198417613488\n"
          ],
          "name": "stdout"
        }
      ]
    },
    {
      "cell_type": "code",
      "metadata": {
        "id": "IxapbE83tiEO",
        "colab_type": "code",
        "colab": {
          "base_uri": "https://localhost:8080/",
          "height": 675
        },
        "outputId": "3c2a3f1a-c662-4a0f-a366-188a37b262f9"
      },
      "source": [
        "conf_mat (gs_xgb,test_predictors,test_target)"
      ],
      "execution_count": 46,
      "outputs": [
        {
          "output_type": "stream",
          "text": [
            "Confusion matrix, without normalization\n",
            "[[ 401589  340367]\n",
            " [ 169182 1247753]]\n",
            "Normalized confusion matrix\n",
            "[[0.54125716 0.45874284]\n",
            " [0.11939997 0.88060003]]\n"
          ],
          "name": "stdout"
        },
        {
          "output_type": "display_data",
          "data": {
            "image/png": "[encoded data removed]",
            "text/plain": [
              "<Figure size 432x288 with 2 Axes>"
            ]
          },
          "metadata": {
            "tags": []
          }
        },
        {
          "output_type": "display_data",
          "data": {
            "image/png": "[encoded data removed]",
            "text/plain": [
              "<Figure size 432x288 with 2 Axes>"
            ]
          },
          "metadata": {
            "tags": []
          }
        }
      ]
    },
    {
      "cell_type": "markdown",
      "metadata": {
        "id": "agagF5eSxT61",
        "colab_type": "text"
      },
      "source": [
        "# Conclusion"
      ]
    },
    {
      "cell_type": "markdown",
      "metadata": {
        "id": "EaAsn5vTxakV",
        "colab_type": "text"
      },
      "source": [
        "For the model it is clear that when we use SMOTE for creating synthetic data our model performs better on training set. Since we only have 70% to 30% class imbalance which is 70% percent has current accounts where 30 does not. Our model's True Positive rate is much better than True Negative. Which is desireble in our context where we want to show ads to people who would like the product but the cost of showing to uninterested is not huge."
      ]
    },
    {
      "cell_type": "code",
      "metadata": {
        "id": "gOBbkbOvxbSy",
        "colab_type": "code",
        "colab": {}
      },
      "source": [
        ""
      ],
      "execution_count": 0,
      "outputs": []
    }
  ]
}
{
 "cells": [
  {
   "cell_type": "markdown",
   "metadata": {},
   "source": [
    "## Summary\n",
    "\n",
    "### Business understanding\n",
    "\n",
    "Santader is a Spanish bank and one of the biggest banks in the world with more than 125 million customers. In our project we are analyzing our spanish customers and their behaviors within a year range. We will first analyze the data and extract meaning from and categorize to understand how Santander bank is being used by individuals. Afterwards we will train a model which better understands user and what potential product he/she has and what he/she is might be interested in. With this model we can better guide our potential customers with our services saving them time and also offer some of our product to our already existing customers.\n",
    "\n",
    "\n",
    "#### Outline\n",
    "\n",
    "1. Import neccessary packages and dataset\n",
    "2. Explore data\n",
    "3. Run Models\n",
    "4. Conclusion"
   ]
  },
  {
   "cell_type": "code",
   "execution_count": 266,
   "metadata": {},
   "outputs": [],
   "source": [
    "import pandas as pd\n",
    "import numpy as np\n",
    "import matplotlib.pyplot as plt\n",
    "import seaborn as sns\n",
    "from sklearn.metrics import auc,roc_curve\n",
    "from sklearn.tree import DecisionTreeClassifier\n",
    "from sklearn.ensemble import RandomForestClassifier, VotingClassifier\n",
    "from sklearn.svm import SVC\n",
    "\n",
    "\n",
    "\n",
    "%matplotlib inline"
   ]
  },
  {
   "cell_type": "markdown",
   "metadata": {},
   "source": [
    "## EDA\n",
    "\n",
    "#### Data Understanding\n",
    "\n",
    "Our dataset is from Santander bank over 1.5 year of customer transactions starts at 2015-01-28 and the columns after ind_(xyz)_ult1 #25 is what customers buy and we will predict what will they buy after May 2016 for our test dataset. For our training dataset we have approximately 13m data points  and for test set we have 92 thousand data points.\n",
    "\n",
    "#### Notes\n",
    " 1. We have dropped the dataset to 10M rows after preprocessing\n",
    " 2. We can see that most of our predictors are categorical data so it is not a good practice to reduce dimensionality with PCA"
   ]
  },
  {
   "cell_type": "code",
   "execution_count": null,
   "metadata": {},
   "outputs": [],
   "source": [
    "df = pd.read_csv('preprocessed_train.csv')"
   ]
  },
  {
   "cell_type": "code",
   "execution_count": null,
   "metadata": {},
   "outputs": [],
   "source": [
    "age = pd.read_csv('age.csv',header=None)"
   ]
  },
  {
   "cell_type": "code",
   "execution_count": 28,
   "metadata": {},
   "outputs": [
    {
     "data": {
      "text/html": [
       "<div>\n",
       "<style scoped>\n",
       "    .dataframe tbody tr th:only-of-type {\n",
       "        vertical-align: middle;\n",
       "    }\n",
       "\n",
       "    .dataframe tbody tr th {\n",
       "        vertical-align: top;\n",
       "    }\n",
       "\n",
       "    .dataframe thead th {\n",
       "        text-align: right;\n",
       "    }\n",
       "</style>\n",
       "<table border=\"1\" class=\"dataframe\">\n",
       "  <thead>\n",
       "    <tr style=\"text-align: right;\">\n",
       "      <th></th>\n",
       "      <th>1</th>\n",
       "    </tr>\n",
       "  </thead>\n",
       "  <tbody>\n",
       "    <tr>\n",
       "      <th>0</th>\n",
       "      <td>35</td>\n",
       "    </tr>\n",
       "    <tr>\n",
       "      <th>1</th>\n",
       "      <td>23</td>\n",
       "    </tr>\n",
       "    <tr>\n",
       "      <th>2</th>\n",
       "      <td>23</td>\n",
       "    </tr>\n",
       "    <tr>\n",
       "      <th>3</th>\n",
       "      <td>22</td>\n",
       "    </tr>\n",
       "    <tr>\n",
       "      <th>4</th>\n",
       "      <td>23</td>\n",
       "    </tr>\n",
       "  </tbody>\n",
       "</table>\n",
       "</div>"
      ],
      "text/plain": [
       "    1\n",
       "0  35\n",
       "1  23\n",
       "2  23\n",
       "3  22\n",
       "4  23"
      ]
     },
     "execution_count": 28,
     "metadata": {},
     "output_type": "execute_result"
    }
   ],
   "source": [
    "age = age.drop(0,axis=1)\n",
    "age.head()"
   ]
  },
  {
   "cell_type": "code",
   "execution_count": 29,
   "metadata": {},
   "outputs": [
    {
     "data": {
      "text/html": [
       "<div>\n",
       "<style scoped>\n",
       "    .dataframe tbody tr th:only-of-type {\n",
       "        vertical-align: middle;\n",
       "    }\n",
       "\n",
       "    .dataframe tbody tr th {\n",
       "        vertical-align: top;\n",
       "    }\n",
       "\n",
       "    .dataframe thead th {\n",
       "        text-align: right;\n",
       "    }\n",
       "</style>\n",
       "<table border=\"1\" class=\"dataframe\">\n",
       "  <thead>\n",
       "    <tr style=\"text-align: right;\">\n",
       "      <th></th>\n",
       "      <th>Unnamed: 0</th>\n",
       "      <th>date</th>\n",
       "      <th>customerid</th>\n",
       "      <th>employee_index</th>\n",
       "      <th>country_residence</th>\n",
       "      <th>gender</th>\n",
       "      <th>age</th>\n",
       "      <th>date_of_first_holder_contract</th>\n",
       "      <th>new_customer_index</th>\n",
       "      <th>customer_seniority</th>\n",
       "      <th>...</th>\n",
       "      <th>pensions_plan</th>\n",
       "      <th>loans</th>\n",
       "      <th>tax</th>\n",
       "      <th>credit_card</th>\n",
       "      <th>securities</th>\n",
       "      <th>home_account</th>\n",
       "      <th>payroll</th>\n",
       "      <th>pensions</th>\n",
       "      <th>direct_debit</th>\n",
       "      <th>1</th>\n",
       "    </tr>\n",
       "  </thead>\n",
       "  <tbody>\n",
       "    <tr>\n",
       "      <th>0</th>\n",
       "      <td>0</td>\n",
       "      <td>2015-01-28</td>\n",
       "      <td>1375586</td>\n",
       "      <td>3</td>\n",
       "      <td>2</td>\n",
       "      <td>0</td>\n",
       "      <td>151</td>\n",
       "      <td>2015-01-12</td>\n",
       "      <td>0.0</td>\n",
       "      <td>263</td>\n",
       "      <td>...</td>\n",
       "      <td>0</td>\n",
       "      <td>0</td>\n",
       "      <td>0</td>\n",
       "      <td>0</td>\n",
       "      <td>0</td>\n",
       "      <td>0</td>\n",
       "      <td>0.0</td>\n",
       "      <td>0.0</td>\n",
       "      <td>0</td>\n",
       "      <td>35</td>\n",
       "    </tr>\n",
       "    <tr>\n",
       "      <th>1</th>\n",
       "      <td>1</td>\n",
       "      <td>2015-01-28</td>\n",
       "      <td>1050611</td>\n",
       "      <td>3</td>\n",
       "      <td>2</td>\n",
       "      <td>1</td>\n",
       "      <td>139</td>\n",
       "      <td>2012-08-10</td>\n",
       "      <td>0.0</td>\n",
       "      <td>292</td>\n",
       "      <td>...</td>\n",
       "      <td>0</td>\n",
       "      <td>0</td>\n",
       "      <td>0</td>\n",
       "      <td>0</td>\n",
       "      <td>0</td>\n",
       "      <td>0</td>\n",
       "      <td>0.0</td>\n",
       "      <td>0.0</td>\n",
       "      <td>0</td>\n",
       "      <td>23</td>\n",
       "    </tr>\n",
       "    <tr>\n",
       "      <th>2</th>\n",
       "      <td>2</td>\n",
       "      <td>2015-01-28</td>\n",
       "      <td>1050612</td>\n",
       "      <td>3</td>\n",
       "      <td>2</td>\n",
       "      <td>1</td>\n",
       "      <td>139</td>\n",
       "      <td>2012-08-10</td>\n",
       "      <td>0.0</td>\n",
       "      <td>292</td>\n",
       "      <td>...</td>\n",
       "      <td>0</td>\n",
       "      <td>0</td>\n",
       "      <td>0</td>\n",
       "      <td>0</td>\n",
       "      <td>0</td>\n",
       "      <td>0</td>\n",
       "      <td>0.0</td>\n",
       "      <td>0.0</td>\n",
       "      <td>0</td>\n",
       "      <td>23</td>\n",
       "    </tr>\n",
       "    <tr>\n",
       "      <th>3</th>\n",
       "      <td>3</td>\n",
       "      <td>2015-01-28</td>\n",
       "      <td>1050613</td>\n",
       "      <td>3</td>\n",
       "      <td>2</td>\n",
       "      <td>0</td>\n",
       "      <td>138</td>\n",
       "      <td>2012-08-10</td>\n",
       "      <td>0.0</td>\n",
       "      <td>292</td>\n",
       "      <td>...</td>\n",
       "      <td>0</td>\n",
       "      <td>0</td>\n",
       "      <td>0</td>\n",
       "      <td>0</td>\n",
       "      <td>0</td>\n",
       "      <td>0</td>\n",
       "      <td>0.0</td>\n",
       "      <td>0.0</td>\n",
       "      <td>0</td>\n",
       "      <td>22</td>\n",
       "    </tr>\n",
       "    <tr>\n",
       "      <th>4</th>\n",
       "      <td>5</td>\n",
       "      <td>2015-01-28</td>\n",
       "      <td>1050615</td>\n",
       "      <td>3</td>\n",
       "      <td>2</td>\n",
       "      <td>0</td>\n",
       "      <td>139</td>\n",
       "      <td>2012-08-10</td>\n",
       "      <td>0.0</td>\n",
       "      <td>292</td>\n",
       "      <td>...</td>\n",
       "      <td>0</td>\n",
       "      <td>0</td>\n",
       "      <td>0</td>\n",
       "      <td>0</td>\n",
       "      <td>0</td>\n",
       "      <td>0</td>\n",
       "      <td>0.0</td>\n",
       "      <td>0.0</td>\n",
       "      <td>0</td>\n",
       "      <td>23</td>\n",
       "    </tr>\n",
       "  </tbody>\n",
       "</table>\n",
       "<p>5 rows × 48 columns</p>\n",
       "</div>"
      ],
      "text/plain": [
       "   Unnamed: 0        date  customerid  employee_index  country_residence  \\\n",
       "0           0  2015-01-28     1375586               3                  2   \n",
       "1           1  2015-01-28     1050611               3                  2   \n",
       "2           2  2015-01-28     1050612               3                  2   \n",
       "3           3  2015-01-28     1050613               3                  2   \n",
       "4           5  2015-01-28     1050615               3                  2   \n",
       "\n",
       "   gender  age date_of_first_holder_contract  new_customer_index  \\\n",
       "0       0  151                    2015-01-12                 0.0   \n",
       "1       1  139                    2012-08-10                 0.0   \n",
       "2       1  139                    2012-08-10                 0.0   \n",
       "3       0  138                    2012-08-10                 0.0   \n",
       "4       0  139                    2012-08-10                 0.0   \n",
       "\n",
       "   customer_seniority ...  pensions_plan  loans  tax  credit_card  securities  \\\n",
       "0                 263 ...              0      0    0            0           0   \n",
       "1                 292 ...              0      0    0            0           0   \n",
       "2                 292 ...              0      0    0            0           0   \n",
       "3                 292 ...              0      0    0            0           0   \n",
       "4                 292 ...              0      0    0            0           0   \n",
       "\n",
       "   home_account  payroll  pensions  direct_debit   1  \n",
       "0             0      0.0       0.0             0  35  \n",
       "1             0      0.0       0.0             0  23  \n",
       "2             0      0.0       0.0             0  23  \n",
       "3             0      0.0       0.0             0  22  \n",
       "4             0      0.0       0.0             0  23  \n",
       "\n",
       "[5 rows x 48 columns]"
      ]
     },
     "execution_count": 29,
     "metadata": {},
     "output_type": "execute_result"
    }
   ],
   "source": [
    "df_all = df.join(age)\n",
    "\n",
    "df_all.head()"
   ]
  },
  {
   "cell_type": "code",
   "execution_count": 30,
   "metadata": {},
   "outputs": [
    {
     "data": {
      "text/html": [
       "<div>\n",
       "<style scoped>\n",
       "    .dataframe tbody tr th:only-of-type {\n",
       "        vertical-align: middle;\n",
       "    }\n",
       "\n",
       "    .dataframe tbody tr th {\n",
       "        vertical-align: top;\n",
       "    }\n",
       "\n",
       "    .dataframe thead th {\n",
       "        text-align: right;\n",
       "    }\n",
       "</style>\n",
       "<table border=\"1\" class=\"dataframe\">\n",
       "  <thead>\n",
       "    <tr style=\"text-align: right;\">\n",
       "      <th></th>\n",
       "      <th>Unnamed: 0</th>\n",
       "      <th>date</th>\n",
       "      <th>customerid</th>\n",
       "      <th>employee_index</th>\n",
       "      <th>country_residence</th>\n",
       "      <th>gender</th>\n",
       "      <th>date_of_first_holder_contract</th>\n",
       "      <th>new_customer_index</th>\n",
       "      <th>customer_seniority</th>\n",
       "      <th>primary_or_not</th>\n",
       "      <th>...</th>\n",
       "      <th>pensions_plan</th>\n",
       "      <th>loans</th>\n",
       "      <th>tax</th>\n",
       "      <th>credit_card</th>\n",
       "      <th>securities</th>\n",
       "      <th>home_account</th>\n",
       "      <th>payroll</th>\n",
       "      <th>pensions</th>\n",
       "      <th>direct_debit</th>\n",
       "      <th>1</th>\n",
       "    </tr>\n",
       "  </thead>\n",
       "  <tbody>\n",
       "    <tr>\n",
       "      <th>0</th>\n",
       "      <td>0</td>\n",
       "      <td>2015-01-28</td>\n",
       "      <td>1375586</td>\n",
       "      <td>3</td>\n",
       "      <td>2</td>\n",
       "      <td>0</td>\n",
       "      <td>2015-01-12</td>\n",
       "      <td>0.0</td>\n",
       "      <td>263</td>\n",
       "      <td>1.0</td>\n",
       "      <td>...</td>\n",
       "      <td>0</td>\n",
       "      <td>0</td>\n",
       "      <td>0</td>\n",
       "      <td>0</td>\n",
       "      <td>0</td>\n",
       "      <td>0</td>\n",
       "      <td>0.0</td>\n",
       "      <td>0.0</td>\n",
       "      <td>0</td>\n",
       "      <td>35</td>\n",
       "    </tr>\n",
       "    <tr>\n",
       "      <th>1</th>\n",
       "      <td>1</td>\n",
       "      <td>2015-01-28</td>\n",
       "      <td>1050611</td>\n",
       "      <td>3</td>\n",
       "      <td>2</td>\n",
       "      <td>1</td>\n",
       "      <td>2012-08-10</td>\n",
       "      <td>0.0</td>\n",
       "      <td>292</td>\n",
       "      <td>1.0</td>\n",
       "      <td>...</td>\n",
       "      <td>0</td>\n",
       "      <td>0</td>\n",
       "      <td>0</td>\n",
       "      <td>0</td>\n",
       "      <td>0</td>\n",
       "      <td>0</td>\n",
       "      <td>0.0</td>\n",
       "      <td>0.0</td>\n",
       "      <td>0</td>\n",
       "      <td>23</td>\n",
       "    </tr>\n",
       "    <tr>\n",
       "      <th>2</th>\n",
       "      <td>2</td>\n",
       "      <td>2015-01-28</td>\n",
       "      <td>1050612</td>\n",
       "      <td>3</td>\n",
       "      <td>2</td>\n",
       "      <td>1</td>\n",
       "      <td>2012-08-10</td>\n",
       "      <td>0.0</td>\n",
       "      <td>292</td>\n",
       "      <td>1.0</td>\n",
       "      <td>...</td>\n",
       "      <td>0</td>\n",
       "      <td>0</td>\n",
       "      <td>0</td>\n",
       "      <td>0</td>\n",
       "      <td>0</td>\n",
       "      <td>0</td>\n",
       "      <td>0.0</td>\n",
       "      <td>0.0</td>\n",
       "      <td>0</td>\n",
       "      <td>23</td>\n",
       "    </tr>\n",
       "    <tr>\n",
       "      <th>3</th>\n",
       "      <td>3</td>\n",
       "      <td>2015-01-28</td>\n",
       "      <td>1050613</td>\n",
       "      <td>3</td>\n",
       "      <td>2</td>\n",
       "      <td>0</td>\n",
       "      <td>2012-08-10</td>\n",
       "      <td>0.0</td>\n",
       "      <td>292</td>\n",
       "      <td>1.0</td>\n",
       "      <td>...</td>\n",
       "      <td>0</td>\n",
       "      <td>0</td>\n",
       "      <td>0</td>\n",
       "      <td>0</td>\n",
       "      <td>0</td>\n",
       "      <td>0</td>\n",
       "      <td>0.0</td>\n",
       "      <td>0.0</td>\n",
       "      <td>0</td>\n",
       "      <td>22</td>\n",
       "    </tr>\n",
       "    <tr>\n",
       "      <th>4</th>\n",
       "      <td>5</td>\n",
       "      <td>2015-01-28</td>\n",
       "      <td>1050615</td>\n",
       "      <td>3</td>\n",
       "      <td>2</td>\n",
       "      <td>0</td>\n",
       "      <td>2012-08-10</td>\n",
       "      <td>0.0</td>\n",
       "      <td>292</td>\n",
       "      <td>1.0</td>\n",
       "      <td>...</td>\n",
       "      <td>0</td>\n",
       "      <td>0</td>\n",
       "      <td>0</td>\n",
       "      <td>0</td>\n",
       "      <td>0</td>\n",
       "      <td>0</td>\n",
       "      <td>0.0</td>\n",
       "      <td>0.0</td>\n",
       "      <td>0</td>\n",
       "      <td>23</td>\n",
       "    </tr>\n",
       "  </tbody>\n",
       "</table>\n",
       "<p>5 rows × 47 columns</p>\n",
       "</div>"
      ],
      "text/plain": [
       "   Unnamed: 0        date  customerid  employee_index  country_residence  \\\n",
       "0           0  2015-01-28     1375586               3                  2   \n",
       "1           1  2015-01-28     1050611               3                  2   \n",
       "2           2  2015-01-28     1050612               3                  2   \n",
       "3           3  2015-01-28     1050613               3                  2   \n",
       "4           5  2015-01-28     1050615               3                  2   \n",
       "\n",
       "   gender date_of_first_holder_contract  new_customer_index  \\\n",
       "0       0                    2015-01-12                 0.0   \n",
       "1       1                    2012-08-10                 0.0   \n",
       "2       1                    2012-08-10                 0.0   \n",
       "3       0                    2012-08-10                 0.0   \n",
       "4       0                    2012-08-10                 0.0   \n",
       "\n",
       "   customer_seniority  primary_or_not ...  pensions_plan  loans  tax  \\\n",
       "0                 263             1.0 ...              0      0    0   \n",
       "1                 292             1.0 ...              0      0    0   \n",
       "2                 292             1.0 ...              0      0    0   \n",
       "3                 292             1.0 ...              0      0    0   \n",
       "4                 292             1.0 ...              0      0    0   \n",
       "\n",
       "   credit_card  securities  home_account  payroll  pensions  direct_debit   1  \n",
       "0            0           0             0      0.0       0.0             0  35  \n",
       "1            0           0             0      0.0       0.0             0  23  \n",
       "2            0           0             0      0.0       0.0             0  23  \n",
       "3            0           0             0      0.0       0.0             0  22  \n",
       "4            0           0             0      0.0       0.0             0  23  \n",
       "\n",
       "[5 rows x 47 columns]"
      ]
     },
     "execution_count": 30,
     "metadata": {},
     "output_type": "execute_result"
    }
   ],
   "source": [
    "df_all = df_all.drop(['age','Unnamed: 0'],axis=1)\n",
    "df_all.rename(columns={1:'age'},inplace=True)\n",
    "df_all.head()"
   ]
  },
  {
   "cell_type": "markdown",
   "metadata": {},
   "source": [
    "#### Analyzing by visuals\n",
    "\n",
    "We will have a look at some of the obvious characteristic of humans and their relations to out target variables to have a sense of our business case.\n",
    "\n",
    "We will analyze\n",
    "\n",
    "1. By Age groups\n",
    "2. By Gender\n",
    "3. Residency\n",
    "4. Income group\n"
   ]
  },
  {
   "cell_type": "code",
   "execution_count": 89,
   "metadata": {},
   "outputs": [
    {
     "data": {
      "image/png": "[encoded data removed]",
      "text/plain": [
       "<Figure size 720x720 with 1 Axes>"
      ]
     },
     "metadata": {},
     "output_type": "display_data"
    }
   ],
   "source": [
    "with sns.plotting_context(\"notebook\",font_scale=1.5):\n",
    "    plt.figure(figsize=(10,10))\n",
    "    sns.set_style(\"whitegrid\")\n",
    "    sns.distplot(df_all[\"age\"],\n",
    "                 bins=80,\n",
    "                 kde=False,\n",
    "                 color=\"tomato\")\n",
    "    plt.title(\"Age Distribution\")\n",
    "    plt.ylabel(\"Count\")\n",
    "    plt.xlim((15,100))"
   ]
  },
  {
   "cell_type": "code",
   "execution_count": 183,
   "metadata": {},
   "outputs": [],
   "source": [
    "df_all['AgeCat'] = pd.cut(df_all.age, bins=np.linspace(df_all.age.min()-1, df_all.age.max(), 11))\n",
    "df_all['AgeCat'] = df_all['AgeCat'].astype(str)"
   ]
  },
  {
   "cell_type": "code",
   "execution_count": 184,
   "metadata": {},
   "outputs": [],
   "source": [
    "normalize_vals = df_all['AgeCat'].value_counts()\n",
    "age_category = df_all.groupby('AgeCat').sum()"
   ]
  },
  {
   "cell_type": "code",
   "execution_count": 193,
   "metadata": {},
   "outputs": [],
   "source": [
    "normalize_df = pd.DataFrame([normalize_vals.index,normalize_vals]).T"
   ]
  },
  {
   "cell_type": "code",
   "execution_count": 186,
   "metadata": {},
   "outputs": [],
   "source": [
    "age_category.drop(age_category.iloc[0:1,:21].columns,axis=1,inplace=True)\n",
    "age_category.drop('age',axis=1,inplace=True)"
   ]
  },
  {
   "cell_type": "code",
   "execution_count": 194,
   "metadata": {},
   "outputs": [
    {
     "data": {
      "text/html": [
       "<div>\n",
       "<style scoped>\n",
       "    .dataframe tbody tr th:only-of-type {\n",
       "        vertical-align: middle;\n",
       "    }\n",
       "\n",
       "    .dataframe tbody tr th {\n",
       "        vertical-align: top;\n",
       "    }\n",
       "\n",
       "    .dataframe thead th {\n",
       "        text-align: right;\n",
       "    }\n",
       "</style>\n",
       "<table border=\"1\" class=\"dataframe\">\n",
       "  <thead>\n",
       "    <tr style=\"text-align: right;\">\n",
       "      <th></th>\n",
       "      <th>cat</th>\n",
       "      <th>number</th>\n",
       "    </tr>\n",
       "  </thead>\n",
       "  <tbody>\n",
       "    <tr>\n",
       "      <th>0</th>\n",
       "      <td>(13.6, 26.2]</td>\n",
       "      <td>3167065</td>\n",
       "    </tr>\n",
       "    <tr>\n",
       "      <th>1</th>\n",
       "      <td>(38.8, 51.4]</td>\n",
       "      <td>3038977</td>\n",
       "    </tr>\n",
       "    <tr>\n",
       "      <th>2</th>\n",
       "      <td>(26.2, 38.8]</td>\n",
       "      <td>1932641</td>\n",
       "    </tr>\n",
       "    <tr>\n",
       "      <th>3</th>\n",
       "      <td>(51.4, 64.0]</td>\n",
       "      <td>1480858</td>\n",
       "    </tr>\n",
       "    <tr>\n",
       "      <th>4</th>\n",
       "      <td>(64.0, 76.6]</td>\n",
       "      <td>683632</td>\n",
       "    </tr>\n",
       "    <tr>\n",
       "      <th>5</th>\n",
       "      <td>(76.6, 89.2]</td>\n",
       "      <td>337835</td>\n",
       "    </tr>\n",
       "    <tr>\n",
       "      <th>6</th>\n",
       "      <td>(89.2, 101.8]</td>\n",
       "      <td>87045</td>\n",
       "    </tr>\n",
       "    <tr>\n",
       "      <th>7</th>\n",
       "      <td>(1.0, 13.6]</td>\n",
       "      <td>59120</td>\n",
       "    </tr>\n",
       "    <tr>\n",
       "      <th>8</th>\n",
       "      <td>(101.8, 114.4]</td>\n",
       "      <td>8066</td>\n",
       "    </tr>\n",
       "    <tr>\n",
       "      <th>9</th>\n",
       "      <td>(114.4, 127.0]</td>\n",
       "      <td>153</td>\n",
       "    </tr>\n",
       "  </tbody>\n",
       "</table>\n",
       "</div>"
      ],
      "text/plain": [
       "              cat   number\n",
       "0    (13.6, 26.2]  3167065\n",
       "1    (38.8, 51.4]  3038977\n",
       "2    (26.2, 38.8]  1932641\n",
       "3    (51.4, 64.0]  1480858\n",
       "4    (64.0, 76.6]   683632\n",
       "5    (76.6, 89.2]   337835\n",
       "6   (89.2, 101.8]    87045\n",
       "7     (1.0, 13.6]    59120\n",
       "8  (101.8, 114.4]     8066\n",
       "9  (114.4, 127.0]      153"
      ]
     },
     "execution_count": 194,
     "metadata": {},
     "output_type": "execute_result"
    }
   ],
   "source": [
    "# WE are going to normalize each age categories behavior according to their number\n",
    "\n",
    "normalize_df.rename({0:'cat',1:'number'},axis=1,inplace=True)\n",
    "normalize_df.number = normalize_df.number.astype(int)\n"
   ]
  },
  {
   "cell_type": "code",
   "execution_count": 237,
   "metadata": {},
   "outputs": [],
   "source": []
  },
  {
   "cell_type": "code",
   "execution_count": 238,
   "metadata": {},
   "outputs": [],
   "source": [
    "df_new = pd.DataFrame()\n",
    "for ind in age_category.index:\n",
    "    normalizer = int(normalize_df[normalize_df['cat'] == ind ]['number'])\n",
    "    ser = age_category.loc[ind].div(normalizer,axis=0)\n",
    "    df_new = df_new.append(ser.T,ignore_index=False)"
   ]
  },
  {
   "cell_type": "code",
   "execution_count": 254,
   "metadata": {},
   "outputs": [
    {
     "data": {
      "text/plain": [
       "<matplotlib.axes._subplots.AxesSubplot at 0x1a719be080>"
      ]
     },
     "execution_count": 254,
     "metadata": {},
     "output_type": "execute_result"
    },
    {
     "data": {
      "image/png": "[encoded data removed]",
      "text/plain": [
       "<Figure size 864x864 with 1 Axes>"
      ]
     },
     "metadata": {},
     "output_type": "display_data"
    }
   ],
   "source": [
    "\n",
    "df_new.plot(kind='barh',stacked=True,figsize=(12,12))"
   ]
  },
  {
   "cell_type": "markdown",
   "metadata": {},
   "source": [
    "### Age related analysis\n",
    "\n",
    "A current-acccount is a product that is used by each age group which is basically\n",
    "The age group which buys most the product is between 38-51 years old. This graph is weighted with their total number of customers. So we can see which age group uses which product the most. Mortgage is more popular after age 38-64."
   ]
  },
  {
   "cell_type": "code",
   "execution_count": 92,
   "metadata": {},
   "outputs": [],
   "source": [
    "# Get our target variable dataset\n",
    "target = df_all.iloc[:,21:].copy()"
   ]
  },
  {
   "cell_type": "code",
   "execution_count": 252,
   "metadata": {},
   "outputs": [
    {
     "data": {
      "text/plain": [
       "array([[<matplotlib.axes._subplots.AxesSubplot object at 0x1a71b56c50>,\n",
       "        <matplotlib.axes._subplots.AxesSubplot object at 0x1a720dd0b8>,\n",
       "        <matplotlib.axes._subplots.AxesSubplot object at 0x1a720e56d8>,\n",
       "        <matplotlib.axes._subplots.AxesSubplot object at 0x1a71fd2f28>,\n",
       "        <matplotlib.axes._subplots.AxesSubplot object at 0x1a720008d0>],\n",
       "       [<matplotlib.axes._subplots.AxesSubplot object at 0x1a7202e278>,\n",
       "        <matplotlib.axes._subplots.AxesSubplot object at 0x1a725b3be0>,\n",
       "        <matplotlib.axes._subplots.AxesSubplot object at 0x1a725e15c0>,\n",
       "        <matplotlib.axes._subplots.AxesSubplot object at 0x1a725e15f8>,\n",
       "        <matplotlib.axes._subplots.AxesSubplot object at 0x1a71d57898>],\n",
       "       [<matplotlib.axes._subplots.AxesSubplot object at 0x1a71d86240>,\n",
       "        <matplotlib.axes._subplots.AxesSubplot object at 0x1a71dacba8>,\n",
       "        <matplotlib.axes._subplots.AxesSubplot object at 0x1a7263a550>,\n",
       "        <matplotlib.axes._subplots.AxesSubplot object at 0x1a72661eb8>,\n",
       "        <matplotlib.axes._subplots.AxesSubplot object at 0x1a72690860>],\n",
       "       [<matplotlib.axes._subplots.AxesSubplot object at 0x1a726b4c18>,\n",
       "        <matplotlib.axes._subplots.AxesSubplot object at 0x1a726e15c0>,\n",
       "        <matplotlib.axes._subplots.AxesSubplot object at 0x1a72709f28>,\n",
       "        <matplotlib.axes._subplots.AxesSubplot object at 0x1a727358d0>,\n",
       "        <matplotlib.axes._subplots.AxesSubplot object at 0x1a72764278>],\n",
       "       [<matplotlib.axes._subplots.AxesSubplot object at 0x1a72bb9be0>,\n",
       "        <matplotlib.axes._subplots.AxesSubplot object at 0x1a72be6588>,\n",
       "        <matplotlib.axes._subplots.AxesSubplot object at 0x1a72c0eef0>,\n",
       "        <matplotlib.axes._subplots.AxesSubplot object at 0x1a72c3d898>,\n",
       "        <matplotlib.axes._subplots.AxesSubplot object at 0x1a72c6c240>]],\n",
       "      dtype=object)"
      ]
     },
     "execution_count": 252,
     "metadata": {},
     "output_type": "execute_result"
    },
    {
     "data": {
      "image/png": "[encoded data removed]",
      "text/plain": [
       "<Figure size 864x864 with 25 Axes>"
      ]
     },
     "metadata": {},
     "output_type": "display_data"
    }
   ],
   "source": [
    "target.hist(figsize=(12,12))"
   ]
  },
  {
   "cell_type": "markdown",
   "metadata": {},
   "source": [
    "### Gender"
   ]
  },
  {
   "cell_type": "code",
   "execution_count": 247,
   "metadata": {},
   "outputs": [],
   "source": [
    "province = sorted(df_all.groupby('province_name')['gross_income'].median())\n",
    "gender = df_all.groupby('gender')['gross_income'].median()\n",
    "uniquecust = df_all.groupby('customerid').sum()"
   ]
  },
  {
   "cell_type": "code",
   "execution_count": 248,
   "metadata": {},
   "outputs": [],
   "source": [
    "uniquecust = uniquecust.iloc[:,20:]"
   ]
  },
  {
   "cell_type": "code",
   "execution_count": 297,
   "metadata": {},
   "outputs": [
    {
     "name": "stderr",
     "output_type": "stream",
     "text": [
      "/Users/kaanbursa/opt/anaconda3/envs/learn-env/lib/python3.6/site-packages/matplotlib/figure.py:98: MatplotlibDeprecationWarning: \n",
      "Adding an axes using the same arguments as a previous axes currently reuses the earlier instance.  In a future version, a new instance will always be created and returned.  Meanwhile, this warning can be suppressed, and the future behavior ensured, by passing a unique label to each axes instance.\n",
      "  \"Adding an axes using the same arguments as a previous axes \"\n"
     ]
    },
    {
     "data": {
      "text/plain": [
       "<matplotlib.axes._subplots.AxesSubplot at 0x1a78664a58>"
      ]
     },
     "execution_count": 297,
     "metadata": {},
     "output_type": "execute_result"
    },
    {
     "data": {
      "image/png": "[encoded data removed]",
      "text/plain": [
       "<Figure size 864x576 with 4 Axes>"
      ]
     },
     "metadata": {
      "needs_background": "light"
     },
     "output_type": "display_data"
    }
   ],
   "source": [
    "plt.figure(figsize=(12,8))\n",
    "plt.subplot(224)\n",
    "\n",
    "ax1 = plt.subplot(221)\n",
    "gender = df_all.groupby('gender')['gross_income'].median()\n",
    "sns.barplot(['Female','Male'],gender, ax=ax1)\n",
    "\n",
    "ax2 = plt.subplot(222)\n",
    "gencur = df_all.groupby('gender')['current_accounts'].sum()\n",
    "sns.barplot(['Female','Male'],gencur,ax=ax2)\n",
    "\n",
    "ax3 = plt.subplot(223)\n",
    "loans = df_all.groupby('gender')['loans'].sum()\n",
    "sns.barplot(['Female','Male'],loans,ax=ax3)\n",
    "\n",
    "ax4 = plt.subplot(224)\n",
    "mortgage = df_all.groupby('gender')['mortgage'].sum()\n",
    "sns.barplot(['Female','Male'],mortgage,ax=ax4)"
   ]
  },
  {
   "cell_type": "markdown",
   "metadata": {},
   "source": [
    "### Gender Based analysis\n",
    "\n",
    "We can see the characteristic of genders and their behavoir. "
   ]
  },
  {
   "cell_type": "code",
   "execution_count": 263,
   "metadata": {},
   "outputs": [
    {
     "data": {
      "text/plain": [
       "{'saving_account': [0.9998843024875799, 0.00011569751242011406],\n",
       " 'guarantees': [0.9999727661580052, 2.7233841994806673e-05],\n",
       " 'current_accounts': [0.656235549389962, 0.3437644506100381],\n",
       " 'derivada_accounts': [0.9995790796665837, 0.0004209203334163317],\n",
       " 'payroll_accounts': [0.9117315054423221, 0.08826849455767795],\n",
       " 'junior_accounts': [0.9896726306927993, 0.010327369307200702],\n",
       " 'mas_particular_accounts': [0.9907558706529601, 0.009244129347039923],\n",
       " 'particular_accounts': [0.8615510210282313, 0.1384489789717687],\n",
       " 'particular_plus': [0.9528785059403123, 0.04712149405968769],\n",
       " 'short_term_deposits': [0.9983355861463854, 0.0016644138536145792],\n",
       " 'medium_term_deposits': [0.9982283181564875, 0.0017716818435124912],\n",
       " 'ind_dela_fin_ult1': [0.9531697413118486, 0.04683025868815139],\n",
       " 'e_account': [0.9100142912827992, 0.08998570871720082],\n",
       " 'funds': [0.9800243474252718, 0.01997565257472818],\n",
       " 'mortgage': [0.9934516504819835, 0.006548349518016576],\n",
       " 'pensions_plan': [0.9898289010718647, 0.010171098928135263],\n",
       " 'loans': [0.9973623005074758, 0.002637699492524218],\n",
       " 'tax': [0.9422439685376872, 0.05775603146231281],\n",
       " 'credit_card': [0.9512103868020726, 0.04878961319792741],\n",
       " 'securities': [0.9725348556124688, 0.02746514438753127],\n",
       " 'home_account': [0.9956906613488422, 0.0043093386511578275],\n",
       " 'payroll': [0.939972629062474, 0.060027370937525935],\n",
       " 'pensions': [0.934775226318785, 0.0652247736812151],\n",
       " 'direct_debit': [0.861787047658853, 0.13821295234114703]}"
      ]
     },
     "execution_count": 263,
     "metadata": {},
     "output_type": "execute_result"
    }
   ],
   "source": [
    "# Visualizing the class imbalance for the target vectors\n",
    "# Most of our target vars is imbalanced only currenct acocunt is column is better balanced\n",
    "imbalance_dict = {}\n",
    "for col in target.columns[:-1]:\n",
    "    f,t = target[col].value_counts()\n",
    "    imbalance_dict[col] = [f /  (f + t),t / (f + t)]\n",
    "    \n",
    "imbalance_dict"
   ]
  },
  {
   "cell_type": "markdown",
   "metadata": {},
   "source": [
    "## Modeling\n",
    "\n",
    "1. Decision Tree\n",
    "2. KNN\n",
    "3. Random Forest\n",
    "4. Random Forest twitching with XGboost\n",
    "5. Support Vector Machines\n",
    "6. Ensemble Method"
   ]
  },
  {
   "cell_type": "code",
   "execution_count": 264,
   "metadata": {},
   "outputs": [],
   "source": [
    "subsample = df_all.sample(frac=0.05, random_state=1)"
   ]
  },
  {
   "cell_type": "code",
   "execution_count": 267,
   "metadata": {},
   "outputs": [],
   "source": [
    "target_sub = subsample['current_accounts']"
   ]
  },
  {
   "cell_type": "code",
   "execution_count": 272,
   "metadata": {},
   "outputs": [],
   "source": [
    "subsample = subsample.iloc[:,:21]"
   ]
  },
  {
   "cell_type": "code",
   "execution_count": null,
   "metadata": {},
   "outputs": [],
   "source": []
  }
 ],
 "metadata": {
  "kernelspec": {
   "display_name": "Python [conda env:learn-env] *",
   "language": "python",
   "name": "conda-env-learn-env-py"
  },
  "language_info": {
   "codemirror_mode": {
    "name": "ipython",
    "version": 3
   },
   "file_extension": ".py",
   "mimetype": "text/x-python",
   "name": "python",
   "nbconvert_exporter": "python",
   "pygments_lexer": "ipython3",
   "version": "3.6.6"
  }
 },
 "nbformat": 4,
 "nbformat_minor": 2
}
